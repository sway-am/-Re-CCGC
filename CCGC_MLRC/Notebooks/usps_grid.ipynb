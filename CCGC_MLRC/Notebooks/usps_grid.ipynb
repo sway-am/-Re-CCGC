{
 "cells": [
  {
   "cell_type": "markdown",
   "metadata": {
    "id": "cO16W6X3exkD"
   },
   "source": []
  },
  {
   "cell_type": "code",
   "execution_count": null,
   "metadata": {
    "colab": {
     "base_uri": "https://localhost:8080/"
    },
    "id": "LtFWwOoMUJ5K",
    "outputId": "c5af7842-d6a1-4c0e-bab0-4dd381496309"
   },
   "outputs": [
    {
     "name": "stdout",
     "output_type": "stream",
     "text": [
      "Mounted at /content/drive\n"
     ]
    }
   ],
   "source": [
    "from google.colab import drive\n",
    "drive.mount('/content/drive')"
   ]
  },
  {
   "cell_type": "markdown",
   "metadata": {},
   "source": [
    "* *Here copy the path of the **Re-CCGC** cloned folder also make the necessary changes of path in utils.py **load_graph_data()** function*\n",
    "*  *Remove feature smoothening in train.py*\n",
    "*  *Introduce PCA commented in load_graph_data() function utils.py*"
   ]
  },
  {
   "cell_type": "code",
   "execution_count": null,
   "metadata": {
    "colab": {
     "base_uri": "https://localhost:8080/"
    },
    "id": "ATap_eWLUWTG",
    "outputId": "a7560c31-f4fa-4f44-ffa9-1a1bfdbccdda"
   },
   "outputs": [
    {
     "name": "stdout",
     "output_type": "stream",
     "text": [
      "/content/drive/MyDrive/CCGC_MLRC\n"
     ]
    }
   ],
   "source": [
    "%cd /content/drive/MyDrive/CCGC_MLRC"
   ]
  },
  {
   "cell_type": "code",
   "execution_count": null,
   "metadata": {
    "colab": {
     "base_uri": "https://localhost:8080/"
    },
    "id": "mgs6Q88HUi3Z",
    "outputId": "d9a192db-d936-4773-9b20-e8f1ba02ab6e"
   },
   "outputs": [
    {
     "name": "stdout",
     "output_type": "stream",
     "text": [
      "Collecting munkres\n",
      "  Downloading munkres-1.1.4-py2.py3-none-any.whl (7.0 kB)\n",
      "Installing collected packages: munkres\n",
      "Successfully installed munkres-1.1.4\n",
      "Collecting torch.geometric\n",
      "  Downloading torch_geometric-2.4.0-py3-none-any.whl (1.0 MB)\n",
      "\u001b[2K     \u001b[90m━━━━━━━━━━━━━━━━━━━━━━━━━━━━━━━━━━━━━━━━\u001b[0m \u001b[32m1.0/1.0 MB\u001b[0m \u001b[31m12.9 MB/s\u001b[0m eta \u001b[36m0:00:00\u001b[0m\n",
      "\u001b[?25hRequirement already satisfied: tqdm in /usr/local/lib/python3.10/dist-packages (from torch.geometric) (4.66.1)\n",
      "Requirement already satisfied: numpy in /usr/local/lib/python3.10/dist-packages (from torch.geometric) (1.23.5)\n",
      "Requirement already satisfied: scipy in /usr/local/lib/python3.10/dist-packages (from torch.geometric) (1.11.4)\n",
      "Requirement already satisfied: jinja2 in /usr/local/lib/python3.10/dist-packages (from torch.geometric) (3.1.3)\n",
      "Requirement already satisfied: requests in /usr/local/lib/python3.10/dist-packages (from torch.geometric) (2.31.0)\n",
      "Requirement already satisfied: pyparsing in /usr/local/lib/python3.10/dist-packages (from torch.geometric) (3.1.1)\n",
      "Requirement already satisfied: scikit-learn in /usr/local/lib/python3.10/dist-packages (from torch.geometric) (1.2.2)\n",
      "Requirement already satisfied: psutil>=5.8.0 in /usr/local/lib/python3.10/dist-packages (from torch.geometric) (5.9.5)\n",
      "Requirement already satisfied: MarkupSafe>=2.0 in /usr/local/lib/python3.10/dist-packages (from jinja2->torch.geometric) (2.1.4)\n",
      "Requirement already satisfied: charset-normalizer<4,>=2 in /usr/local/lib/python3.10/dist-packages (from requests->torch.geometric) (3.3.2)\n",
      "Requirement already satisfied: idna<4,>=2.5 in /usr/local/lib/python3.10/dist-packages (from requests->torch.geometric) (3.6)\n",
      "Requirement already satisfied: urllib3<3,>=1.21.1 in /usr/local/lib/python3.10/dist-packages (from requests->torch.geometric) (2.0.7)\n",
      "Requirement already satisfied: certifi>=2017.4.17 in /usr/local/lib/python3.10/dist-packages (from requests->torch.geometric) (2023.11.17)\n",
      "Requirement already satisfied: joblib>=1.1.1 in /usr/local/lib/python3.10/dist-packages (from scikit-learn->torch.geometric) (1.3.2)\n",
      "Requirement already satisfied: threadpoolctl>=2.0.0 in /usr/local/lib/python3.10/dist-packages (from scikit-learn->torch.geometric) (3.2.0)\n",
      "Installing collected packages: torch.geometric\n",
      "Successfully installed torch.geometric-2.4.0\n"
     ]
    }
   ],
   "source": [
    "!pip install munkres\n",
    "!pip install torch.geometric"
   ]
  },
  {
   "cell_type": "markdown",
   "metadata": {
    "id": "B9J9Na7Ginat"
   },
   "source": [
    "**USPS GRID SEARCH**"
   ]
  },
  {
   "cell_type": "code",
   "execution_count": null,
   "metadata": {
    "colab": {
     "base_uri": "https://localhost:8080/"
    },
    "id": "jaI98pjTWAYG",
    "outputId": "58caa22f-624f-4118-a24f-6403c5ea7c92"
   },
   "outputs": [
    {
     "name": "stdout",
     "output_type": "stream",
     "text": [
      "alpha:  0.5   tau:  0.5\n",
      "++++++++++++++++++++++++++++++\n",
      "---details of graph dataset---\n",
      "++++++++++++++++++++++++++++++\n",
      "dataset name:    usps\n",
      "feature shape:   (9298, 256)\n",
      "label shape:     (9298,)\n",
      "adj shape:       (9298, 9298)\n",
      "undirected edge num:    43226402\n",
      "category num:           10\n",
      "category distribution: \n",
      "label 0:1553\n",
      "label 1:1269\n",
      "label 2:929\n",
      "label 3:824\n",
      "label 4:852\n",
      "label 5:716\n",
      "label 6:834\n",
      "label 7:792\n",
      "label 8:708\n",
      "label 9:821\n",
      "++++++++++++++++++++++++++++++\n",
      "100% 400/400 [00:46<00:00,  8.66it/s]\n",
      "100% 400/400 [00:48<00:00,  8.26it/s]\n",
      "100% 400/400 [00:47<00:00,  8.47it/s]\n",
      "100% 400/400 [00:46<00:00,  8.69it/s]\n",
      "100% 400/400 [00:45<00:00,  8.88it/s]\n",
      "100% 400/400 [00:45<00:00,  8.79it/s]\n",
      "100% 400/400 [00:48<00:00,  8.21it/s]\n",
      "100% 400/400 [00:44<00:00,  9.02it/s]\n",
      "100% 400/400 [00:44<00:00,  8.97it/s]\n",
      "100% 400/400 [00:46<00:00,  8.66it/s]\n",
      "72.70165627016563 ± 2.9390401425857227\n",
      "63.29129086707444 ± 1.479906564320829\n",
      "57.194095064507316 ± 2.3313883776354833\n",
      "71.14326672157105 ± 3.3748895497941445\n"
     ]
    }
   ],
   "source": [
    "x = 0.5\n",
    "y = 0.5\n",
    "z = \"usps\"\n",
    "cluster_num = 10\n",
    "!python train.py --alpha $x --threshold $y --dataset $z --cluster_num $cluster_num"
   ]
  },
  {
   "cell_type": "code",
   "execution_count": null,
   "metadata": {
    "colab": {
     "base_uri": "https://localhost:8080/"
    },
    "id": "54fa5w_Vf0so",
    "outputId": "e5232c15-23b8-4767-ac0b-dd4081565ba3"
   },
   "outputs": [
    {
     "name": "stdout",
     "output_type": "stream",
     "text": [
      "alpha:  0.5   tau:  0.65\n",
      "++++++++++++++++++++++++++++++\n",
      "---details of graph dataset---\n",
      "++++++++++++++++++++++++++++++\n",
      "dataset name:    usps\n",
      "feature shape:   (9298, 256)\n",
      "label shape:     (9298,)\n",
      "adj shape:       (9298, 9298)\n",
      "undirected edge num:    43226402\n",
      "category num:           10\n",
      "category distribution: \n",
      "label 0:1553\n",
      "label 1:1269\n",
      "label 2:929\n",
      "label 3:824\n",
      "label 4:852\n",
      "label 5:716\n",
      "label 6:834\n",
      "label 7:792\n",
      "label 8:708\n",
      "label 9:821\n",
      "++++++++++++++++++++++++++++++\n",
      "100% 400/400 [00:52<00:00,  7.69it/s]\n",
      "100% 400/400 [00:51<00:00,  7.83it/s]\n",
      "100% 400/400 [00:51<00:00,  7.75it/s]\n",
      "100% 400/400 [00:50<00:00,  7.85it/s]\n",
      "100% 400/400 [00:53<00:00,  7.54it/s]\n",
      "100% 400/400 [00:52<00:00,  7.68it/s]\n",
      "100% 400/400 [00:52<00:00,  7.64it/s]\n",
      "100% 400/400 [00:52<00:00,  7.69it/s]\n",
      "100% 400/400 [00:51<00:00,  7.71it/s]\n",
      "100% 400/400 [00:51<00:00,  7.74it/s]\n",
      "73.55775435577543 ± 3.3009311254606866\n",
      "64.37751998113147 ± 1.3271152041076855\n",
      "58.61005631240217 ± 1.913026221233141\n",
      "72.09687885848288 ± 3.8965447333964285\n"
     ]
    }
   ],
   "source": [
    "x = 0.5\n",
    "y = 0.65\n",
    "z = \"usps\"\n",
    "cluster_num = 10\n",
    "!python train.py --alpha $x --threshold $y --dataset $z --cluster_num $cluster_num"
   ]
  },
  {
   "cell_type": "code",
   "execution_count": null,
   "metadata": {
    "colab": {
     "base_uri": "https://localhost:8080/"
    },
    "id": "L9ZCZWlYhMDN",
    "outputId": "804f56ea-bbfa-46f3-dd16-032d741f1ec4"
   },
   "outputs": [
    {
     "name": "stdout",
     "output_type": "stream",
     "text": [
      "alpha:  0.5   tau:  0.7\n",
      "++++++++++++++++++++++++++++++\n",
      "---details of graph dataset---\n",
      "++++++++++++++++++++++++++++++\n",
      "dataset name:    usps\n",
      "feature shape:   (9298, 256)\n",
      "label shape:     (9298,)\n",
      "adj shape:       (9298, 9298)\n",
      "undirected edge num:    43226402\n",
      "category num:           10\n",
      "category distribution: \n",
      "label 0:1553\n",
      "label 1:1269\n",
      "label 2:929\n",
      "label 3:824\n",
      "label 4:852\n",
      "label 5:716\n",
      "label 6:834\n",
      "label 7:792\n",
      "label 8:708\n",
      "label 9:821\n",
      "++++++++++++++++++++++++++++++\n",
      "100% 400/400 [00:55<00:00,  7.20it/s]\n",
      "100% 400/400 [00:54<00:00,  7.31it/s]\n",
      "100% 400/400 [00:55<00:00,  7.24it/s]\n",
      "100% 400/400 [00:53<00:00,  7.51it/s]\n",
      "100% 400/400 [00:55<00:00,  7.25it/s]\n",
      "100% 400/400 [00:55<00:00,  7.17it/s]\n",
      "100% 400/400 [00:55<00:00,  7.19it/s]\n",
      "100% 400/400 [00:53<00:00,  7.43it/s]\n",
      "100% 400/400 [00:54<00:00,  7.29it/s]\n",
      "100% 400/400 [00:54<00:00,  7.28it/s]\n",
      "73.37384383738438 ± 2.092637181882298\n",
      "63.78188701658028 ± 0.9921482916591846\n",
      "57.674993971851265 ± 1.6925331576631892\n",
      "71.8285696154702 ± 2.6542297218926296\n"
     ]
    }
   ],
   "source": [
    "x = 0.5\n",
    "y = 0.7\n",
    "z = \"usps\"\n",
    "cluster_num = 10\n",
    "!python train.py --alpha $x --threshold $y --dataset $z --cluster_num $cluster_num"
   ]
  },
  {
   "cell_type": "code",
   "execution_count": null,
   "metadata": {
    "colab": {
     "base_uri": "https://localhost:8080/"
    },
    "id": "J-F3UPCFk4nn",
    "outputId": "91402ff0-d6bb-4af5-d90b-2b40603b63cb"
   },
   "outputs": [
    {
     "name": "stdout",
     "output_type": "stream",
     "text": [
      "alpha:  1   tau:  0.5\n",
      "++++++++++++++++++++++++++++++\n",
      "---details of graph dataset---\n",
      "++++++++++++++++++++++++++++++\n",
      "dataset name:    usps\n",
      "feature shape:   (9298, 256)\n",
      "label shape:     (9298,)\n",
      "adj shape:       (9298, 9298)\n",
      "undirected edge num:    43226402\n",
      "category num:           10\n",
      "category distribution: \n",
      "label 0:1553\n",
      "label 1:1269\n",
      "label 2:929\n",
      "label 3:824\n",
      "label 4:852\n",
      "label 5:716\n",
      "label 6:834\n",
      "label 7:792\n",
      "label 8:708\n",
      "label 9:821\n",
      "++++++++++++++++++++++++++++++\n",
      "100% 400/400 [00:46<00:00,  8.60it/s]\n",
      "100% 400/400 [00:45<00:00,  8.81it/s]\n",
      "100% 400/400 [00:46<00:00,  8.65it/s]\n",
      "100% 400/400 [00:46<00:00,  8.69it/s]\n",
      "100% 400/400 [00:45<00:00,  8.72it/s]\n",
      "100% 400/400 [00:46<00:00,  8.53it/s]\n",
      "100% 400/400 [00:46<00:00,  8.69it/s]\n",
      "100% 400/400 [00:46<00:00,  8.65it/s]\n",
      "100% 400/400 [00:45<00:00,  8.84it/s]\n",
      "100% 400/400 [00:46<00:00,  8.66it/s]\n",
      "73.68788986878899 ± 3.2272539809542136\n",
      "63.976078586332406 ± 1.5575768097273057\n",
      "58.08268994379371 ± 2.5411495985550614\n",
      "72.3305006609971 ± 3.7950880838238454\n"
     ]
    }
   ],
   "source": [
    "x = 1\n",
    "y = 0.5\n",
    "z = \"usps\"\n",
    "cluster_num = 10\n",
    "!python train.py --alpha $x --threshold $y --dataset $z --cluster_num $cluster_num"
   ]
  },
  {
   "cell_type": "code",
   "execution_count": null,
   "metadata": {
    "colab": {
     "base_uri": "https://localhost:8080/"
    },
    "id": "dciBJPLynS5K",
    "outputId": "3cf84562-9e3f-42c7-e9a8-e6d9da0ae981"
   },
   "outputs": [
    {
     "name": "stdout",
     "output_type": "stream",
     "text": [
      "alpha:  1   tau:  0.65\n",
      "++++++++++++++++++++++++++++++\n",
      "---details of graph dataset---\n",
      "++++++++++++++++++++++++++++++\n",
      "dataset name:    usps\n",
      "feature shape:   (9298, 256)\n",
      "label shape:     (9298,)\n",
      "adj shape:       (9298, 9298)\n",
      "undirected edge num:    43226402\n",
      "category num:           10\n",
      "category distribution: \n",
      "label 0:1553\n",
      "label 1:1269\n",
      "label 2:929\n",
      "label 3:824\n",
      "label 4:852\n",
      "label 5:716\n",
      "label 6:834\n",
      "label 7:792\n",
      "label 8:708\n",
      "label 9:821\n",
      "++++++++++++++++++++++++++++++\n",
      "100% 400/400 [00:52<00:00,  7.62it/s]\n",
      "100% 400/400 [00:53<00:00,  7.52it/s]\n",
      "100% 400/400 [00:51<00:00,  7.72it/s]\n",
      "100% 400/400 [00:52<00:00,  7.68it/s]\n",
      "100% 400/400 [00:52<00:00,  7.58it/s]\n",
      "100% 400/400 [00:53<00:00,  7.48it/s]\n",
      "100% 400/400 [00:52<00:00,  7.68it/s]\n",
      "100% 400/400 [00:51<00:00,  7.73it/s]\n",
      "100% 400/400 [00:52<00:00,  7.65it/s]\n",
      "100% 400/400 [00:53<00:00,  7.53it/s]\n",
      "72.26070122607013 ± 2.9539185595097055\n",
      "63.42516778147568 ± 1.472110554243962\n",
      "57.12759635013309 ± 2.3356294152476837\n",
      "70.54691105933554 ± 3.5328125667892865\n"
     ]
    }
   ],
   "source": [
    "x = 1\n",
    "y = 0.65\n",
    "z = \"usps\"\n",
    "cluster_num = 10\n",
    "!python train.py --alpha $x --threshold $y --dataset $z --cluster_num $cluster_num"
   ]
  },
  {
   "cell_type": "code",
   "execution_count": null,
   "metadata": {
    "colab": {
     "base_uri": "https://localhost:8080/"
    },
    "id": "0CHZR_Ucpr95",
    "outputId": "cc40519f-d549-4180-fa95-5b0fcfa6ad23"
   },
   "outputs": [
    {
     "name": "stdout",
     "output_type": "stream",
     "text": [
      "alpha:  1   tau:  0.7\n",
      "++++++++++++++++++++++++++++++\n",
      "---details of graph dataset---\n",
      "++++++++++++++++++++++++++++++\n",
      "dataset name:    usps\n",
      "feature shape:   (9298, 256)\n",
      "label shape:     (9298,)\n",
      "adj shape:       (9298, 9298)\n",
      "undirected edge num:    43226402\n",
      "category num:           10\n",
      "category distribution: \n",
      "label 0:1553\n",
      "label 1:1269\n",
      "label 2:929\n",
      "label 3:824\n",
      "label 4:852\n",
      "label 5:716\n",
      "label 6:834\n",
      "label 7:792\n",
      "label 8:708\n",
      "label 9:821\n",
      "++++++++++++++++++++++++++++++\n",
      "100% 400/400 [00:54<00:00,  7.36it/s]\n",
      "100% 400/400 [00:54<00:00,  7.35it/s]\n",
      "100% 400/400 [00:54<00:00,  7.30it/s]\n",
      "100% 400/400 [00:54<00:00,  7.32it/s]\n",
      "100% 400/400 [00:54<00:00,  7.33it/s]\n",
      "100% 400/400 [00:55<00:00,  7.18it/s]\n",
      "100% 400/400 [00:55<00:00,  7.23it/s]\n",
      "100% 400/400 [00:53<00:00,  7.43it/s]\n",
      "100% 400/400 [00:54<00:00,  7.37it/s]\n",
      "100% 400/400 [00:54<00:00,  7.28it/s]\n",
      "74.5332329533233 ± 1.9200882064295788\n",
      "64.27063866331176 ± 1.1203955831706274\n",
      "58.6905604093033 ± 1.7025444066166835\n",
      "73.20261061519575 ± 2.2677541131945915\n"
     ]
    }
   ],
   "source": [
    "x = 1\n",
    "y = 0.7\n",
    "z = \"usps\"\n",
    "cluster_num = 10\n",
    "!python train.py --alpha $x --threshold $y --dataset $z --cluster_num $cluster_num"
   ]
  },
  {
   "cell_type": "code",
   "execution_count": null,
   "metadata": {
    "colab": {
     "base_uri": "https://localhost:8080/"
    },
    "id": "aw96m4V5rlhh",
    "outputId": "ac5d623b-c76e-47b5-dcc1-b5847d628932"
   },
   "outputs": [
    {
     "name": "stdout",
     "output_type": "stream",
     "text": [
      "alpha:  10   tau:  0.5\n",
      "++++++++++++++++++++++++++++++\n",
      "---details of graph dataset---\n",
      "++++++++++++++++++++++++++++++\n",
      "dataset name:    usps\n",
      "feature shape:   (9298, 256)\n",
      "label shape:     (9298,)\n",
      "adj shape:       (9298, 9298)\n",
      "undirected edge num:    43226402\n",
      "category num:           10\n",
      "category distribution: \n",
      "label 0:1553\n",
      "label 1:1269\n",
      "label 2:929\n",
      "label 3:824\n",
      "label 4:852\n",
      "label 5:716\n",
      "label 6:834\n",
      "label 7:792\n",
      "label 8:708\n",
      "label 9:821\n",
      "++++++++++++++++++++++++++++++\n",
      "100% 400/400 [00:45<00:00,  8.82it/s]\n",
      "100% 400/400 [00:45<00:00,  8.84it/s]\n",
      "100% 400/400 [00:47<00:00,  8.48it/s]\n",
      "100% 400/400 [00:45<00:00,  8.72it/s]\n",
      "100% 400/400 [00:46<00:00,  8.67it/s]\n",
      "100% 400/400 [00:46<00:00,  8.58it/s]\n",
      "100% 400/400 [00:45<00:00,  8.76it/s]\n",
      "100% 400/400 [00:46<00:00,  8.69it/s]\n",
      "100% 400/400 [00:45<00:00,  8.82it/s]\n",
      "100% 400/400 [00:45<00:00,  8.75it/s]\n",
      "74.99677349967735 ± 1.9059779744016911\n",
      "64.3908475348683 ± 0.8118270715802335\n",
      "58.98719866696805 ± 1.5877165930598267\n",
      "73.88815685632417 ± 2.1529671502487995\n"
     ]
    }
   ],
   "source": [
    "x = 10\n",
    "y = 0.5\n",
    "z = \"usps\"\n",
    "cluster_num = 10\n",
    "!python train.py --alpha $x --threshold $y --dataset $z --cluster_num $cluster_num"
   ]
  },
  {
   "cell_type": "code",
   "execution_count": null,
   "metadata": {
    "colab": {
     "base_uri": "https://localhost:8080/"
    },
    "id": "Ebn0hgCgtvqD",
    "outputId": "b4e42d62-db25-42b7-abf6-2f66ef3a39ae"
   },
   "outputs": [
    {
     "name": "stdout",
     "output_type": "stream",
     "text": [
      "alpha:  10   tau:  0.65\n",
      "++++++++++++++++++++++++++++++\n",
      "---details of graph dataset---\n",
      "++++++++++++++++++++++++++++++\n",
      "dataset name:    usps\n",
      "feature shape:   (9298, 256)\n",
      "label shape:     (9298,)\n",
      "adj shape:       (9298, 9298)\n",
      "undirected edge num:    43226402\n",
      "category num:           10\n",
      "category distribution: \n",
      "label 0:1553\n",
      "label 1:1269\n",
      "label 2:929\n",
      "label 3:824\n",
      "label 4:852\n",
      "label 5:716\n",
      "label 6:834\n",
      "label 7:792\n",
      "label 8:708\n",
      "label 9:821\n",
      "++++++++++++++++++++++++++++++\n",
      "100% 400/400 [00:53<00:00,  7.53it/s]\n",
      "100% 400/400 [00:52<00:00,  7.56it/s]\n",
      "100% 400/400 [00:53<00:00,  7.54it/s]\n",
      "100% 400/400 [00:52<00:00,  7.59it/s]\n",
      "100% 400/400 [00:53<00:00,  7.46it/s]\n",
      "100% 400/400 [00:54<00:00,  7.37it/s]\n",
      "100% 400/400 [00:53<00:00,  7.50it/s]\n",
      "100% 400/400 [00:53<00:00,  7.52it/s]\n",
      "100% 400/400 [00:54<00:00,  7.37it/s]\n",
      "100% 400/400 [00:54<00:00,  7.37it/s]\n",
      "73.90944289094429 ± 2.6238828246073433\n",
      "63.97471301384534 ± 1.3656861884101332\n",
      "58.10337043855325 ± 2.2195971699237176\n",
      "72.54851997668162 ± 3.03303971928629\n"
     ]
    }
   ],
   "source": [
    "x = 10\n",
    "y = 0.65\n",
    "z = \"usps\"\n",
    "cluster_num = 10\n",
    "!python train.py --alpha $x --threshold $y --dataset $z --cluster_num $cluster_num"
   ]
  },
  {
   "cell_type": "code",
   "execution_count": null,
   "metadata": {
    "colab": {
     "base_uri": "https://localhost:8080/"
    },
    "id": "dwejx5xm0UPk",
    "outputId": "74d0df2d-bfa4-47b8-eb91-d62b8efa4178"
   },
   "outputs": [
    {
     "name": "stdout",
     "output_type": "stream",
     "text": [
      "alpha:  10   tau:  0.7\n",
      "++++++++++++++++++++++++++++++\n",
      "---details of graph dataset---\n",
      "++++++++++++++++++++++++++++++\n",
      "dataset name:    usps\n",
      "feature shape:   (9298, 256)\n",
      "label shape:     (9298,)\n",
      "adj shape:       (9298, 9298)\n",
      "undirected edge num:    43226402\n",
      "category num:           10\n",
      "category distribution: \n",
      "label 0:1553\n",
      "label 1:1269\n",
      "label 2:929\n",
      "label 3:824\n",
      "label 4:852\n",
      "label 5:716\n",
      "label 6:834\n",
      "label 7:792\n",
      "label 8:708\n",
      "label 9:821\n",
      "++++++++++++++++++++++++++++++\n",
      "100% 400/400 [00:55<00:00,  7.23it/s]\n",
      "100% 400/400 [00:55<00:00,  7.18it/s]\n",
      "100% 400/400 [00:55<00:00,  7.20it/s]\n",
      "100% 400/400 [00:55<00:00,  7.19it/s]\n",
      "100% 400/400 [00:57<00:00,  6.95it/s]\n",
      "100% 400/400 [00:56<00:00,  7.13it/s]\n",
      "100% 400/400 [00:55<00:00,  7.22it/s]\n",
      "100% 400/400 [00:54<00:00,  7.29it/s]\n",
      "100% 400/400 [00:56<00:00,  7.03it/s]\n",
      "100% 400/400 [00:55<00:00,  7.19it/s]\n",
      "74.3998709399871 ± 2.3423644220913635\n",
      "64.18703926624252 ± 1.2407406887748147\n",
      "58.60917479833195 ± 2.0056264639153585\n",
      "72.96510466766205 ± 2.854951480629021\n"
     ]
    }
   ],
   "source": [
    "x = 10\n",
    "y = 0.7\n",
    "z = \"usps\"\n",
    "cluster_num = 10\n",
    "!python train.py --alpha $x --threshold $y --dataset $z --cluster_num $cluster_num"
   ]
  },
  {
   "cell_type": "code",
   "execution_count": null,
   "metadata": {
    "colab": {
     "base_uri": "https://localhost:8080/"
    },
    "id": "8f7ujPdU0aQm",
    "outputId": "5d4e2dce-4f69-40c9-807f-c4833b1f4acc"
   },
   "outputs": [
    {
     "name": "stdout",
     "output_type": "stream",
     "text": [
      "alpha:  0.1   tau:  0.5\n",
      "++++++++++++++++++++++++++++++\n",
      "---details of graph dataset---\n",
      "++++++++++++++++++++++++++++++\n",
      "dataset name:    usps\n",
      "feature shape:   (9298, 256)\n",
      "label shape:     (9298,)\n",
      "adj shape:       (9298, 9298)\n",
      "undirected edge num:    43226402\n",
      "category num:           10\n",
      "category distribution: \n",
      "label 0:1553\n",
      "label 1:1269\n",
      "label 2:929\n",
      "label 3:824\n",
      "label 4:852\n",
      "label 5:716\n",
      "label 6:834\n",
      "label 7:792\n",
      "label 8:708\n",
      "label 9:821\n",
      "++++++++++++++++++++++++++++++\n",
      "100% 400/400 [00:45<00:00,  8.71it/s]\n",
      "100% 400/400 [00:45<00:00,  8.74it/s]\n",
      "100% 400/400 [00:47<00:00,  8.49it/s]\n",
      "100% 400/400 [00:45<00:00,  8.80it/s]\n",
      "100% 400/400 [00:46<00:00,  8.63it/s]\n",
      "100% 400/400 [00:47<00:00,  8.37it/s]\n",
      "100% 400/400 [00:45<00:00,  8.73it/s]\n",
      "100% 400/400 [00:45<00:00,  8.79it/s]\n",
      "100% 400/400 [00:46<00:00,  8.59it/s]\n",
      "100% 400/400 [00:48<00:00,  8.21it/s]\n",
      "74.01376640137664 ± 2.7100246750483064\n",
      "63.965953338522944 ± 1.4463066744112574\n",
      "58.296660106586614 ± 2.3052167942541475\n",
      "72.62237003549401 ± 3.2653738252579663\n"
     ]
    }
   ],
   "source": [
    "x = 0.1\n",
    "y = 0.5\n",
    "z = \"usps\"\n",
    "cluster_num = 10\n",
    "!python train.py --alpha $x --threshold $y --dataset $z --cluster_num $cluster_num"
   ]
  },
  {
   "cell_type": "code",
   "execution_count": null,
   "metadata": {
    "colab": {
     "base_uri": "https://localhost:8080/"
    },
    "id": "hzePF7QC3blo",
    "outputId": "a3838111-9f30-48e8-86a6-31411ec5008b"
   },
   "outputs": [
    {
     "name": "stdout",
     "output_type": "stream",
     "text": [
      "alpha:  0.1   tau:  0.65\n",
      "++++++++++++++++++++++++++++++\n",
      "---details of graph dataset---\n",
      "++++++++++++++++++++++++++++++\n",
      "dataset name:    usps\n",
      "feature shape:   (9298, 256)\n",
      "label shape:     (9298,)\n",
      "adj shape:       (9298, 9298)\n",
      "undirected edge num:    43226402\n",
      "category num:           10\n",
      "category distribution: \n",
      "label 0:1553\n",
      "label 1:1269\n",
      "label 2:929\n",
      "label 3:824\n",
      "label 4:852\n",
      "label 5:716\n",
      "label 6:834\n",
      "label 7:792\n",
      "label 8:708\n",
      "label 9:821\n",
      "++++++++++++++++++++++++++++++\n",
      "100% 400/400 [00:52<00:00,  7.58it/s]\n",
      "100% 400/400 [00:53<00:00,  7.54it/s]\n",
      "100% 400/400 [00:53<00:00,  7.48it/s]\n",
      "100% 400/400 [00:52<00:00,  7.64it/s]\n",
      "100% 400/400 [00:53<00:00,  7.44it/s]\n",
      "100% 400/400 [00:53<00:00,  7.42it/s]\n",
      "100% 400/400 [00:52<00:00,  7.69it/s]\n",
      "100% 400/400 [00:52<00:00,  7.67it/s]\n",
      "100% 400/400 [00:51<00:00,  7.73it/s]\n",
      "100% 400/400 [00:53<00:00,  7.46it/s]\n",
      "73.9374058937406 ± 2.9625569474668163\n",
      "64.12273007623197 ± 1.426507728834005\n",
      "58.252632886589105 ± 2.343501448919863\n",
      "72.56551410827274 ± 3.5601835300709026\n"
     ]
    }
   ],
   "source": [
    "x = 0.1\n",
    "y = 0.65\n",
    "z = \"usps\"\n",
    "!python train.py --alpha $x --threshold $y --dataset $z"
   ]
  },
  {
   "cell_type": "code",
   "execution_count": null,
   "metadata": {
    "colab": {
     "base_uri": "https://localhost:8080/"
    },
    "id": "hoaS8T3k47X8",
    "outputId": "077b224a-c145-4449-f9ce-be28bf0eba0d"
   },
   "outputs": [
    {
     "name": "stdout",
     "output_type": "stream",
     "text": [
      "alpha:  0.1   tau:  0.65\n",
      "++++++++++++++++++++++++++++++\n",
      "---details of graph dataset---\n",
      "++++++++++++++++++++++++++++++\n",
      "dataset name:    usps\n",
      "feature shape:   (9298, 256)\n",
      "label shape:     (9298,)\n",
      "adj shape:       (9298, 9298)\n",
      "undirected edge num:    43226402\n",
      "category num:           10\n",
      "category distribution: \n",
      "label 0:1553\n",
      "label 1:1269\n",
      "label 2:929\n",
      "label 3:824\n",
      "label 4:852\n",
      "label 5:716\n",
      "label 6:834\n",
      "label 7:792\n",
      "label 8:708\n",
      "label 9:821\n",
      "++++++++++++++++++++++++++++++\n",
      "100% 400/400 [00:54<00:00,  7.30it/s]\n",
      "100% 400/400 [00:54<00:00,  7.33it/s]\n",
      "100% 400/400 [00:56<00:00,  7.13it/s]\n",
      "100% 400/400 [00:54<00:00,  7.33it/s]\n",
      "100% 400/400 [00:55<00:00,  7.27it/s]\n",
      "100% 400/400 [00:55<00:00,  7.18it/s]\n",
      "100% 400/400 [00:54<00:00,  7.28it/s]\n",
      "100% 400/400 [00:55<00:00,  7.25it/s]\n",
      "100% 400/400 [00:54<00:00,  7.28it/s]\n",
      "100% 400/400 [00:55<00:00,  7.18it/s]\n",
      "74.23316842331685 ± 2.0905121697319027\n",
      "64.28845891914804 ± 1.1200441636825147\n",
      "58.558132337429505 ± 1.4838658529303472\n",
      "72.85338946996069 ± 2.786366573049529\n"
     ]
    }
   ],
   "source": [
    "x = 1\n",
    "y = 0.7\n",
    "z = \"usps\"\n",
    "cluster_num = 10\n",
    "!python train.py --alpha $x --threshold $y --dataset $z --cluster_num $cluster_num"
   ]
  },
  {
   "cell_type": "code",
   "execution_count": null,
   "metadata": {
    "id": "6amUZf7r8_JF"
   },
   "outputs": [],
   "source": []
  }
 ],
 "metadata": {
  "accelerator": "GPU",
  "colab": {
   "gpuType": "T4",
   "provenance": []
  },
  "kernelspec": {
   "display_name": "Python 3 (ipykernel)",
   "language": "python",
   "name": "python3"
  },
  "language_info": {
   "codemirror_mode": {
    "name": "ipython",
    "version": 3
   },
   "file_extension": ".py",
   "mimetype": "text/x-python",
   "name": "python",
   "nbconvert_exporter": "python",
   "pygments_lexer": "ipython3",
   "version": "3.11.1"
  }
 },
 "nbformat": 4,
 "nbformat_minor": 1
}
