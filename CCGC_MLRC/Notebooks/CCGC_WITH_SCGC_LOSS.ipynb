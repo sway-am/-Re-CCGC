{
 "cells": [
  {
   "cell_type": "markdown",
   "metadata": {
    "id": "yEwqUNuvILvI"
   },
   "source": [
    "### REQUIREMENTS"
   ]
  },
  {
   "cell_type": "code",
   "execution_count": 1,
   "metadata": {
    "colab": {
     "base_uri": "https://localhost:8080/"
    },
    "id": "IYI1f1QcxJbJ",
    "outputId": "afe8a2b8-259b-448f-cd19-905e69e205d9"
   },
   "outputs": [
    {
     "name": "stdout",
     "output_type": "stream",
     "text": [
      "Mounted at /content/gdrive\n"
     ]
    }
   ],
   "source": [
    "from google.colab import drive\n",
    "drive.mount('/content/gdrive')"
   ]
  },
  {
   "cell_type": "code",
   "execution_count": 2,
   "metadata": {
    "colab": {
     "base_uri": "https://localhost:8080/"
    },
    "id": "SCI3RLNWxxd0",
    "outputId": "861e65d6-33c0-49fb-a5b0-c75d31f74ce0"
   },
   "outputs": [
    {
     "name": "stdout",
     "output_type": "stream",
     "text": [
      "/content/gdrive/MyDrive/CCGC_MLRC\n"
     ]
    }
   ],
   "source": [
    "%cd /content/gdrive/MyDrive/CCGC_MLRC"
   ]
  },
  {
   "cell_type": "code",
   "execution_count": 3,
   "metadata": {
    "colab": {
     "base_uri": "https://localhost:8080/"
    },
    "id": "FVl6LFrq03p5",
    "outputId": "9183c051-b01e-400f-e3d8-a4356254ad50"
   },
   "outputs": [
    {
     "name": "stdout",
     "output_type": "stream",
     "text": [
      "Collecting munkres\n",
      "  Downloading munkres-1.1.4-py2.py3-none-any.whl (7.0 kB)\n",
      "Installing collected packages: munkres\n",
      "Successfully installed munkres-1.1.4\n"
     ]
    }
   ],
   "source": [
    "!pip install munkres"
   ]
  },
  {
   "cell_type": "code",
   "execution_count": 4,
   "metadata": {
    "colab": {
     "base_uri": "https://localhost:8080/"
    },
    "id": "fkJrFs7v0676",
    "outputId": "ea7fe95b-c10d-463b-bb7e-c4b41566964f"
   },
   "outputs": [
    {
     "name": "stdout",
     "output_type": "stream",
     "text": [
      "Collecting torch_geometric\n",
      "  Downloading torch_geometric-2.4.0-py3-none-any.whl (1.0 MB)\n",
      "\u001b[2K     \u001b[90m━━━━━━━━━━━━━━━━━━━━━━━━━━━━━━━━━━━━━━━━\u001b[0m \u001b[32m1.0/1.0 MB\u001b[0m \u001b[31m6.3 MB/s\u001b[0m eta \u001b[36m0:00:00\u001b[0m\n",
      "\u001b[?25hRequirement already satisfied: tqdm in /usr/local/lib/python3.10/dist-packages (from torch_geometric) (4.66.1)\n",
      "Requirement already satisfied: numpy in /usr/local/lib/python3.10/dist-packages (from torch_geometric) (1.23.5)\n",
      "Requirement already satisfied: scipy in /usr/local/lib/python3.10/dist-packages (from torch_geometric) (1.11.4)\n",
      "Requirement already satisfied: jinja2 in /usr/local/lib/python3.10/dist-packages (from torch_geometric) (3.1.3)\n",
      "Requirement already satisfied: requests in /usr/local/lib/python3.10/dist-packages (from torch_geometric) (2.31.0)\n",
      "Requirement already satisfied: pyparsing in /usr/local/lib/python3.10/dist-packages (from torch_geometric) (3.1.1)\n",
      "Requirement already satisfied: scikit-learn in /usr/local/lib/python3.10/dist-packages (from torch_geometric) (1.2.2)\n",
      "Requirement already satisfied: psutil>=5.8.0 in /usr/local/lib/python3.10/dist-packages (from torch_geometric) (5.9.5)\n",
      "Requirement already satisfied: MarkupSafe>=2.0 in /usr/local/lib/python3.10/dist-packages (from jinja2->torch_geometric) (2.1.4)\n",
      "Requirement already satisfied: charset-normalizer<4,>=2 in /usr/local/lib/python3.10/dist-packages (from requests->torch_geometric) (3.3.2)\n",
      "Requirement already satisfied: idna<4,>=2.5 in /usr/local/lib/python3.10/dist-packages (from requests->torch_geometric) (3.6)\n",
      "Requirement already satisfied: urllib3<3,>=1.21.1 in /usr/local/lib/python3.10/dist-packages (from requests->torch_geometric) (2.0.7)\n",
      "Requirement already satisfied: certifi>=2017.4.17 in /usr/local/lib/python3.10/dist-packages (from requests->torch_geometric) (2023.11.17)\n",
      "Requirement already satisfied: joblib>=1.1.1 in /usr/local/lib/python3.10/dist-packages (from scikit-learn->torch_geometric) (1.3.2)\n",
      "Requirement already satisfied: threadpoolctl>=2.0.0 in /usr/local/lib/python3.10/dist-packages (from scikit-learn->torch_geometric) (3.2.0)\n",
      "Installing collected packages: torch_geometric\n",
      "Successfully installed torch_geometric-2.4.0\n"
     ]
    }
   ],
   "source": [
    "!pip install torch_geometric"
   ]
  },
  {
   "cell_type": "markdown",
   "metadata": {
    "id": "6k4ygaR6oOgV"
   },
   "source": [
    "### **Applying SCGC loss on graph dataset**\n",
    "* *Use modified train_SCGC_with_RNS_train.py file*"
   ]
  },
  {
   "cell_type": "markdown",
   "metadata": {
    "id": "hls5jObZlcZt"
   },
   "source": [
    "**CORA**"
   ]
  },
  {
   "cell_type": "code",
   "execution_count": 8,
   "metadata": {
    "colab": {
     "base_uri": "https://localhost:8080/"
    },
    "id": "-4nkDlJLlbog",
    "outputId": "82372ae7-6506-47c6-c798-d9b09c8f023a"
   },
   "outputs": [
    {
     "name": "stdout",
     "output_type": "stream",
     "text": [
      "Alpha: 0.5\n",
      "Threshold: 0.7\n",
      "100% 400/400 [00:17<00:00, 22.86it/s]\n",
      "100% 400/400 [00:18<00:00, 21.70it/s]\n",
      "100% 400/400 [00:19<00:00, 21.04it/s]\n",
      "100% 400/400 [00:16<00:00, 23.56it/s]\n",
      "100% 400/400 [00:16<00:00, 23.85it/s]\n",
      "100% 400/400 [00:16<00:00, 23.73it/s]\n",
      "100% 400/400 [00:17<00:00, 23.43it/s]\n",
      "100% 400/400 [00:17<00:00, 23.39it/s]\n",
      "100% 400/400 [00:17<00:00, 23.08it/s]\n",
      "100% 400/400 [00:17<00:00, 22.64it/s]\n",
      "73.0391432791728 ± 0.9473140657098827\n",
      "56.42259729074652 ± 0.8699680153192827\n",
      "50.577218577488104 ± 1.815219913123109\n",
      "68.4452861915722 ± 2.6596912991883928\n"
     ]
    }
   ],
   "source": [
    "ds = \"cora\"\n",
    "noc = 7\n",
    "dims = 1433\n",
    "!python train_SCGC_with_RNS_train.py --dataset $ds --cluster_num $noc --dims $dims"
   ]
  },
  {
   "cell_type": "markdown",
   "metadata": {
    "id": "DtnLQdSTqJqu"
   },
   "source": [
    "**CITESEER**"
   ]
  },
  {
   "cell_type": "code",
   "execution_count": 24,
   "metadata": {
    "colab": {
     "base_uri": "https://localhost:8080/"
    },
    "id": "CmKk2Qzgn9Rs",
    "outputId": "dde5f3a7-f0cf-438b-e8af-90dfac18baec"
   },
   "outputs": [
    {
     "name": "stdout",
     "output_type": "stream",
     "text": [
      "Alpha: 0.5\n",
      "Threshold: 0.7\n",
      "100% 400/400 [01:10<00:00,  5.70it/s]\n",
      "100% 400/400 [01:12<00:00,  5.54it/s]\n",
      "100% 400/400 [01:14<00:00,  5.40it/s]\n",
      "100% 400/400 [01:15<00:00,  5.32it/s]\n",
      "100% 400/400 [01:15<00:00,  5.27it/s]\n",
      "100% 400/400 [01:16<00:00,  5.25it/s]\n",
      "100% 400/400 [01:16<00:00,  5.22it/s]\n",
      "100% 400/400 [01:16<00:00,  5.25it/s]\n",
      "100% 400/400 [01:16<00:00,  5.22it/s]\n",
      "100% 400/400 [01:16<00:00,  5.23it/s]\n",
      "70.30958821761347 ± 0.4449670423491939\n",
      "44.58470327243458 ± 0.6204622043182185\n",
      "45.12097153526028 ± 0.5433118535107676\n",
      "62.24859972704179 ± 1.518481134167615\n"
     ]
    }
   ],
   "source": [
    "ds = \"citeseer\"\n",
    "noc = 6\n",
    "dims = 3703\n",
    "!python train_SCGC_with_RNS_train.py --dataset $ds --cluster_num $noc --dims $dims"
   ]
  },
  {
   "cell_type": "markdown",
   "metadata": {
    "id": "F2LYvhPBtKrd"
   },
   "source": [
    "**AMAP**"
   ]
  },
  {
   "cell_type": "code",
   "execution_count": 32,
   "metadata": {
    "colab": {
     "base_uri": "https://localhost:8080/"
    },
    "id": "pMWZ7G8yTzel",
    "outputId": "9c6311cf-a952-4171-d815-5b6be855446b"
   },
   "outputs": [
    {
     "name": "stdout",
     "output_type": "stream",
     "text": [
      "Alpha: 0.5\n",
      "Threshold: 0.7\n",
      "++++++++++++++++++++++++++++++\n",
      "---details of graph dataset---\n",
      "++++++++++++++++++++++++++++++\n",
      "dataset name:    amap\n",
      "feature shape:   (7650, 745)\n",
      "label shape:     (7650,)\n",
      "adj shape:       (7650, 7650)\n",
      "undirected edge num:    119081\n",
      "category num:           8\n",
      "category distribution: \n",
      "label 0:369\n",
      "label 1:1686\n",
      "label 2:703\n",
      "label 3:915\n",
      "label 4:882\n",
      "label 5:823\n",
      "label 6:1941\n",
      "label 7:331\n",
      "++++++++++++++++++++++++++++++\n",
      "100% 400/400 [00:35<00:00, 11.40it/s]\n",
      "100% 400/400 [00:34<00:00, 11.63it/s]\n",
      "100% 400/400 [00:35<00:00, 11.41it/s]\n",
      "100% 400/400 [00:35<00:00, 11.24it/s]\n",
      "100% 400/400 [00:35<00:00, 11.15it/s]\n",
      "100% 400/400 [00:36<00:00, 10.98it/s]\n",
      "100% 400/400 [00:36<00:00, 10.94it/s]\n",
      "100% 400/400 [00:36<00:00, 10.92it/s]\n",
      "100% 400/400 [00:36<00:00, 10.85it/s]\n",
      "100% 400/400 [00:37<00:00, 10.77it/s]\n",
      "78.00130718954247 ± 0.5377127003306524\n",
      "67.01120221894664 ± 0.8874054422999244\n",
      "58.90530800344915 ± 1.1198251286918381\n",
      "72.72161850772683 ± 1.4414478081854367\n"
     ]
    }
   ],
   "source": [
    "ds = \"amap\"\n",
    "noc = 8\n",
    "dims = 745\n",
    "!python train_SCGC_with_RNS_train.py --dataset $ds --cluster_num $noc --dims $dims"
   ]
  },
  {
   "cell_type": "markdown",
   "metadata": {
    "id": "u8YsZoRKTrEV"
   },
   "source": [
    "**BAT**"
   ]
  },
  {
   "cell_type": "code",
   "execution_count": 19,
   "metadata": {
    "colab": {
     "base_uri": "https://localhost:8080/"
    },
    "id": "TM_F_26BT0D_",
    "outputId": "29679ee4-49a5-4007-fe56-a5474f6ec7bb"
   },
   "outputs": [
    {
     "name": "stdout",
     "output_type": "stream",
     "text": [
      "Alpha: 0.5\n",
      "Threshold: 0.7\n",
      "++++++++++++++++++++++++++++++\n",
      "---details of graph dataset---\n",
      "++++++++++++++++++++++++++++++\n",
      "dataset name:    bat\n",
      "feature shape:   (131, 81)\n",
      "label shape:     (131,)\n",
      "adj shape:       (131, 131)\n",
      "undirected edge num:    1038\n",
      "category num:           4\n",
      "category distribution: \n",
      "label 0:32\n",
      "label 1:32\n",
      "label 2:32\n",
      "label 3:35\n",
      "++++++++++++++++++++++++++++++\n",
      "100% 400/400 [00:01<00:00, 293.70it/s]\n",
      "100% 400/400 [00:01<00:00, 337.13it/s]\n",
      "100% 400/400 [00:01<00:00, 333.54it/s]\n",
      "100% 400/400 [00:01<00:00, 342.23it/s]\n",
      "100% 400/400 [00:01<00:00, 333.50it/s]\n",
      "100% 400/400 [00:01<00:00, 328.17it/s]\n",
      "100% 400/400 [00:01<00:00, 345.35it/s]\n",
      "100% 400/400 [00:01<00:00, 333.26it/s]\n",
      "100% 400/400 [00:01<00:00, 257.93it/s]\n",
      "100% 400/400 [00:01<00:00, 278.30it/s]\n",
      "69.61832061068704 ± 1.9251175897585493\n",
      "47.259351162739556 ± 1.815235316063483\n",
      "40.88549819300055 ± 1.2683869776134273\n",
      "68.67442088481879 ± 3.4299000774649833\n"
     ]
    }
   ],
   "source": [
    "ds = \"bat\"\n",
    "noc = 4\n",
    "dims = 81\n",
    "!python train_SCGC_with_RNS_train.py --dataset $ds --cluster_num $noc --dims $dims"
   ]
  },
  {
   "cell_type": "markdown",
   "metadata": {
    "id": "DCyLrr0UTtLs"
   },
   "source": [
    "**EAT**"
   ]
  },
  {
   "cell_type": "code",
   "execution_count": 20,
   "metadata": {
    "colab": {
     "base_uri": "https://localhost:8080/"
    },
    "id": "ZWHA3kaRTuwt",
    "outputId": "470ccbea-000b-4315-84bc-a4770ee3f101"
   },
   "outputs": [
    {
     "name": "stdout",
     "output_type": "stream",
     "text": [
      "Alpha: 0.5\n",
      "Threshold: 0.7\n",
      "++++++++++++++++++++++++++++++\n",
      "---details of graph dataset---\n",
      "++++++++++++++++++++++++++++++\n",
      "dataset name:    eat\n",
      "feature shape:   (399, 203)\n",
      "label shape:     (399,)\n",
      "adj shape:       (399, 399)\n",
      "undirected edge num:    5994\n",
      "category num:           4\n",
      "category distribution: \n",
      "label 0:99\n",
      "label 1:99\n",
      "label 2:99\n",
      "label 3:102\n",
      "++++++++++++++++++++++++++++++\n",
      "100% 400/400 [00:01<00:00, 281.05it/s]\n",
      "100% 400/400 [00:01<00:00, 328.36it/s]\n",
      "100% 400/400 [00:01<00:00, 340.59it/s]\n",
      "100% 400/400 [00:01<00:00, 260.29it/s]\n",
      "100% 400/400 [00:01<00:00, 256.69it/s]\n",
      "100% 400/400 [00:01<00:00, 340.99it/s]\n",
      "100% 400/400 [00:01<00:00, 330.82it/s]\n",
      "100% 400/400 [00:01<00:00, 330.34it/s]\n",
      "100% 400/400 [00:01<00:00, 331.21it/s]\n",
      "100% 400/400 [00:01<00:00, 338.91it/s]\n",
      "56.315789473684205 ± 0.9513911226116443\n",
      "33.250692301067765 ± 0.8523306866518544\n",
      "26.42296897237773 ± 0.9722132185021387\n",
      "56.12299526868471 ± 2.0686471689116175\n"
     ]
    }
   ],
   "source": [
    "ds = \"eat\"\n",
    "noc = 4\n",
    "dims = 203\n",
    "!python train_SCGC_with_RNS_train.py --dataset $ds --cluster_num $noc --dims $dims"
   ]
  },
  {
   "cell_type": "markdown",
   "metadata": {
    "id": "aJDGUM7NTvNJ"
   },
   "source": [
    "**UAT**"
   ]
  },
  {
   "cell_type": "code",
   "execution_count": 21,
   "metadata": {
    "colab": {
     "base_uri": "https://localhost:8080/"
    },
    "id": "xCG7cNLQT1ON",
    "outputId": "1b697b80-e386-4921-cf27-3342733aef51"
   },
   "outputs": [
    {
     "name": "stdout",
     "output_type": "stream",
     "text": [
      "Alpha: 0.5\n",
      "Threshold: 0.7\n",
      "++++++++++++++++++++++++++++++\n",
      "---details of graph dataset---\n",
      "++++++++++++++++++++++++++++++\n",
      "dataset name:    uat\n",
      "feature shape:   (1190, 239)\n",
      "label shape:     (1190,)\n",
      "adj shape:       (1190, 1190)\n",
      "undirected edge num:    13599\n",
      "category num:           4\n",
      "category distribution: \n",
      "label 0:297\n",
      "label 1:297\n",
      "label 2:297\n",
      "label 3:299\n",
      "++++++++++++++++++++++++++++++\n",
      "100% 400/400 [00:01<00:00, 237.48it/s]\n",
      "100% 400/400 [00:01<00:00, 282.62it/s]\n",
      "100% 400/400 [00:01<00:00, 277.45it/s]\n",
      "100% 400/400 [00:01<00:00, 282.98it/s]\n",
      "100% 400/400 [00:01<00:00, 281.88it/s]\n",
      "100% 400/400 [00:01<00:00, 275.11it/s]\n",
      "100% 400/400 [00:01<00:00, 246.87it/s]\n",
      "100% 400/400 [00:01<00:00, 203.47it/s]\n",
      "100% 400/400 [00:01<00:00, 292.97it/s]\n",
      "100% 400/400 [00:01<00:00, 291.87it/s]\n",
      "50.05882352941176 ± 1.4928920874703517\n",
      "20.942242169626613 ± 2.113973568857436\n",
      "14.288366706446263 ± 1.7200942676012447\n",
      "48.03953921872566 ± 2.783243608914396\n"
     ]
    }
   ],
   "source": [
    "ds = \"uat\"\n",
    "noc = 4\n",
    "dims = 239\n",
    "!python train_SCGC_with_RNS_train.py --dataset $ds --cluster_num $noc --dims $dims"
   ]
  },
  {
   "cell_type": "code",
   "execution_count": null,
   "metadata": {
    "id": "KDWuLtB-2Dv6"
   },
   "outputs": [],
   "source": []
  }
 ],
 "metadata": {
  "accelerator": "GPU",
  "colab": {
   "gpuType": "T4",
   "provenance": []
  },
  "kernelspec": {
   "display_name": "Python 3 (ipykernel)",
   "language": "python",
   "name": "python3"
  },
  "language_info": {
   "codemirror_mode": {
    "name": "ipython",
    "version": 3
   },
   "file_extension": ".py",
   "mimetype": "text/x-python",
   "name": "python",
   "nbconvert_exporter": "python",
   "pygments_lexer": "ipython3",
   "version": "3.11.1"
  }
 },
 "nbformat": 4,
 "nbformat_minor": 1
}
