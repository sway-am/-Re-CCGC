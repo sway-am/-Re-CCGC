{
 "cells": [
  {
   "cell_type": "code",
   "execution_count": null,
   "metadata": {
    "colab": {
     "base_uri": "https://localhost:8080/"
    },
    "id": "BhhDrnVyIpee",
    "outputId": "0505cf0a-a861-42e1-cbb6-bd23539f8ec1"
   },
   "outputs": [
    {
     "name": "stdout",
     "output_type": "stream",
     "text": [
      "Mounted at /content/gdrive\n"
     ]
    }
   ],
   "source": [
    "from google.colab import drive\n",
    "drive.mount('/content/gdrive')"
   ]
  },
  {
   "cell_type": "code",
   "execution_count": null,
   "metadata": {
    "colab": {
     "base_uri": "https://localhost:8080/"
    },
    "id": "QXrVe9DDI8t7",
    "outputId": "4b3790d6-b686-4f27-80d3-e8fa95a00b2d"
   },
   "outputs": [
    {
     "name": "stdout",
     "output_type": "stream",
     "text": [
      "/content/gdrive/.shortcut-targets-by-id/1V7czPzRgpy9FM-ekN8475tjiH1wlxTpt/CCGC_MLRC\n"
     ]
    }
   ],
   "source": [
    "%cd /content/gdrive/MyDrive/CCGC_MLRC"
   ]
  },
  {
   "cell_type": "code",
   "execution_count": null,
   "metadata": {
    "id": "RIUHt7rDKcYA"
   },
   "outputs": [],
   "source": [
    "import numpy as np\n",
    "import pandas as pd\n",
    "import matplotlib.pyplot as plt\n",
    "from PIL import Image\n",
    "import tensorflow as tf\n",
    "import os\n",
    "from tqdm import tqdm\n",
    "import warnings\n",
    "import seaborn as sns\n",
    "import cv2"
   ]
  },
  {
   "cell_type": "code",
   "execution_count": null,
   "metadata": {
    "colab": {
     "base_uri": "https://localhost:8080/"
    },
    "id": "Uy3uSFloKeyP",
    "outputId": "4c480163-39bc-4e5c-dab1-f7b3ff60f440"
   },
   "outputs": [
    {
     "name": "stdout",
     "output_type": "stream",
     "text": [
      "Collecting munkres\n",
      "  Downloading munkres-1.1.4-py2.py3-none-any.whl (7.0 kB)\n",
      "Installing collected packages: munkres\n",
      "Successfully installed munkres-1.1.4\n",
      "Collecting torch_geometric\n",
      "  Downloading torch_geometric-2.4.0-py3-none-any.whl (1.0 MB)\n",
      "\u001b[2K     \u001b[90m━━━━━━━━━━━━━━━━━━━━━━━━━━━━━━━━━━━━━━━━\u001b[0m \u001b[32m1.0/1.0 MB\u001b[0m \u001b[31m12.0 MB/s\u001b[0m eta \u001b[36m0:00:00\u001b[0m\n",
      "\u001b[?25hRequirement already satisfied: tqdm in /usr/local/lib/python3.10/dist-packages (from torch_geometric) (4.66.1)\n",
      "Requirement already satisfied: numpy in /usr/local/lib/python3.10/dist-packages (from torch_geometric) (1.23.5)\n",
      "Requirement already satisfied: scipy in /usr/local/lib/python3.10/dist-packages (from torch_geometric) (1.11.4)\n",
      "Requirement already satisfied: jinja2 in /usr/local/lib/python3.10/dist-packages (from torch_geometric) (3.1.3)\n",
      "Requirement already satisfied: requests in /usr/local/lib/python3.10/dist-packages (from torch_geometric) (2.31.0)\n",
      "Requirement already satisfied: pyparsing in /usr/local/lib/python3.10/dist-packages (from torch_geometric) (3.1.1)\n",
      "Requirement already satisfied: scikit-learn in /usr/local/lib/python3.10/dist-packages (from torch_geometric) (1.2.2)\n",
      "Requirement already satisfied: psutil>=5.8.0 in /usr/local/lib/python3.10/dist-packages (from torch_geometric) (5.9.5)\n",
      "Requirement already satisfied: MarkupSafe>=2.0 in /usr/local/lib/python3.10/dist-packages (from jinja2->torch_geometric) (2.1.4)\n",
      "Requirement already satisfied: charset-normalizer<4,>=2 in /usr/local/lib/python3.10/dist-packages (from requests->torch_geometric) (3.3.2)\n",
      "Requirement already satisfied: idna<4,>=2.5 in /usr/local/lib/python3.10/dist-packages (from requests->torch_geometric) (3.6)\n",
      "Requirement already satisfied: urllib3<3,>=1.21.1 in /usr/local/lib/python3.10/dist-packages (from requests->torch_geometric) (2.0.7)\n",
      "Requirement already satisfied: certifi>=2017.4.17 in /usr/local/lib/python3.10/dist-packages (from requests->torch_geometric) (2023.11.17)\n",
      "Requirement already satisfied: joblib>=1.1.1 in /usr/local/lib/python3.10/dist-packages (from scikit-learn->torch_geometric) (1.3.2)\n",
      "Requirement already satisfied: threadpoolctl>=2.0.0 in /usr/local/lib/python3.10/dist-packages (from scikit-learn->torch_geometric) (3.2.0)\n",
      "Installing collected packages: torch_geometric\n",
      "Successfully installed torch_geometric-2.4.0\n"
     ]
    }
   ],
   "source": [
    "!pip install munkres\n",
    "!pip install torch_geometric"
   ]
  },
  {
   "cell_type": "markdown",
   "metadata": {
    "id": "XBhh9oXvKqOB"
   },
   "source": [
    "### citeseer add edges"
   ]
  },
  {
   "cell_type": "code",
   "execution_count": null,
   "metadata": {
    "colab": {
     "base_uri": "https://localhost:8080/"
    },
    "id": "EDEZSut0Kg6Q",
    "outputId": "c06755dc-6266-4c49-cce4-9a1b4c8b4d0c"
   },
   "outputs": [
    {
     "name": "stdout",
     "output_type": "stream",
     "text": [
      "Alpha: 0.1\n",
      "Threshold: 0.65\n",
      "++++++++++++++++++++++++++++++\n",
      "---details of graph dataset---\n",
      "++++++++++++++++++++++++++++++\n",
      "dataset name:    citeseer\n",
      "feature shape:   (3327, 3703)\n",
      "label shape:     (3327,)\n",
      "adj shape:       (3327, 3327)\n",
      "undirected edge num:    4614\n",
      "category num:           6\n",
      "category distribution: \n",
      "label 0:264\n",
      "label 1:590\n",
      "label 2:668\n",
      "label 3:701\n",
      "label 4:596\n",
      "label 5:508\n",
      "++++++++++++++++++++++++++++++\n",
      "No edges orig:  4676\n",
      "No edges after:  5611\n",
      "100% 400/400 [01:08<00:00,  5.87it/s]\n",
      "100% 400/400 [01:10<00:00,  5.66it/s]\n",
      "100% 400/400 [01:09<00:00,  5.72it/s]\n",
      "100% 400/400 [01:09<00:00,  5.74it/s]\n",
      "100% 400/400 [01:10<00:00,  5.71it/s]\n",
      "100% 400/400 [01:09<00:00,  5.72it/s]\n",
      "100% 400/400 [01:10<00:00,  5.70it/s]\n",
      "100% 400/400 [01:10<00:00,  5.69it/s]\n",
      "100% 400/400 [01:09<00:00,  5.71it/s]\n",
      "100% 400/400 [01:09<00:00,  5.72it/s]\n",
      "65.75894198978058 ± 0.5857358535382887\n",
      "36.801245946813694 ± 0.5990798828698937\n",
      "37.264281403682276 ± 0.8736266124521835\n",
      "57.51082498349664 ± 0.8012414771366363\n"
     ]
    }
   ],
   "source": [
    "!python train.py --threshold $0.65 --alpha $0.1 --dataset $'citeseer' --cluster_num $6 --dims $3703 #add"
   ]
  },
  {
   "cell_type": "markdown",
   "metadata": {
    "id": "rv0RdEewRoC9"
   },
   "source": [
    "### DROP EDGES\n",
    "* *Here copy the path of the **Re-CCGC** cloned folder also make the necessary changes of path in utils.py **load_graph_data()** function*\n",
    "*  Uncomment the drop_edges section in *utils.py* **load_graph_data()** function"
   ]
  },
  {
   "cell_type": "markdown",
   "metadata": {
    "id": "CGRW8nXMSe1O"
   },
   "source": [
    "## BAT"
   ]
  },
  {
   "cell_type": "code",
   "execution_count": null,
   "metadata": {
    "colab": {
     "base_uri": "https://localhost:8080/"
    },
    "id": "KnPP_8nsK2m1",
    "outputId": "1b390f76-bcfd-4474-d4f4-442244326c3d"
   },
   "outputs": [
    {
     "name": "stdout",
     "output_type": "stream",
     "text": [
      "Alpha: 10.0\n",
      "Threshold: 0.7\n",
      "++++++++++++++++++++++++++++++\n",
      "---details of graph dataset---\n",
      "++++++++++++++++++++++++++++++\n",
      "dataset name:    bat\n",
      "feature shape:   (131, 81)\n",
      "label shape:     (131,)\n",
      "adj shape:       (131, 131)\n",
      "undirected edge num:    1038\n",
      "category num:           4\n",
      "category distribution: \n",
      "label 0:32\n",
      "label 1:32\n",
      "label 2:32\n",
      "label 3:35\n",
      "++++++++++++++++++++++++++++++\n",
      "No edges orig:  1074\n",
      "No edges after:  860\n",
      "100% 400/400 [00:04<00:00, 89.50it/s]\n",
      "100% 400/400 [00:03<00:00, 119.47it/s]\n",
      "100% 400/400 [00:03<00:00, 125.24it/s]\n",
      "100% 400/400 [00:03<00:00, 125.09it/s]\n",
      "100% 400/400 [00:04<00:00, 84.09it/s] \n",
      "100% 400/400 [00:03<00:00, 126.20it/s]\n",
      "100% 400/400 [00:03<00:00, 127.79it/s]\n",
      "100% 400/400 [00:03<00:00, 125.03it/s]\n",
      "100% 400/400 [00:03<00:00, 104.82it/s]\n",
      "100% 400/400 [00:03<00:00, 125.09it/s]\n",
      "64.58015267175571 ± 0.8500403607374087\n",
      "49.183386461247736 ± 2.037173882024021\n",
      "43.59216827402559 ± 1.8941207081752869\n",
      "59.0989792199686 ± 1.7760930675830415\n"
     ]
    }
   ],
   "source": [
    "!python train.py --threshold $0.7 --alpha $10 --dataset $'bat' --cluster_num $4 --dims $81 #drop"
   ]
  },
  {
   "cell_type": "markdown",
   "metadata": {
    "id": "axwehPQeS_GY"
   },
   "source": [
    "## UAT"
   ]
  },
  {
   "cell_type": "code",
   "execution_count": null,
   "metadata": {
    "colab": {
     "base_uri": "https://localhost:8080/"
    },
    "id": "KL3IgYSkR2Re",
    "outputId": "fae1bb71-1be5-4d93-d031-fd2af170521a"
   },
   "outputs": [
    {
     "name": "stdout",
     "output_type": "stream",
     "text": [
      "Alpha: 0.5\n",
      "Threshold: 0.65\n",
      "++++++++++++++++++++++++++++++\n",
      "---details of graph dataset---\n",
      "++++++++++++++++++++++++++++++\n",
      "dataset name:    uat\n",
      "feature shape:   (1190, 239)\n",
      "label shape:     (1190,)\n",
      "adj shape:       (1190, 1190)\n",
      "undirected edge num:    13599\n",
      "category num:           4\n",
      "category distribution: \n",
      "label 0:297\n",
      "label 1:297\n",
      "label 2:297\n",
      "label 3:299\n",
      "++++++++++++++++++++++++++++++\n",
      "No edges orig:  13599\n",
      "No edges after:  10880\n",
      "100% 400/400 [00:07<00:00, 56.81it/s]\n",
      "100% 400/400 [00:05<00:00, 70.16it/s]\n",
      "100% 400/400 [00:06<00:00, 58.63it/s]\n",
      "100% 400/400 [00:05<00:00, 72.66it/s]\n",
      "100% 400/400 [00:06<00:00, 61.30it/s]\n",
      "100% 400/400 [00:07<00:00, 55.77it/s]\n",
      "100% 400/400 [00:06<00:00, 61.13it/s]\n",
      "100% 400/400 [00:07<00:00, 52.52it/s]\n",
      "100% 400/400 [00:04<00:00, 83.57it/s]\n",
      "100% 400/400 [00:07<00:00, 54.48it/s]\n",
      "47.07563025210084 ± 3.8842805066088615\n",
      "22.68928903990003 ± 4.232145658253756\n",
      "14.381669928925538 ± 3.5931524944527564\n",
      "42.495219095957275 ± 5.125952669535125\n"
     ]
    }
   ],
   "source": [
    "!python train.py --threshold $0.65 --alpha $0.5 --dataset $'uat' --cluster_num $4 --dims $239 #drop"
   ]
  },
  {
   "cell_type": "markdown",
   "metadata": {
    "id": "ZFzX3LXOTcj4"
   },
   "source": [
    "## EAT"
   ]
  },
  {
   "cell_type": "code",
   "execution_count": null,
   "metadata": {
    "colab": {
     "base_uri": "https://localhost:8080/"
    },
    "id": "8eHH-NrAS-VU",
    "outputId": "4374a39c-33d1-4be1-b1cd-ac4ffa4d2fb3"
   },
   "outputs": [
    {
     "name": "stdout",
     "output_type": "stream",
     "text": [
      "Alpha: 10.0\n",
      "Threshold: 0.65\n",
      "++++++++++++++++++++++++++++++\n",
      "---details of graph dataset---\n",
      "++++++++++++++++++++++++++++++\n",
      "dataset name:    eat\n",
      "feature shape:   (399, 203)\n",
      "label shape:     (399,)\n",
      "adj shape:       (399, 399)\n",
      "undirected edge num:    5994\n",
      "category num:           4\n",
      "category distribution: \n",
      "label 0:99\n",
      "label 1:99\n",
      "label 2:99\n",
      "label 3:102\n",
      "++++++++++++++++++++++++++++++\n",
      "No edges orig:  5995\n",
      "No edges after:  4796\n",
      "100% 400/400 [00:04<00:00, 89.16it/s]\n",
      "100% 400/400 [00:04<00:00, 93.75it/s]\n",
      "100% 400/400 [00:05<00:00, 79.75it/s]\n",
      "100% 400/400 [00:04<00:00, 96.98it/s]\n",
      "100% 400/400 [00:04<00:00, 91.30it/s]\n",
      "100% 400/400 [00:04<00:00, 82.00it/s]\n",
      "100% 400/400 [00:04<00:00, 91.30it/s]\n",
      "100% 400/400 [00:04<00:00, 90.03it/s]\n",
      "100% 400/400 [00:04<00:00, 85.38it/s]\n",
      "100% 400/400 [00:04<00:00, 97.87it/s]\n",
      "54.53634085213032 ± 0.7618388046902586\n",
      "33.066491095210424 ± 1.0847542686426612\n",
      "26.286467043196353 ± 1.216601146081129\n",
      "50.001220845581756 ± 3.137790145461357\n"
     ]
    }
   ],
   "source": [
    "!python train.py --threshold $0.65 --alpha $10 --dataset $'eat' --cluster_num $4 --dims $203 #drop"
   ]
  },
  {
   "cell_type": "markdown",
   "metadata": {
    "id": "TpmdLKRkT3vn"
   },
   "source": [
    "## CITESEER"
   ]
  },
  {
   "cell_type": "code",
   "execution_count": null,
   "metadata": {
    "colab": {
     "base_uri": "https://localhost:8080/"
    },
    "id": "NdIZ5rleTelW",
    "outputId": "4e02b516-a581-4cb9-da6c-7f4cad3a7ed4"
   },
   "outputs": [
    {
     "name": "stdout",
     "output_type": "stream",
     "text": [
      "Alpha: 0.1\n",
      "Threshold: 0.65\n",
      "++++++++++++++++++++++++++++++\n",
      "---details of graph dataset---\n",
      "++++++++++++++++++++++++++++++\n",
      "dataset name:    citeseer\n",
      "feature shape:   (3327, 3703)\n",
      "label shape:     (3327,)\n",
      "adj shape:       (3327, 3327)\n",
      "undirected edge num:    4614\n",
      "category num:           6\n",
      "category distribution: \n",
      "label 0:264\n",
      "label 1:590\n",
      "label 2:668\n",
      "label 3:701\n",
      "label 4:596\n",
      "label 5:508\n",
      "++++++++++++++++++++++++++++++\n",
      "No edges orig:  4676\n",
      "No edges after:  3741\n",
      "100% 400/400 [01:05<00:00,  6.12it/s]\n",
      "100% 400/400 [01:08<00:00,  5.83it/s]\n",
      "100% 400/400 [01:07<00:00,  5.89it/s]\n",
      "100% 400/400 [01:08<00:00,  5.87it/s]\n",
      "100% 400/400 [01:08<00:00,  5.83it/s]\n",
      "100% 400/400 [01:08<00:00,  5.81it/s]\n",
      "100% 400/400 [01:08<00:00,  5.83it/s]\n",
      "100% 400/400 [01:07<00:00,  5.90it/s]\n",
      "100% 400/400 [01:08<00:00,  5.81it/s]\n",
      "100% 400/400 [01:07<00:00,  5.89it/s]\n",
      "65.75894198978058 ± 1.494645443707449\n",
      "39.518699277505945 ± 1.7296537112199022\n",
      "37.33784815854959 ± 2.734006393802008\n",
      "57.77741213707236 ± 1.1382296274235248\n"
     ]
    }
   ],
   "source": [
    "!python train.py --threshold $0.65 --alpha $0.1 --dataset $'citeseer' --cluster_num $6 --dims $3703 #add"
   ]
  },
  {
   "cell_type": "markdown",
   "metadata": {
    "id": "EtapSWvsWyqc"
   },
   "source": [
    "## AMAP"
   ]
  },
  {
   "cell_type": "code",
   "execution_count": null,
   "metadata": {
    "colab": {
     "base_uri": "https://localhost:8080/"
    },
    "id": "SbqbvbKbT_fg",
    "outputId": "3b13a3be-a3a9-4dac-ff97-6c0f3ba84975"
   },
   "outputs": [
    {
     "name": "stdout",
     "output_type": "stream",
     "text": [
      "Alpha: 0.1\n",
      "Threshold: 0.65\n",
      "++++++++++++++++++++++++++++++\n",
      "---details of graph dataset---\n",
      "++++++++++++++++++++++++++++++\n",
      "dataset name:    amap\n",
      "feature shape:   (7650, 745)\n",
      "label shape:     (7650,)\n",
      "adj shape:       (7650, 7650)\n",
      "undirected edge num:    119081\n",
      "category num:           8\n",
      "category distribution: \n",
      "label 0:369\n",
      "label 1:1686\n",
      "label 2:703\n",
      "label 3:915\n",
      "label 4:882\n",
      "label 5:823\n",
      "label 6:1941\n",
      "label 7:331\n",
      "++++++++++++++++++++++++++++++\n",
      "No edges orig:  119082\n",
      "No edges after:  95266\n",
      "100% 400/400 [00:41<00:00,  9.56it/s]\n",
      "100% 400/400 [00:41<00:00,  9.59it/s]\n",
      "100% 400/400 [00:41<00:00,  9.57it/s]\n",
      "100% 400/400 [00:41<00:00,  9.56it/s]\n",
      "100% 400/400 [00:42<00:00,  9.51it/s]\n",
      "100% 400/400 [00:41<00:00,  9.56it/s]\n",
      "100% 400/400 [00:41<00:00,  9.61it/s]\n",
      "100% 400/400 [00:41<00:00,  9.55it/s]\n",
      "100% 400/400 [00:42<00:00,  9.44it/s]\n",
      "100% 400/400 [00:41<00:00,  9.61it/s]\n",
      "76.5764705882353 ± 0.6724203844284078\n",
      "66.04158344617835 ± 0.8690633142895016\n",
      "56.883481497264334 ± 0.6696163923315732\n",
      "72.0484386766064 ± 0.7563613165304528\n"
     ]
    }
   ],
   "source": [
    "!python train.py --threshold $0.65 --alpha $0.1 --dataset $'amap' --cluster_num $8 --dims $745 #drop"
   ]
  },
  {
   "cell_type": "markdown",
   "metadata": {
    "id": "wY5fIjfFZu2n"
   },
   "source": [
    "##CORA"
   ]
  },
  {
   "cell_type": "code",
   "execution_count": null,
   "metadata": {
    "colab": {
     "base_uri": "https://localhost:8080/"
    },
    "id": "X9IIeZ5hW1eI",
    "outputId": "bebd590c-e53f-4b88-edb8-1819d94fc150"
   },
   "outputs": [
    {
     "name": "stdout",
     "output_type": "stream",
     "text": [
      "Alpha: 1.0\n",
      "Threshold: 0.7\n",
      "++++++++++++++++++++++++++++++\n",
      "---details of graph dataset---\n",
      "++++++++++++++++++++++++++++++\n",
      "dataset name:    cora\n",
      "feature shape:   (2708, 1433)\n",
      "label shape:     (2708,)\n",
      "adj shape:       (2708, 2708)\n",
      "undirected edge num:    5278\n",
      "category num:           7\n",
      "category distribution: \n",
      "label 0:351\n",
      "label 1:217\n",
      "label 2:418\n",
      "label 3:818\n",
      "label 4:426\n",
      "label 5:298\n",
      "label 6:180\n",
      "++++++++++++++++++++++++++++++\n",
      "No edges orig:  5278\n",
      "No edges after:  4223\n",
      "100% 400/400 [00:22<00:00, 18.07it/s]\n",
      "100% 400/400 [00:21<00:00, 18.54it/s]\n",
      "100% 400/400 [00:21<00:00, 18.20it/s]\n",
      "100% 400/400 [00:22<00:00, 17.92it/s]\n",
      "100% 400/400 [00:21<00:00, 18.18it/s]\n",
      "100% 400/400 [00:21<00:00, 18.28it/s]\n",
      "100% 400/400 [00:22<00:00, 18.05it/s]\n",
      "100% 400/400 [00:22<00:00, 17.99it/s]\n",
      "100% 400/400 [00:22<00:00, 17.84it/s]\n",
      "100% 400/400 [00:22<00:00, 18.12it/s]\n",
      "71.5288035450517 ± 1.9607141513790378\n",
      "53.96156503574065 ± 1.658095098098715\n",
      "48.31351304814769 ± 3.083961240877289\n",
      "68.66965959904914 ± 4.054558502801546\n"
     ]
    }
   ],
   "source": [
    "!python train.py --threshold $0.7 --alpha $1 --dataset $'cora' --cluster_num $7 --dims $1433 #drop"
   ]
  },
  {
   "cell_type": "markdown",
   "metadata": {
    "id": "nD-cSDdTbyfq"
   },
   "source": [
    "### MASK FEATURES\n",
    "\n",
    "*  Uncomment the feat_mask section (last 2 lines) in *utils.py* **load_graph_data()** function"
   ]
  },
  {
   "cell_type": "markdown",
   "metadata": {
    "id": "URBCULxyeUvR"
   },
   "source": [
    "## BAT"
   ]
  },
  {
   "cell_type": "code",
   "execution_count": null,
   "metadata": {
    "colab": {
     "base_uri": "https://localhost:8080/"
    },
    "id": "WZSbL6fqZwcU",
    "outputId": "ea72615c-c06c-4da3-879d-302b50d38c5d"
   },
   "outputs": [
    {
     "name": "stdout",
     "output_type": "stream",
     "text": [
      "Alpha: 10.0\n",
      "Threshold: 0.7\n",
      "before masking:  131\n",
      "++++++++++++++++++++++++++++++\n",
      "---details of graph dataset---\n",
      "++++++++++++++++++++++++++++++\n",
      "dataset name:    bat\n",
      "feature shape:   (131, 81)\n",
      "label shape:     (131,)\n",
      "adj shape:       (131, 131)\n",
      "undirected edge num:    1038\n",
      "category num:           4\n",
      "category distribution: \n",
      "label 0:32\n",
      "label 1:32\n",
      "label 2:32\n",
      "label 3:35\n",
      "++++++++++++++++++++++++++++++\n",
      "After masking:  102\n",
      "100% 400/400 [00:08<00:00, 47.74it/s]\n",
      "100% 400/400 [00:07<00:00, 51.63it/s]\n",
      "100% 400/400 [00:05<00:00, 68.26it/s]\n",
      "100% 400/400 [00:03<00:00, 120.74it/s]\n",
      "100% 400/400 [00:04<00:00, 99.61it/s] \n",
      "100% 400/400 [00:03<00:00, 124.41it/s]\n",
      "100% 400/400 [00:03<00:00, 122.42it/s]\n",
      "100% 400/400 [00:03<00:00, 109.62it/s]\n",
      "100% 400/400 [00:03<00:00, 110.99it/s]\n",
      "100% 400/400 [00:03<00:00, 122.58it/s]\n",
      "70.30534351145039 ± 3.3001475299568357\n",
      "48.7805212594143 ± 2.05503581919595\n",
      "45.79343066710494 ± 1.9383605739322611\n",
      "67.74612362656777 ± 4.532369067604108\n"
     ]
    }
   ],
   "source": [
    "!python train.py --threshold $0.7 --alpha $10 --dataset $'bat' --cluster_num $4 --dims $81 #drop"
   ]
  },
  {
   "cell_type": "markdown",
   "metadata": {
    "id": "OjhQO4T2e7Or"
   },
   "source": [
    "# UAT"
   ]
  },
  {
   "cell_type": "code",
   "execution_count": null,
   "metadata": {
    "colab": {
     "base_uri": "https://localhost:8080/"
    },
    "id": "twVjAWCLefpH",
    "outputId": "ee52fff5-2cc2-40e9-837a-682fca6dc8db"
   },
   "outputs": [
    {
     "name": "stdout",
     "output_type": "stream",
     "text": [
      "Alpha: 0.5\n",
      "Threshold: 0.65\n",
      "before masking:  1190\n",
      "++++++++++++++++++++++++++++++\n",
      "---details of graph dataset---\n",
      "++++++++++++++++++++++++++++++\n",
      "dataset name:    uat\n",
      "feature shape:   (1190, 239)\n",
      "label shape:     (1190,)\n",
      "adj shape:       (1190, 1190)\n",
      "undirected edge num:    13599\n",
      "category num:           4\n",
      "category distribution: \n",
      "label 0:297\n",
      "label 1:297\n",
      "label 2:297\n",
      "label 3:299\n",
      "++++++++++++++++++++++++++++++\n",
      "After masking:  782\n",
      "100% 400/400 [00:07<00:00, 54.10it/s]\n",
      "100% 400/400 [00:07<00:00, 55.22it/s]\n",
      "100% 400/400 [00:08<00:00, 49.47it/s]\n",
      "100% 400/400 [00:08<00:00, 49.34it/s]\n",
      "100% 400/400 [00:06<00:00, 60.92it/s]\n",
      "100% 400/400 [00:07<00:00, 55.10it/s]\n",
      "100% 400/400 [00:06<00:00, 62.01it/s]\n",
      "100% 400/400 [00:07<00:00, 56.27it/s]\n",
      "100% 400/400 [00:06<00:00, 57.80it/s]\n",
      "100% 400/400 [00:06<00:00, 58.74it/s]\n",
      "53.899159663865554 ± 1.6966467716164337\n",
      "28.426805103647887 ± 2.0229724123409745\n",
      "21.317647649764677 ± 2.8401261205720196\n",
      "53.37557935826296 ± 2.0562119438904682\n"
     ]
    }
   ],
   "source": [
    "!python train.py --threshold $0.65 --alpha $0.5 --dataset $'uat' --cluster_num $4 --dims $239 #drop"
   ]
  },
  {
   "cell_type": "markdown",
   "metadata": {
    "id": "5jM1s3Gyfp5Y"
   },
   "source": [
    "## EAT"
   ]
  },
  {
   "cell_type": "code",
   "execution_count": null,
   "metadata": {
    "colab": {
     "base_uri": "https://localhost:8080/"
    },
    "id": "eoD6bdGQfJCK",
    "outputId": "6d983654-0553-4b5d-ecd0-5fcd4f7c3610"
   },
   "outputs": [
    {
     "name": "stdout",
     "output_type": "stream",
     "text": [
      "Alpha: 10.0\n",
      "Threshold: 0.65\n",
      "before masking:  399\n",
      "++++++++++++++++++++++++++++++\n",
      "---details of graph dataset---\n",
      "++++++++++++++++++++++++++++++\n",
      "dataset name:    eat\n",
      "feature shape:   (399, 203)\n",
      "label shape:     (399,)\n",
      "adj shape:       (399, 399)\n",
      "undirected edge num:    5994\n",
      "category num:           4\n",
      "category distribution: \n",
      "label 0:99\n",
      "label 1:99\n",
      "label 2:99\n",
      "label 3:102\n",
      "++++++++++++++++++++++++++++++\n",
      "After masking:  320\n",
      "100% 400/400 [00:09<00:00, 41.73it/s]\n",
      "100% 400/400 [00:09<00:00, 42.90it/s]\n",
      "100% 400/400 [00:06<00:00, 58.34it/s]\n",
      "100% 400/400 [00:05<00:00, 78.14it/s]\n",
      "100% 400/400 [00:04<00:00, 94.05it/s]\n",
      "100% 400/400 [00:04<00:00, 87.01it/s]\n",
      "100% 400/400 [00:04<00:00, 81.75it/s]\n",
      "100% 400/400 [00:04<00:00, 93.05it/s]\n",
      "100% 400/400 [00:04<00:00, 81.73it/s]\n",
      "100% 400/400 [00:04<00:00, 89.08it/s]\n",
      "55.83959899749374 ± 0.7585336316000783\n",
      "32.19983921303587 ± 1.1769799825393534\n",
      "25.301420976444415 ± 0.9025943394663422\n",
      "56.03843247959403 ± 0.5042035751709972\n"
     ]
    }
   ],
   "source": [
    "!python train.py --threshold $0.65 --alpha $10 --dataset $'eat' --cluster_num $4 --dims $203 #drop"
   ]
  },
  {
   "cell_type": "markdown",
   "metadata": {
    "id": "6z5LaR05gqg3"
   },
   "source": [
    "## CITESEER"
   ]
  },
  {
   "cell_type": "code",
   "execution_count": null,
   "metadata": {
    "colab": {
     "base_uri": "https://localhost:8080/"
    },
    "id": "zn0LGkpJfvJr",
    "outputId": "eb3b1fc2-b184-498c-c491-d4413b99648b"
   },
   "outputs": [
    {
     "name": "stdout",
     "output_type": "stream",
     "text": [
      "Alpha: 0.1\n",
      "Threshold: 0.65\n",
      "before masking:  105165\n",
      "++++++++++++++++++++++++++++++\n",
      "---details of graph dataset---\n",
      "++++++++++++++++++++++++++++++\n",
      "dataset name:    citeseer\n",
      "feature shape:   (3327, 3703)\n",
      "label shape:     (3327,)\n",
      "adj shape:       (3327, 3327)\n",
      "undirected edge num:    4614\n",
      "category num:           6\n",
      "category distribution: \n",
      "label 0:264\n",
      "label 1:590\n",
      "label 2:668\n",
      "label 3:701\n",
      "label 4:596\n",
      "label 5:508\n",
      "++++++++++++++++++++++++++++++\n",
      "After masking:  86164\n",
      "100% 400/400 [01:04<00:00,  6.17it/s]\n",
      "100% 400/400 [01:07<00:00,  5.93it/s]\n",
      "100% 400/400 [01:09<00:00,  5.79it/s]\n",
      "100% 400/400 [01:09<00:00,  5.78it/s]\n",
      "100% 400/400 [01:09<00:00,  5.76it/s]\n",
      "100% 400/400 [01:09<00:00,  5.80it/s]\n",
      "100% 400/400 [01:09<00:00,  5.79it/s]\n",
      "100% 400/400 [01:09<00:00,  5.79it/s]\n",
      "100% 400/400 [01:09<00:00,  5.79it/s]\n",
      "100% 400/400 [01:08<00:00,  5.82it/s]\n",
      "67.96212804328225 ± 1.8861140946207096\n",
      "40.97461792888037 ± 1.8439119366871926\n",
      "41.69391050404491 ± 2.685447414489328\n",
      "58.93288675762507 ± 1.751991688184863\n"
     ]
    }
   ],
   "source": [
    "!python train.py --threshold $0.65 --alpha $0.1 --dataset $'citeseer' --cluster_num $6 --dims $3703 #add"
   ]
  },
  {
   "cell_type": "markdown",
   "metadata": {
    "id": "K1_6BEtIjy-B"
   },
   "source": [
    "## AMAP"
   ]
  },
  {
   "cell_type": "code",
   "execution_count": null,
   "metadata": {
    "colab": {
     "base_uri": "https://localhost:8080/"
    },
    "id": "ECgLIdLQgtk4",
    "outputId": "9de43752-10db-4b6a-9c66-a87241c602f6"
   },
   "outputs": [
    {
     "name": "stdout",
     "output_type": "stream",
     "text": [
      "Alpha: 0.1\n",
      "Threshold: 0.65\n",
      "before masking:  1979909\n",
      "++++++++++++++++++++++++++++++\n",
      "---details of graph dataset---\n",
      "++++++++++++++++++++++++++++++\n",
      "dataset name:    amap\n",
      "feature shape:   (7650, 745)\n",
      "label shape:     (7650,)\n",
      "adj shape:       (7650, 7650)\n",
      "undirected edge num:    119081\n",
      "category num:           8\n",
      "category distribution: \n",
      "label 0:369\n",
      "label 1:1686\n",
      "label 2:703\n",
      "label 3:915\n",
      "label 4:882\n",
      "label 5:823\n",
      "label 6:1941\n",
      "label 7:331\n",
      "++++++++++++++++++++++++++++++\n",
      "After masking:  1600572\n",
      "100% 400/400 [00:41<00:00,  9.55it/s]\n",
      "100% 400/400 [00:41<00:00,  9.65it/s]\n",
      "100% 400/400 [00:41<00:00,  9.58it/s]\n",
      "100% 400/400 [00:42<00:00,  9.49it/s]\n",
      "100% 400/400 [00:41<00:00,  9.58it/s]\n",
      "100% 400/400 [00:42<00:00,  9.48it/s]\n",
      "100% 400/400 [00:42<00:00,  9.52it/s]\n",
      "100% 400/400 [00:42<00:00,  9.45it/s]\n",
      "100% 400/400 [00:42<00:00,  9.43it/s]\n",
      "100% 400/400 [00:42<00:00,  9.48it/s]\n",
      "77.15424836601306 ± 0.6486887769256067\n",
      "67.02031668217313 ± 0.5201353319558865\n",
      "57.811834324166895 ± 0.8617921229646172\n",
      "72.01302201811379 ± 0.4104284936198064\n"
     ]
    }
   ],
   "source": [
    "!python train.py --threshold $0.65 --alpha $0.1 --dataset $'amap' --cluster_num $8 --dims $745 #drop"
   ]
  },
  {
   "cell_type": "markdown",
   "metadata": {
    "id": "Q2qGlrGyl1Xv"
   },
   "source": [
    "## CORA"
   ]
  },
  {
   "cell_type": "code",
   "execution_count": null,
   "metadata": {
    "colab": {
     "base_uri": "https://localhost:8080/"
    },
    "id": "VHhp3hkUj0Mt",
    "outputId": "35f59e4c-2ef7-4853-e6dc-d204139f1c09"
   },
   "outputs": [
    {
     "name": "stdout",
     "output_type": "stream",
     "text": [
      "Alpha: 1.0\n",
      "Threshold: 0.7\n",
      "before masking:  49216\n",
      "++++++++++++++++++++++++++++++\n",
      "---details of graph dataset---\n",
      "++++++++++++++++++++++++++++++\n",
      "dataset name:    cora\n",
      "feature shape:   (2708, 1433)\n",
      "label shape:     (2708,)\n",
      "adj shape:       (2708, 2708)\n",
      "undirected edge num:    5278\n",
      "category num:           7\n",
      "category distribution: \n",
      "label 0:351\n",
      "label 1:217\n",
      "label 2:418\n",
      "label 3:818\n",
      "label 4:426\n",
      "label 5:298\n",
      "label 6:180\n",
      "++++++++++++++++++++++++++++++\n",
      "After masking:  39840\n",
      "100% 400/400 [00:22<00:00, 17.49it/s]\n",
      "100% 400/400 [00:22<00:00, 17.55it/s]\n",
      "100% 400/400 [00:22<00:00, 17.72it/s]\n",
      "100% 400/400 [00:22<00:00, 18.00it/s]\n",
      "100% 400/400 [00:22<00:00, 17.69it/s]\n",
      "100% 400/400 [00:22<00:00, 17.48it/s]\n",
      "100% 400/400 [00:22<00:00, 17.55it/s]\n",
      "100% 400/400 [00:22<00:00, 17.72it/s]\n",
      "100% 400/400 [00:22<00:00, 17.71it/s]\n",
      "100% 400/400 [00:22<00:00, 17.57it/s]\n",
      "72.67355982274742 ± 1.3216787421102887\n",
      "54.57513833725867 ± 1.7191307589011628\n",
      "49.059153042328504 ± 1.2816300999390284\n",
      "69.26067321794378 ± 3.1349681842270627\n"
     ]
    }
   ],
   "source": [
    "!python train.py --threshold $0.7 --alpha $1 --dataset $'cora' --cluster_num $7 --dims $1433 #drop\""
   ]
  },
  {
   "cell_type": "code",
   "execution_count": null,
   "metadata": {
    "id": "O_rrNLp4l7wt"
   },
   "outputs": [],
   "source": []
  }
 ],
 "metadata": {
  "accelerator": "GPU",
  "colab": {
   "gpuType": "T4",
   "provenance": [],
   "toc_visible": true
  },
  "kernelspec": {
   "display_name": "Python 3 (ipykernel)",
   "language": "python",
   "name": "python3"
  },
  "language_info": {
   "codemirror_mode": {
    "name": "ipython",
    "version": 3
   },
   "file_extension": ".py",
   "mimetype": "text/x-python",
   "name": "python",
   "nbconvert_exporter": "python",
   "pygments_lexer": "ipython3",
   "version": "3.11.1"
  }
 },
 "nbformat": 4,
 "nbformat_minor": 1
}
