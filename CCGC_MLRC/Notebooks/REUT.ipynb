{
 "cells": [
  {
   "cell_type": "markdown",
   "metadata": {},
   "source": [
    "**REUT(NON-GRAPH)**"
   ]
  },
  {
   "cell_type": "code",
   "execution_count": null,
   "metadata": {
    "id": "_EnCTtZWyKnU"
   },
   "outputs": [],
   "source": [
    "!pip install munkres\n",
    "!pip install torch.geometric"
   ]
  },
  {
   "cell_type": "markdown",
   "metadata": {},
   "source": [
    "* *Here copy the path of the **Re-CCGC** cloned folder also make the necessary changes of path in utils.py **load_graph_data()** function*\n",
    "*  *Remove feature smoothening in train.py*\n",
    "*  *Introduce PCA commented in load_graph_data() function utils.py*"
   ]
  },
  {
   "cell_type": "code",
   "execution_count": null,
   "metadata": {
    "colab": {
     "base_uri": "https://localhost:8080/"
    },
    "id": "qvub-okrkSzD",
    "outputId": "e4a75e76-39de-44d1-f6e6-5332b1b0de39"
   },
   "outputs": [
    {
     "name": "stdout",
     "output_type": "stream",
     "text": [
      "/content/drive/MyDrive/MLRC/CCGC_MLRC\n"
     ]
    }
   ],
   "source": [
    "%cd /content/drive/MyDrive/MLRC/CCGC_MLRC"
   ]
  },
  {
   "cell_type": "markdown",
   "metadata": {
    "id": "UoYWm24OyAKr"
   },
   "source": [
    "**REUT GRID_SEARCH**"
   ]
  },
  {
   "cell_type": "code",
   "execution_count": null,
   "metadata": {
    "colab": {
     "base_uri": "https://localhost:8080/"
    },
    "id": "H-zf609ArE85",
    "outputId": "dbdd39a5-56eb-4f00-bf4d-d594d17ef646"
   },
   "outputs": [
    {
     "name": "stdout",
     "output_type": "stream",
     "text": [
      "alpha:  0.1   tau:  0.5\n",
      "++++++++++++++++++++++++++++++\n",
      "---details of graph dataset---\n",
      "++++++++++++++++++++++++++++++\n",
      "dataset name:    reut\n",
      "feature shape:   (10000, 2000)\n",
      "label shape:     (10000,)\n",
      "adj shape:       (10000, 10000)\n",
      "undirected edge num:    50000000\n",
      "category num:           4\n",
      "category distribution: \n",
      "label 0:4312\n",
      "label 1:2403\n",
      "label 2:2471\n",
      "label 3:814\n",
      "++++++++++++++++++++++++++++++\n",
      "100% 400/400 [00:40<00:00,  9.91it/s]\n",
      "100% 400/400 [00:39<00:00, 10.03it/s]\n",
      "100% 400/400 [00:40<00:00,  9.98it/s]\n",
      "100% 400/400 [00:40<00:00,  9.97it/s]\n",
      "100% 400/400 [00:39<00:00, 10.04it/s]\n",
      "100% 400/400 [00:40<00:00,  9.82it/s]\n",
      "100% 400/400 [00:40<00:00,  9.79it/s]\n",
      "100% 400/400 [00:40<00:00,  9.89it/s]\n",
      "100% 400/400 [00:40<00:00,  9.90it/s]\n",
      "100% 400/400 [00:40<00:00,  9.93it/s]\n",
      "74.21900000000001 ± 3.014858039775672\n",
      "53.318239847947055 ± 3.777322886022515\n",
      "51.67176292260392 ± 5.002094793282277\n",
      "62.21175996214887 ± 3.558202621266369\n"
     ]
    }
   ],
   "source": [
    "x = 0.1\n",
    "y = 0.5\n",
    "z = \"reut\"\n",
    "cluster_num = 4\n",
    "!python train.py --alpha $x --threshold $y --dataset $z --cluster_num $cluster_num"
   ]
  },
  {
   "cell_type": "code",
   "execution_count": null,
   "metadata": {
    "colab": {
     "base_uri": "https://localhost:8080/"
    },
    "id": "0khL9EKvrJaF",
    "outputId": "198bbe7a-6ab3-45d1-a4c0-310be46dd294"
   },
   "outputs": [
    {
     "name": "stdout",
     "output_type": "stream",
     "text": [
      "alpha:  0.1   tau:  0.65\n",
      "++++++++++++++++++++++++++++++\n",
      "---details of graph dataset---\n",
      "++++++++++++++++++++++++++++++\n",
      "dataset name:    reut\n",
      "feature shape:   (10000, 2000)\n",
      "label shape:     (10000,)\n",
      "adj shape:       (10000, 10000)\n",
      "undirected edge num:    50000000\n",
      "category num:           4\n",
      "category distribution: \n",
      "label 0:4312\n",
      "label 1:2403\n",
      "label 2:2471\n",
      "label 3:814\n",
      "++++++++++++++++++++++++++++++\n",
      "100% 400/400 [00:47<00:00,  8.36it/s]\n",
      "100% 400/400 [00:46<00:00,  8.58it/s]\n",
      "100% 400/400 [00:46<00:00,  8.55it/s]\n",
      "100% 400/400 [00:47<00:00,  8.42it/s]\n",
      "100% 400/400 [00:48<00:00,  8.20it/s]\n",
      "100% 400/400 [00:48<00:00,  8.24it/s]\n",
      "100% 400/400 [00:47<00:00,  8.42it/s]\n",
      "100% 400/400 [00:48<00:00,  8.26it/s]\n",
      "100% 400/400 [00:48<00:00,  8.31it/s]\n",
      "100% 400/400 [00:48<00:00,  8.26it/s]\n",
      "72.773 ± 2.2794299726027996\n",
      "52.57439897011925 ± 2.794630058577418\n",
      "49.24333723186219 ± 3.5630934643794374\n",
      "61.89621135573547 ± 2.7703550930461294\n"
     ]
    }
   ],
   "source": [
    "x = 0.1\n",
    "y = 0.65\n",
    "z = \"reut\"\n",
    "cluster_num = 4\n",
    "!python train.py --alpha $x --threshold $y --dataset $z --cluster_num $cluster_num"
   ]
  },
  {
   "cell_type": "code",
   "execution_count": null,
   "metadata": {
    "colab": {
     "base_uri": "https://localhost:8080/"
    },
    "id": "6XBZYp89R36A",
    "outputId": "dad4a08b-3ee6-49d2-8fd6-a827e5c65b47"
   },
   "outputs": [
    {
     "name": "stdout",
     "output_type": "stream",
     "text": [
      "alpha:  0.1   tau:  0.7\n",
      "++++++++++++++++++++++++++++++\n",
      "---details of graph dataset---\n",
      "++++++++++++++++++++++++++++++\n",
      "dataset name:    reut\n",
      "feature shape:   (10000, 2000)\n",
      "label shape:     (10000,)\n",
      "adj shape:       (10000, 10000)\n",
      "undirected edge num:    50000000\n",
      "category num:           4\n",
      "category distribution: \n",
      "label 0:4312\n",
      "label 1:2403\n",
      "label 2:2471\n",
      "label 3:814\n",
      "++++++++++++++++++++++++++++++\n",
      "100% 400/400 [00:52<00:00,  7.67it/s]\n",
      "100% 400/400 [00:50<00:00,  7.86it/s]\n",
      "100% 400/400 [00:51<00:00,  7.81it/s]\n",
      "100% 400/400 [00:51<00:00,  7.83it/s]\n",
      "100% 400/400 [00:51<00:00,  7.79it/s]\n",
      "100% 400/400 [00:51<00:00,  7.76it/s]\n",
      "100% 400/400 [00:51<00:00,  7.80it/s]\n",
      "100% 400/400 [00:51<00:00,  7.84it/s]\n",
      "100% 400/400 [00:51<00:00,  7.80it/s]\n",
      "100% 400/400 [00:50<00:00,  7.86it/s]\n",
      "72.91999999999999 ± 2.856861914758919\n",
      "51.91467697656268 ± 3.7558633485000485\n",
      "49.23740188221744 ± 5.420559284365605\n",
      "62.68099053409105 ± 4.42501661728167\n"
     ]
    }
   ],
   "source": [
    "x = 0.1\n",
    "y = 0.7\n",
    "z = \"reut\"\n",
    "cluster_num = 4\n",
    "!python train.py --alpha $x --threshold $y --dataset $z --cluster_num $cluster_num"
   ]
  },
  {
   "cell_type": "code",
   "execution_count": null,
   "metadata": {
    "colab": {
     "base_uri": "https://localhost:8080/"
    },
    "id": "u3eCqIMoUx-C",
    "outputId": "2a6519b3-2bd4-46a8-93eb-020c3d2d886e"
   },
   "outputs": [
    {
     "name": "stdout",
     "output_type": "stream",
     "text": [
      "alpha:  0.5   tau:  0.5\n",
      "++++++++++++++++++++++++++++++\n",
      "---details of graph dataset---\n",
      "++++++++++++++++++++++++++++++\n",
      "dataset name:    reut\n",
      "feature shape:   (10000, 2000)\n",
      "label shape:     (10000,)\n",
      "adj shape:       (10000, 10000)\n",
      "undirected edge num:    50000000\n",
      "category num:           4\n",
      "category distribution: \n",
      "label 0:4312\n",
      "label 1:2403\n",
      "label 2:2471\n",
      "label 3:814\n",
      "++++++++++++++++++++++++++++++\n",
      "100% 400/400 [00:41<00:00,  9.70it/s]\n",
      "100% 400/400 [00:39<00:00, 10.02it/s]\n",
      "100% 400/400 [00:39<00:00, 10.00it/s]\n",
      "100% 400/400 [00:39<00:00, 10.11it/s]\n",
      "100% 400/400 [00:39<00:00, 10.06it/s]\n",
      "100% 400/400 [00:40<00:00,  9.90it/s]\n",
      "100% 400/400 [00:40<00:00,  9.96it/s]\n",
      "100% 400/400 [00:40<00:00,  9.98it/s]\n",
      "100% 400/400 [00:40<00:00,  9.85it/s]\n",
      "100% 400/400 [00:40<00:00,  9.85it/s]\n",
      "73.547 ± 2.2730730300630477\n",
      "52.89304326628603 ± 3.597003774588089\n",
      "51.19522848725651 ± 3.870303664015538\n",
      "62.84951569330697 ± 3.450181176081743\n"
     ]
    }
   ],
   "source": [
    "x = 0.5\n",
    "y = 0.5\n",
    "z = \"reut\"\n",
    "cluster_num = 4\n",
    "!python train.py --alpha $x --threshold $y --dataset $z --cluster_num $cluster_num"
   ]
  },
  {
   "cell_type": "code",
   "execution_count": null,
   "metadata": {
    "colab": {
     "base_uri": "https://localhost:8080/"
    },
    "id": "qWmtJw63VbD5",
    "outputId": "c79e1111-e166-4d22-ae43-37b88ced0474"
   },
   "outputs": [
    {
     "name": "stdout",
     "output_type": "stream",
     "text": [
      "alpha:  0.5   tau:  0.65\n",
      "++++++++++++++++++++++++++++++\n",
      "---details of graph dataset---\n",
      "++++++++++++++++++++++++++++++\n",
      "dataset name:    reut\n",
      "feature shape:   (10000, 2000)\n",
      "label shape:     (10000,)\n",
      "adj shape:       (10000, 10000)\n",
      "undirected edge num:    50000000\n",
      "category num:           4\n",
      "category distribution: \n",
      "label 0:4312\n",
      "label 1:2403\n",
      "label 2:2471\n",
      "label 3:814\n",
      "++++++++++++++++++++++++++++++\n",
      "100% 400/400 [00:46<00:00,  8.56it/s]\n",
      "100% 400/400 [00:47<00:00,  8.44it/s]\n",
      "100% 400/400 [00:46<00:00,  8.55it/s]\n",
      "100% 400/400 [00:46<00:00,  8.61it/s]\n",
      "100% 400/400 [00:47<00:00,  8.41it/s]\n",
      "100% 400/400 [00:46<00:00,  8.53it/s]\n",
      "100% 400/400 [00:46<00:00,  8.59it/s]\n",
      "100% 400/400 [00:47<00:00,  8.48it/s]\n",
      "100% 400/400 [00:47<00:00,  8.40it/s]\n",
      "100% 400/400 [00:46<00:00,  8.62it/s]\n",
      "72.237 ± 2.5134719015735962\n",
      "51.92636442911419 ± 3.42163643416927\n",
      "48.16213346658999 ± 5.085977219117091\n",
      "62.97077919231581 ± 4.511120239063898\n"
     ]
    }
   ],
   "source": [
    "x = 0.5\n",
    "y = 0.65\n",
    "z = \"reut\"\n",
    "cluster_num = 4\n",
    "!python train.py --alpha $x --threshold $y --dataset $z --cluster_num $cluster_num"
   ]
  },
  {
   "cell_type": "code",
   "execution_count": null,
   "metadata": {
    "colab": {
     "base_uri": "https://localhost:8080/"
    },
    "id": "fI4fx3AKYU2f",
    "outputId": "4e834fb8-a02b-4646-8466-a6533f763a21"
   },
   "outputs": [
    {
     "name": "stdout",
     "output_type": "stream",
     "text": [
      "alpha:  0.5   tau:  0.7\n",
      "++++++++++++++++++++++++++++++\n",
      "---details of graph dataset---\n",
      "++++++++++++++++++++++++++++++\n",
      "dataset name:    reut\n",
      "feature shape:   (10000, 2000)\n",
      "label shape:     (10000,)\n",
      "adj shape:       (10000, 10000)\n",
      "undirected edge num:    50000000\n",
      "category num:           4\n",
      "category distribution: \n",
      "label 0:4312\n",
      "label 1:2403\n",
      "label 2:2471\n",
      "label 3:814\n",
      "++++++++++++++++++++++++++++++\n",
      "100% 400/400 [00:49<00:00,  8.10it/s]\n",
      "100% 400/400 [00:48<00:00,  8.18it/s]\n",
      "100% 400/400 [00:49<00:00,  8.09it/s]\n",
      "100% 400/400 [00:49<00:00,  8.05it/s]\n",
      "100% 400/400 [00:49<00:00,  8.05it/s]\n",
      "100% 400/400 [00:49<00:00,  8.02it/s]\n",
      "100% 400/400 [00:49<00:00,  8.09it/s]\n",
      "100% 400/400 [00:49<00:00,  8.13it/s]\n",
      "100% 400/400 [00:49<00:00,  8.14it/s]\n",
      "100% 400/400 [00:49<00:00,  8.01it/s]\n",
      "72.46000000000001 ± 2.354782367863323\n",
      "50.8545279522266 ± 3.091658761745247\n",
      "48.89079682671819 ± 4.457400523051348\n",
      "62.42918891622021 ± 3.221598115305987\n"
     ]
    }
   ],
   "source": [
    "x = 0.5\n",
    "y = 0.7\n",
    "z = \"reut\"\n",
    "cluster_num = 4\n",
    "!python train.py --alpha $x --threshold $y --dataset $z --cluster_num $cluster_num"
   ]
  },
  {
   "cell_type": "code",
   "execution_count": null,
   "metadata": {
    "colab": {
     "base_uri": "https://localhost:8080/"
    },
    "id": "KA9WOPF8x9VI",
    "outputId": "f6ddb492-9283-4811-d1e0-f0185d14a951"
   },
   "outputs": [
    {
     "name": "stdout",
     "output_type": "stream",
     "text": [
      "alpha:  1   tau:  0.5\n",
      "++++++++++++++++++++++++++++++\n",
      "---details of graph dataset---\n",
      "++++++++++++++++++++++++++++++\n",
      "dataset name:    reut\n",
      "feature shape:   (10000, 2000)\n",
      "label shape:     (10000,)\n",
      "adj shape:       (10000, 10000)\n",
      "undirected edge num:    50000000\n",
      "category num:           4\n",
      "category distribution: \n",
      "label 0:4312\n",
      "label 1:2403\n",
      "label 2:2471\n",
      "label 3:814\n",
      "++++++++++++++++++++++++++++++\n",
      "100% 400/400 [00:38<00:00, 10.37it/s]\n",
      "100% 400/400 [00:38<00:00, 10.38it/s]\n",
      "100% 400/400 [00:38<00:00, 10.27it/s]\n",
      "100% 400/400 [00:38<00:00, 10.43it/s]\n",
      "100% 400/400 [00:38<00:00, 10.32it/s]\n",
      "100% 400/400 [00:38<00:00, 10.28it/s]\n",
      "100% 400/400 [00:38<00:00, 10.42it/s]\n",
      "100% 400/400 [00:36<00:00, 10.91it/s]\n",
      "100% 400/400 [00:37<00:00, 10.76it/s]\n",
      "100% 400/400 [00:37<00:00, 10.77it/s]\n",
      "73.838 ± 2.150859363138373\n",
      "51.77519168179536 ± 4.565845077119594\n",
      "50.059014755160874 ± 4.120047745263465\n",
      "63.08283906819152 ± 3.8651114570803013\n"
     ]
    }
   ],
   "source": [
    "x = 1\n",
    "y = 0.5\n",
    "z = \"reut\"\n",
    "cluster_num = 4\n",
    "!python train.py --alpha $x --threshold $y --dataset $z --cluster_num $cluster_num"
   ]
  },
  {
   "cell_type": "code",
   "execution_count": null,
   "metadata": {
    "colab": {
     "base_uri": "https://localhost:8080/"
    },
    "id": "Qefup6EpyE_N",
    "outputId": "4e099117-4127-4bfa-9209-07f4f2fc26f6"
   },
   "outputs": [
    {
     "name": "stdout",
     "output_type": "stream",
     "text": [
      "alpha:  1   tau:  0.65\n",
      "++++++++++++++++++++++++++++++\n",
      "---details of graph dataset---\n",
      "++++++++++++++++++++++++++++++\n",
      "dataset name:    reut\n",
      "feature shape:   (10000, 2000)\n",
      "label shape:     (10000,)\n",
      "adj shape:       (10000, 10000)\n",
      "undirected edge num:    50000000\n",
      "category num:           4\n",
      "category distribution: \n",
      "label 0:4312\n",
      "label 1:2403\n",
      "label 2:2471\n",
      "label 3:814\n",
      "++++++++++++++++++++++++++++++\n",
      "100% 400/400 [00:44<00:00,  9.00it/s]\n",
      "100% 400/400 [00:45<00:00,  8.82it/s]\n",
      "100% 400/400 [00:44<00:00,  9.05it/s]\n",
      "100% 400/400 [00:44<00:00,  9.00it/s]\n",
      "100% 400/400 [00:44<00:00,  8.97it/s]\n",
      "100% 400/400 [00:44<00:00,  9.00it/s]\n",
      "100% 400/400 [00:44<00:00,  9.04it/s]\n",
      "100% 400/400 [00:44<00:00,  8.95it/s]\n",
      "100% 400/400 [00:44<00:00,  8.95it/s]\n",
      "100% 400/400 [00:44<00:00,  8.99it/s]\n",
      "72.244 ± 2.762825365454718\n",
      "52.881999327870275 ± 2.856454010579671\n",
      "48.78309569024654 ± 4.302233652216288\n",
      "60.40203059291148 ± 1.5856548014568734\n"
     ]
    }
   ],
   "source": [
    "x = 1\n",
    "y = 0.65\n",
    "z = \"reut\"\n",
    "cluster_num = 4\n",
    "!python train.py --alpha $x --threshold $y --dataset $z --cluster_num $cluster_num"
   ]
  },
  {
   "cell_type": "code",
   "execution_count": null,
   "metadata": {
    "colab": {
     "base_uri": "https://localhost:8080/"
    },
    "id": "Nlf8sk43zwbW",
    "outputId": "68c708e0-a9e4-4a29-f60e-c09779d9bf66"
   },
   "outputs": [
    {
     "name": "stdout",
     "output_type": "stream",
     "text": [
      "alpha:  1   tau:  0.7\n",
      "++++++++++++++++++++++++++++++\n",
      "---details of graph dataset---\n",
      "++++++++++++++++++++++++++++++\n",
      "dataset name:    reut\n",
      "feature shape:   (10000, 2000)\n",
      "label shape:     (10000,)\n",
      "adj shape:       (10000, 10000)\n",
      "undirected edge num:    50000000\n",
      "category num:           4\n",
      "category distribution: \n",
      "label 0:4312\n",
      "label 1:2403\n",
      "label 2:2471\n",
      "label 3:814\n",
      "++++++++++++++++++++++++++++++\n",
      "100% 400/400 [00:47<00:00,  8.34it/s]\n",
      "100% 400/400 [00:48<00:00,  8.32it/s]\n",
      "100% 400/400 [00:48<00:00,  8.31it/s]\n",
      "100% 400/400 [00:49<00:00,  8.07it/s]\n",
      "100% 400/400 [00:49<00:00,  8.16it/s]\n",
      "100% 400/400 [00:49<00:00,  8.09it/s]\n",
      "100% 400/400 [00:49<00:00,  8.13it/s]\n",
      "100% 400/400 [00:49<00:00,  8.11it/s]\n",
      "100% 400/400 [00:48<00:00,  8.18it/s]\n",
      "100% 400/400 [00:48<00:00,  8.30it/s]\n",
      "71.59599999999999 ± 3.0674393229532653\n",
      "49.71764624800603 ± 5.206254288492851\n",
      "46.44057845846022 ± 7.234931225789915\n",
      "61.75883013626908 ± 3.725397568635396\n"
     ]
    }
   ],
   "source": [
    "x = 1\n",
    "y = 0.7\n",
    "z = \"reut\"\n",
    "cluster_num = 4\n",
    "!python train.py --alpha $x --threshold $y --dataset $z --cluster_num $cluster_num"
   ]
  },
  {
   "cell_type": "code",
   "execution_count": null,
   "metadata": {
    "colab": {
     "base_uri": "https://localhost:8080/"
    },
    "id": "RF_9333U1uGU",
    "outputId": "3ce01a4e-756b-4fd6-ba67-74b02dbc7951"
   },
   "outputs": [
    {
     "name": "stdout",
     "output_type": "stream",
     "text": [
      "alpha:  10   tau:  0.65\n",
      "++++++++++++++++++++++++++++++\n",
      "---details of graph dataset---\n",
      "++++++++++++++++++++++++++++++\n",
      "dataset name:    reut\n",
      "feature shape:   (10000, 2000)\n",
      "label shape:     (10000,)\n",
      "adj shape:       (10000, 10000)\n",
      "undirected edge num:    50000000\n",
      "category num:           4\n",
      "category distribution: \n",
      "label 0:4312\n",
      "label 1:2403\n",
      "label 2:2471\n",
      "label 3:814\n",
      "++++++++++++++++++++++++++++++\n",
      "100% 400/400 [00:46<00:00,  8.68it/s]\n",
      "100% 400/400 [00:49<00:00,  8.04it/s]\n",
      "100% 400/400 [00:47<00:00,  8.36it/s]\n",
      "100% 400/400 [00:45<00:00,  8.76it/s]\n",
      "100% 400/400 [00:43<00:00,  9.14it/s]\n",
      "100% 400/400 [00:44<00:00,  8.90it/s]\n",
      "100% 400/400 [00:43<00:00,  9.11it/s]\n",
      "100% 400/400 [00:43<00:00,  9.15it/s]\n",
      "100% 400/400 [00:44<00:00,  9.03it/s]\n",
      "100% 400/400 [00:43<00:00,  9.15it/s]\n",
      "72.49 ± 3.3782658273143626\n",
      "50.12158432429608 ± 2.735760990747187\n",
      "46.402439419065885 ± 4.758048171940607\n",
      "61.587069083984446 ± 4.278049704011342\n"
     ]
    }
   ],
   "source": [
    "x = 10\n",
    "y = 0.5\n",
    "z = \"reut\"\n",
    "cluster_num = 4\n",
    "!python train.py --alpha $x --threshold $y --dataset $z --cluster_num $cluster_num"
   ]
  },
  {
   "cell_type": "code",
   "execution_count": null,
   "metadata": {
    "colab": {
     "base_uri": "https://localhost:8080/"
    },
    "id": "MMM-0dQs2aap",
    "outputId": "6ed53a9e-c8f8-40ba-d639-f388617486a2"
   },
   "outputs": [
    {
     "name": "stdout",
     "output_type": "stream",
     "text": [
      "alpha:  10   tau:  0.65\n",
      "++++++++++++++++++++++++++++++\n",
      "---details of graph dataset---\n",
      "++++++++++++++++++++++++++++++\n",
      "dataset name:    reut\n",
      "feature shape:   (10000, 2000)\n",
      "label shape:     (10000,)\n",
      "adj shape:       (10000, 10000)\n",
      "undirected edge num:    50000000\n",
      "category num:           4\n",
      "category distribution: \n",
      "label 0:4312\n",
      "label 1:2403\n",
      "label 2:2471\n",
      "label 3:814\n",
      "++++++++++++++++++++++++++++++\n",
      "100% 400/400 [00:45<00:00,  8.74it/s]\n",
      "100% 400/400 [00:47<00:00,  8.43it/s]\n",
      "100% 400/400 [00:45<00:00,  8.73it/s]\n",
      "100% 400/400 [00:46<00:00,  8.65it/s]\n",
      "100% 400/400 [00:45<00:00,  8.70it/s]\n",
      "100% 400/400 [00:45<00:00,  8.79it/s]\n",
      "100% 400/400 [00:44<00:00,  8.90it/s]\n",
      "100% 400/400 [00:45<00:00,  8.84it/s]\n",
      "100% 400/400 [00:45<00:00,  8.77it/s]\n",
      "100% 400/400 [00:45<00:00,  8.72it/s]\n",
      "74.338 ± 2.1784710234474103\n",
      "53.75603529541529 ± 2.8921672577034743\n",
      "51.92267822773355 ± 4.3404651237283725\n",
      "60.867657876963904 ± 1.5991857867860446\n"
     ]
    }
   ],
   "source": [
    "x = 10\n",
    "y = 0.65\n",
    "z = \"reut\"\n",
    "cluster_num = 4\n",
    "!python train.py --alpha $x --threshold $y --dataset $z --cluster_num $cluster_num"
   ]
  },
  {
   "cell_type": "code",
   "execution_count": null,
   "metadata": {
    "colab": {
     "background_save": true,
     "base_uri": "https://localhost:8080/"
    },
    "id": "04tYp5Rk2ayf",
    "outputId": "ae4bd902-fb50-44e5-a44c-09293c3e4569"
   },
   "outputs": [
    {
     "name": "stdout",
     "output_type": "stream",
     "text": [
      "alpha:  10   tau:  0.7\n",
      "++++++++++++++++++++++++++++++\n",
      "---details of graph dataset---\n",
      "++++++++++++++++++++++++++++++\n",
      "dataset name:    reut\n",
      "feature shape:   (10000, 2000)\n",
      "label shape:     (10000,)\n",
      "adj shape:       (10000, 10000)\n",
      "undirected edge num:    50000000\n",
      "category num:           4\n",
      "category distribution: \n",
      "label 0:4312\n",
      "label 1:2403\n",
      "label 2:2471\n",
      "label 3:814\n",
      "++++++++++++++++++++++++++++++\n",
      "100% 400/400 [00:47<00:00,  8.47it/s]\n",
      "100% 400/400 [00:47<00:00,  8.49it/s]\n",
      "100% 400/400 [00:46<00:00,  8.54it/s]\n",
      "100% 400/400 [00:47<00:00,  8.50it/s]\n",
      "100% 400/400 [00:48<00:00,  8.33it/s]\n",
      "100% 400/400 [00:47<00:00,  8.39it/s]\n",
      "100% 400/400 [00:48<00:00,  8.28it/s]\n",
      "100% 400/400 [00:47<00:00,  8.47it/s]\n",
      "100% 400/400 [00:47<00:00,  8.50it/s]\n",
      "100% 400/400 [00:46<00:00,  8.52it/s]\n",
      "73.503 ± 3.1560736683417243\n",
      "53.257584851904085 ± 3.268767370131847\n",
      "50.349269135879425 ± 4.549964505165883\n",
      "62.418009658882895 ± 3.7740794743878925\n"
     ]
    }
   ],
   "source": [
    "x = 10\n",
    "y = 0.7\n",
    "z = \"reut\"\n",
    "cluster_num = 4\n",
    "!python train.py --alpha $x --threshold $y --dataset $z --cluster_num $cluster_num"
   ]
  },
  {
   "cell_type": "code",
   "execution_count": null,
   "metadata": {
    "id": "fqmoUl5UoIqV"
   },
   "outputs": [],
   "source": []
  }
 ],
 "metadata": {
  "accelerator": "GPU",
  "colab": {
   "provenance": []
  },
  "kernelspec": {
   "display_name": "Python 3 (ipykernel)",
   "language": "python",
   "name": "python3"
  },
  "language_info": {
   "codemirror_mode": {
    "name": "ipython",
    "version": 3
   },
   "file_extension": ".py",
   "mimetype": "text/x-python",
   "name": "python",
   "nbconvert_exporter": "python",
   "pygments_lexer": "ipython3",
   "version": "3.11.1"
  }
 },
 "nbformat": 4,
 "nbformat_minor": 1
}
