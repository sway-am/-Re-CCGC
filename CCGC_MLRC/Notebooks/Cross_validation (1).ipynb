{
  "nbformat": 4,
  "nbformat_minor": 0,
  "metadata": {
    "colab": {
      "provenance": [],
      "gpuType": "T4"
    },
    "kernelspec": {
      "name": "python3",
      "display_name": "Python 3"
    },
    "language_info": {
      "name": "python"
    },
    "accelerator": "GPU"
  },
  "cells": [
    {
      "cell_type": "code",
      "execution_count": null,
      "metadata": {
        "colab": {
          "base_uri": "https://localhost:8080/"
        },
        "id": "BPn3KoKccoPF",
        "outputId": "ca602a0a-9e56-4b11-f4c2-c9dd24d19653"
      },
      "outputs": [
        {
          "output_type": "stream",
          "name": "stdout",
          "text": [
            "/content/drive/MyDrive\n"
          ]
        }
      ],
      "source": [
        "%cd /content/drive/MyDrive"
      ]
    },
    {
      "cell_type": "code",
      "source": [
        "!git clone https://github.com/sway-am/Rep_CCGC"
      ],
      "metadata": {
        "colab": {
          "base_uri": "https://localhost:8080/"
        },
        "id": "Ie53LOWPc3cx",
        "outputId": "9fd9834a-c0fb-4e98-be63-5efa824bae8f"
      },
      "execution_count": null,
      "outputs": [
        {
          "output_type": "stream",
          "name": "stdout",
          "text": [
            "Cloning into 'Rep_CCGC'...\n",
            "remote: Enumerating objects: 160, done.\u001b[K\n",
            "remote: Counting objects: 100% (80/80), done.\u001b[K\n",
            "remote: Compressing objects: 100% (78/78), done.\u001b[K\n",
            "remote: Total 160 (delta 23), reused 0 (delta 0), pack-reused 80\u001b[K\n",
            "Receiving objects: 100% (160/160), 694.93 KiB | 2.63 MiB/s, done.\n",
            "Resolving deltas: 100% (48/48), done.\n"
          ]
        }
      ]
    },
    {
      "cell_type": "code",
      "source": [
        "%cd CCGC_MLRC"
      ],
      "metadata": {
        "colab": {
          "base_uri": "https://localhost:8080/"
        },
        "id": "NQEzo_STc8hp",
        "outputId": "c2d364e3-565e-42e3-ab81-a759e4178734"
      },
      "execution_count": null,
      "outputs": [
        {
          "output_type": "stream",
          "name": "stdout",
          "text": [
            "/content/drive/MyDrive/Rep_CCGC/CCGC_MLRC\n"
          ]
        }
      ]
    },
    {
      "cell_type": "code",
      "source": [
        "!pip install munkres\n",
        "!pip install torch.geometric"
      ],
      "metadata": {
        "colab": {
          "base_uri": "https://localhost:8080/"
        },
        "id": "HRupJ0Xlfuxh",
        "outputId": "16a80525-0895-4298-c97e-51aef1e033f5"
      },
      "execution_count": null,
      "outputs": [
        {
          "output_type": "stream",
          "name": "stdout",
          "text": [
            "Collecting munkres\n",
            "  Downloading munkres-1.1.4-py2.py3-none-any.whl (7.0 kB)\n",
            "Installing collected packages: munkres\n",
            "Successfully installed munkres-1.1.4\n",
            "Collecting torch.geometric\n",
            "  Downloading torch_geometric-2.5.0-py3-none-any.whl (1.1 MB)\n",
            "\u001b[2K     \u001b[90m━━━━━━━━━━━━━━━━━━━━━━━━━━━━━━━━━━━━━━━━\u001b[0m \u001b[32m1.1/1.1 MB\u001b[0m \u001b[31m11.9 MB/s\u001b[0m eta \u001b[36m0:00:00\u001b[0m\n",
            "\u001b[?25hRequirement already satisfied: tqdm in /usr/local/lib/python3.10/dist-packages (from torch.geometric) (4.66.2)\n",
            "Requirement already satisfied: numpy in /usr/local/lib/python3.10/dist-packages (from torch.geometric) (1.25.2)\n",
            "Requirement already satisfied: scipy in /usr/local/lib/python3.10/dist-packages (from torch.geometric) (1.11.4)\n",
            "Requirement already satisfied: fsspec in /usr/local/lib/python3.10/dist-packages (from torch.geometric) (2023.6.0)\n",
            "Requirement already satisfied: jinja2 in /usr/local/lib/python3.10/dist-packages (from torch.geometric) (3.1.3)\n",
            "Requirement already satisfied: aiohttp in /usr/local/lib/python3.10/dist-packages (from torch.geometric) (3.9.3)\n",
            "Requirement already satisfied: requests in /usr/local/lib/python3.10/dist-packages (from torch.geometric) (2.31.0)\n",
            "Requirement already satisfied: pyparsing in /usr/local/lib/python3.10/dist-packages (from torch.geometric) (3.1.1)\n",
            "Requirement already satisfied: scikit-learn in /usr/local/lib/python3.10/dist-packages (from torch.geometric) (1.2.2)\n",
            "Requirement already satisfied: psutil>=5.8.0 in /usr/local/lib/python3.10/dist-packages (from torch.geometric) (5.9.5)\n",
            "Requirement already satisfied: aiosignal>=1.1.2 in /usr/local/lib/python3.10/dist-packages (from aiohttp->torch.geometric) (1.3.1)\n",
            "Requirement already satisfied: attrs>=17.3.0 in /usr/local/lib/python3.10/dist-packages (from aiohttp->torch.geometric) (23.2.0)\n",
            "Requirement already satisfied: frozenlist>=1.1.1 in /usr/local/lib/python3.10/dist-packages (from aiohttp->torch.geometric) (1.4.1)\n",
            "Requirement already satisfied: multidict<7.0,>=4.5 in /usr/local/lib/python3.10/dist-packages (from aiohttp->torch.geometric) (6.0.5)\n",
            "Requirement already satisfied: yarl<2.0,>=1.0 in /usr/local/lib/python3.10/dist-packages (from aiohttp->torch.geometric) (1.9.4)\n",
            "Requirement already satisfied: async-timeout<5.0,>=4.0 in /usr/local/lib/python3.10/dist-packages (from aiohttp->torch.geometric) (4.0.3)\n",
            "Requirement already satisfied: MarkupSafe>=2.0 in /usr/local/lib/python3.10/dist-packages (from jinja2->torch.geometric) (2.1.5)\n",
            "Requirement already satisfied: charset-normalizer<4,>=2 in /usr/local/lib/python3.10/dist-packages (from requests->torch.geometric) (3.3.2)\n",
            "Requirement already satisfied: idna<4,>=2.5 in /usr/local/lib/python3.10/dist-packages (from requests->torch.geometric) (3.6)\n",
            "Requirement already satisfied: urllib3<3,>=1.21.1 in /usr/local/lib/python3.10/dist-packages (from requests->torch.geometric) (2.0.7)\n",
            "Requirement already satisfied: certifi>=2017.4.17 in /usr/local/lib/python3.10/dist-packages (from requests->torch.geometric) (2024.2.2)\n",
            "Requirement already satisfied: joblib>=1.1.1 in /usr/local/lib/python3.10/dist-packages (from scikit-learn->torch.geometric) (1.3.2)\n",
            "Requirement already satisfied: threadpoolctl>=2.0.0 in /usr/local/lib/python3.10/dist-packages (from scikit-learn->torch.geometric) (3.3.0)\n",
            "Installing collected packages: torch.geometric\n",
            "Successfully installed torch.geometric-2.5.0\n"
          ]
        }
      ]
    },
    {
      "cell_type": "code",
      "source": [],
      "metadata": {
        "colab": {
          "base_uri": "https://localhost:8080/"
        },
        "id": "riVbseEsdBKz",
        "outputId": "ac5b8605-5ee4-46e0-8917-7d189d9c8b4d"
      },
      "execution_count": null,
      "outputs": [
        {
          "output_type": "stream",
          "name": "stdout",
          "text": [
            "Traceback (most recent call last):\n",
            "  File \"/content/drive/MyDrive/Rep_CCGC/CCGC_MLRC/train.py\", line 24, in <module>\n",
            "    adj, features, true_labels, idx_train, idx_val, idx_test = load_data(args.dataset)\n",
            "  File \"/content/drive/MyDrive/Rep_CCGC/CCGC_MLRC/utils.py\", line 266, in load_data\n",
            "    feat,label,adj = load_graph_data(dataset)\n",
            "  File \"/content/drive/MyDrive/Rep_CCGC/CCGC_MLRC/utils.py\", line 115, in load_graph_data\n",
            "    feat = np.load(load_path+\"_feat.npy\", allow_pickle=False)\n",
            "  File \"/usr/local/lib/python3.10/dist-packages/numpy/lib/npyio.py\", line 427, in load\n",
            "    fid = stack.enter_context(open(os_fspath(file), \"rb\"))\n",
            "FileNotFoundError: [Errno 2] No such file or directory: '/content/drive/MyDrive/CCGC_MLRC/dataset/bat_feat.npy'\n"
          ]
        }
      ]
    },
    {
      "cell_type": "code",
      "source": [
        "%cd dataset"
      ],
      "metadata": {
        "colab": {
          "base_uri": "https://localhost:8080/"
        },
        "id": "2KqAR7BJhE9t",
        "outputId": "66becb32-283f-4eaf-9d55-6c9d5f46cc56"
      },
      "execution_count": null,
      "outputs": [
        {
          "output_type": "stream",
          "name": "stdout",
          "text": [
            "/content/drive/MyDrive/Rep_CCGC/CCGC_MLRC/dataset\n"
          ]
        }
      ]
    },
    {
      "cell_type": "code",
      "source": [
        "!unzip bat.zip"
      ],
      "metadata": {
        "colab": {
          "base_uri": "https://localhost:8080/"
        },
        "id": "XT0nYLSHf-0g",
        "outputId": "496eda78-43bb-4f84-9025-00297640b342"
      },
      "execution_count": null,
      "outputs": [
        {
          "output_type": "stream",
          "name": "stdout",
          "text": [
            "Archive:  bat.zip\n",
            "  inflating: bat_adj.npy             \n",
            "  inflating: bat_feat.npy            \n",
            "  inflating: bat_label.npy           \n"
          ]
        }
      ]
    },
    {
      "cell_type": "code",
      "source": [
        "!unzip eat.zip"
      ],
      "metadata": {
        "colab": {
          "base_uri": "https://localhost:8080/"
        },
        "id": "SFfXf00whKz8",
        "outputId": "c5b4aed7-32ea-4074-9489-221e93d63b0f"
      },
      "execution_count": null,
      "outputs": [
        {
          "output_type": "stream",
          "name": "stdout",
          "text": [
            "Archive:  eat.zip\n",
            "  inflating: eat_adj.npy             \n",
            "  inflating: eat_feat.npy            \n",
            "  inflating: eat_label.npy           \n"
          ]
        }
      ]
    },
    {
      "cell_type": "code",
      "source": [
        "!unzip uat.zip"
      ],
      "metadata": {
        "colab": {
          "base_uri": "https://localhost:8080/"
        },
        "id": "EXfmCITLhNKq",
        "outputId": "133ab733-0cfe-4a49-f1f3-7ae0c32e0e3a"
      },
      "execution_count": null,
      "outputs": [
        {
          "output_type": "stream",
          "name": "stdout",
          "text": [
            "Archive:  uat.zip\n",
            "   creating: uat/\n",
            "  inflating: uat/uat_adj.npy         \n",
            "  inflating: uat/uat_feat.npy        \n",
            "  inflating: uat/uat_label.npy       \n"
          ]
        }
      ]
    },
    {
      "cell_type": "code",
      "source": [
        "!unzip usps.zip"
      ],
      "metadata": {
        "colab": {
          "base_uri": "https://localhost:8080/"
        },
        "id": "xgEj1lf_hO-o",
        "outputId": "5165877e-7562-4812-ff11-a25782965d14"
      },
      "execution_count": null,
      "outputs": [
        {
          "output_type": "stream",
          "name": "stdout",
          "text": [
            "Archive:  usps.zip\n",
            "  inflating: usps_feat.npy           \n",
            "  inflating: usps_label.npy          \n"
          ]
        }
      ]
    },
    {
      "cell_type": "code",
      "source": [
        "!unzip cora.zip"
      ],
      "metadata": {
        "colab": {
          "base_uri": "https://localhost:8080/"
        },
        "id": "9DE9AlhWhRgK",
        "outputId": "6d2284c1-a322-4d00-9c0e-811c044c28e6"
      },
      "execution_count": null,
      "outputs": [
        {
          "output_type": "stream",
          "name": "stdout",
          "text": [
            "Archive:  cora.zip\n",
            "   creating: cora/\n",
            "  inflating: cora/cora_adj.npy       \n",
            "  inflating: cora/cora_feat.npy      \n",
            "  inflating: cora/cora_label.npy     \n"
          ]
        }
      ]
    },
    {
      "cell_type": "code",
      "source": [
        "!unzip citeseer.zip"
      ],
      "metadata": {
        "colab": {
          "base_uri": "https://localhost:8080/"
        },
        "id": "faTWpnOBhZJh",
        "outputId": "d1700388-cbf1-47b4-a54d-429c1c34a430"
      },
      "execution_count": null,
      "outputs": [
        {
          "output_type": "stream",
          "name": "stdout",
          "text": [
            "Archive:  citeseer.zip\n",
            "   creating: citeseer/\n",
            "  inflating: citeseer/citeseer_adj.npy  \n",
            "  inflating: citeseer/citeseer_feat.npy  \n",
            "  inflating: citeseer/citeseer_label.npy  \n"
          ]
        }
      ]
    },
    {
      "cell_type": "code",
      "source": [
        "!unzip amap.zip"
      ],
      "metadata": {
        "colab": {
          "base_uri": "https://localhost:8080/"
        },
        "id": "B9fXTB60hd1C",
        "outputId": "d49b9e24-ac66-4131-9db2-b2749a208bd4"
      },
      "execution_count": null,
      "outputs": [
        {
          "output_type": "stream",
          "name": "stdout",
          "text": [
            "Archive:  amap.zip\n",
            "  inflating: amap_adj.npy            \n",
            "  inflating: amap_feat.npy           \n",
            "  inflating: amap_label.npy          \n"
          ]
        }
      ]
    },
    {
      "cell_type": "code",
      "source": [
        "alpha = [0.5]\n",
        "tau = [0.5]\n",
        "\n",
        "dimens = 81\n",
        "classes = 4\n",
        "dataset = \"bat\"\n",
        "\n",
        "\n",
        "for x in alpha:\n",
        "  for y in tau:\n",
        "     !python train.py --alpha $x --threshold $y --dims $dimens --cluster_num $classes --dataset $dataset"
      ],
      "metadata": {
        "colab": {
          "base_uri": "https://localhost:8080/"
        },
        "id": "aGQ5XVWPh3qA",
        "outputId": "2e5293f3-c9cc-4d25-a1b3-bb637c80578d"
      },
      "execution_count": null,
      "outputs": [
        {
          "output_type": "stream",
          "name": "stdout",
          "text": [
            "++++++++++++++++++++++++++++++\n",
            "---details of graph dataset---\n",
            "++++++++++++++++++++++++++++++\n",
            "dataset name:    bat\n",
            "feature shape:   (131, 81)\n",
            "label shape:     (131,)\n",
            "adj shape:       (131, 131)\n",
            "undirected edge num:    1038\n",
            "category num:           4\n",
            "category distribution: \n",
            "label 0:32\n",
            "label 1:32\n",
            "label 2:32\n",
            "label 3:35\n",
            "++++++++++++++++++++++++++++++\n",
            "100% 400/400 [00:03<00:00, 105.04it/s]\n",
            "--------------------------------------------------\n",
            "Test Accuracy: 70.37037037037037\n",
            "Test NMI: 52.77479940095361\n",
            "Test ARI: 43.87265590928914\n",
            "Test F1 Score: 56.80147058823529\n",
            "--------------------------------------------------\n",
            "100% 400/400 [00:03<00:00, 103.03it/s]\n",
            "--------------------------------------------------\n",
            "Test Accuracy: 71.42857142857143\n",
            "Test NMI: 54.888536092718645\n",
            "Test ARI: 38.00457886492348\n",
            "Test F1 Score: 66.64335664335664\n",
            "--------------------------------------------------\n",
            "100% 400/400 [00:03<00:00, 128.91it/s]\n",
            "--------------------------------------------------\n",
            "Test Accuracy: 58.82352941176471\n",
            "Test NMI: 46.49051257446305\n",
            "Test ARI: 19.92361553150859\n",
            "Test F1 Score: 58.27922077922077\n",
            "--------------------------------------------------\n",
            "100% 400/400 [00:02<00:00, 139.41it/s]\n",
            "--------------------------------------------------\n",
            "Test Accuracy: 57.14285714285714\n",
            "Test NMI: 58.517684785093884\n",
            "Test ARI: 30.070163715335784\n",
            "Test F1 Score: 50.95238095238095\n",
            "--------------------------------------------------\n",
            "100% 400/400 [00:02<00:00, 137.05it/s]\n",
            "--------------------------------------------------\n",
            "Test Accuracy: 63.63636363636363\n",
            "Test NMI: 68.88876520080794\n",
            "Test ARI: 46.03033006244425\n",
            "Test F1 Score: 53.17460317460318\n",
            "--------------------------------------------------\n",
            "100% 400/400 [00:03<00:00, 125.50it/s]\n",
            "--------------------------------------------------\n",
            "Test Accuracy: 88.88888888888889\n",
            "Test NMI: 85.28070066556317\n",
            "Test ARI: 76.92307692307693\n",
            "Test F1 Score: 86.66666666666667\n",
            "--------------------------------------------------\n",
            "100% 400/400 [00:03<00:00, 127.35it/s]\n",
            "--------------------------------------------------\n",
            "Test Accuracy: 71.42857142857143\n",
            "Test NMI: 61.17236165563889\n",
            "Test ARI: 16.0\n",
            "Test F1 Score: 71.11111111111111\n",
            "--------------------------------------------------\n",
            "100% 400/400 [00:02<00:00, 158.85it/s]\n",
            "--------------------------------------------------\n",
            "Test Accuracy: 60.0\n",
            "Test NMI: 65.15533942552646\n",
            "Test ARI: -15.384615384615385\n",
            "Test F1 Score: 61.11111111111111\n",
            "--------------------------------------------------\n",
            "100% 400/400 [00:02<00:00, 173.50it/s]\n",
            "--------------------------------------------------\n",
            "Test Accuracy: 75.0\n",
            "Test NMI: 66.66666666666666\n",
            "Test ARI: 0.0\n",
            "Test F1 Score: 73.33333333333334\n",
            "--------------------------------------------------\n",
            "100% 400/400 [00:01<00:00, 299.55it/s]\n",
            "--------------------------------------------------\n",
            "Test Accuracy: 75.0\n",
            "Test NMI: 85.71428571428571\n",
            "Test ARI: 0.0\n",
            "Test F1 Score: 77.77777777777777\n",
            "--------------------------------------------------\n",
            "--------------------------------------------------\n",
            "81.42913383878341 ± 10.117309058372696\n",
            "67.51506642076546 ± 16.773919250028577\n",
            "61.34572891423274 ± 18.232704617335692\n",
            "79.45985028051528 ± 11.654155033928149\n",
            "--------------------------------------------------\n"
          ]
        }
      ]
    },
    {
      "cell_type": "code",
      "source": [
        "alpha = [0.5]\n",
        "tau = [0.5]\n",
        "\n",
        "dimens = 203\n",
        "classes = 4\n",
        "dataset = \"eat\"\n",
        "\n",
        "\n",
        "for x in alpha:\n",
        "  for y in tau:\n",
        "     !python train.py --alpha $x --threshold $y --dims $dimens --cluster_num $classes --dataset $dataset"
      ],
      "metadata": {
        "colab": {
          "base_uri": "https://localhost:8080/"
        },
        "id": "_VBz0C3NiYPZ",
        "outputId": "110cf431-9cc6-4312-9522-c70d527549a4"
      },
      "execution_count": null,
      "outputs": [
        {
          "output_type": "stream",
          "name": "stdout",
          "text": [
            "++++++++++++++++++++++++++++++\n",
            "---details of graph dataset---\n",
            "++++++++++++++++++++++++++++++\n",
            "dataset name:    eat\n",
            "feature shape:   (399, 203)\n",
            "label shape:     (399,)\n",
            "adj shape:       (399, 399)\n",
            "undirected edge num:    5994\n",
            "category num:           4\n",
            "category distribution: \n",
            "label 0:99\n",
            "label 1:99\n",
            "label 2:99\n",
            "label 3:102\n",
            "++++++++++++++++++++++++++++++\n",
            "100% 400/400 [00:04<00:00, 87.75it/s] \n",
            "--------------------------------------------------\n",
            "Test Accuracy: 52.5\n",
            "Test NMI: 33.0103947088488\n",
            "Test ARI: 22.957317811558987\n",
            "Test F1 Score: 52.14880578252671\n",
            "--------------------------------------------------\n",
            "100% 400/400 [00:03<00:00, 112.16it/s]\n",
            "--------------------------------------------------\n",
            "Test Accuracy: 50.0\n",
            "Test NMI: 41.51451669537395\n",
            "Test ARI: 28.49155473969437\n",
            "Test F1 Score: 47.86107427055703\n",
            "--------------------------------------------------\n",
            "100% 400/400 [00:03<00:00, 115.91it/s]\n",
            "--------------------------------------------------\n",
            "Test Accuracy: 45.09803921568628\n",
            "Test NMI: 29.442504841229656\n",
            "Test ARI: 14.962071341512448\n",
            "Test F1 Score: 44.92424242424242\n",
            "--------------------------------------------------\n",
            "100% 400/400 [00:04<00:00, 95.17it/s]\n",
            "--------------------------------------------------\n",
            "Test Accuracy: 56.09756097560976\n",
            "Test NMI: 53.745455405211914\n",
            "Test ARI: 38.91836734693877\n",
            "Test F1 Score: 42.74193548387097\n",
            "--------------------------------------------------\n",
            "100% 400/400 [00:03<00:00, 123.99it/s]\n",
            "--------------------------------------------------\n",
            "Test Accuracy: 57.57575757575758\n",
            "Test NMI: 31.73077742931985\n",
            "Test ARI: 15.232086525461918\n",
            "Test F1 Score: 60.59750826341216\n",
            "--------------------------------------------------\n",
            "100% 400/400 [00:03<00:00, 126.54it/s]\n",
            "--------------------------------------------------\n",
            "Test Accuracy: 61.53846153846154\n",
            "Test NMI: 47.62321388493353\n",
            "Test ARI: 31.06330946023507\n",
            "Test F1 Score: 56.127450980392155\n",
            "--------------------------------------------------\n",
            "100% 400/400 [00:03<00:00, 126.59it/s]\n",
            "--------------------------------------------------\n",
            "Test Accuracy: 42.857142857142854\n",
            "Test NMI: 23.13978413629183\n",
            "Test ARI: 1.8028169014084507\n",
            "Test F1 Score: 44.4078947368421\n",
            "--------------------------------------------------\n",
            "100% 400/400 [00:03<00:00, 111.67it/s]\n",
            "--------------------------------------------------\n",
            "Test Accuracy: 64.70588235294117\n",
            "Test NMI: 54.92904668967036\n",
            "Test ARI: 36.0655737704918\n",
            "Test F1 Score: 51.944444444444436\n",
            "--------------------------------------------------\n",
            "100% 400/400 [00:02<00:00, 137.20it/s]\n",
            "--------------------------------------------------\n",
            "Test Accuracy: 71.42857142857143\n",
            "Test NMI: 58.35395999651934\n",
            "Test ARI: 44.32358939496941\n",
            "Test F1 Score: 66.17965367965368\n",
            "--------------------------------------------------\n",
            "100% 400/400 [00:02<00:00, 155.13it/s]\n",
            "--------------------------------------------------\n",
            "Test Accuracy: 72.72727272727273\n",
            "Test NMI: 69.51715131094363\n",
            "Test ARI: 39.56043956043956\n",
            "Test F1 Score: 70.59523809523809\n",
            "--------------------------------------------------\n",
            "--------------------------------------------------\n",
            "56.85894740354753 ± 1.0895451905979552\n",
            "32.537241844210506 ± 3.1876841697517713\n",
            "22.57332823817084 ± 1.953418768073532\n",
            "57.86873313128564 ± 1.230400789096917\n",
            "--------------------------------------------------\n"
          ]
        }
      ]
    },
    {
      "cell_type": "code",
      "source": [
        "alpha = [0.5]\n",
        "tau = [0.5]\n",
        "\n",
        "dataset = \"amap\"\n",
        "classes = 8\n",
        "dimens = 745\n",
        "\n",
        "\n",
        "for x in alpha:\n",
        "  for y in tau:\n",
        "     !python train.py --alpha $x --threshold $y --dims $dimens --cluster_num $classes --dataset $dataset"
      ],
      "metadata": {
        "colab": {
          "base_uri": "https://localhost:8080/"
        },
        "id": "9RAEMmHMibTk",
        "outputId": "1af744bf-69b4-43b5-e2cb-d40a38070f24"
      },
      "execution_count": null,
      "outputs": [
        {
          "output_type": "stream",
          "name": "stdout",
          "text": [
            "++++++++++++++++++++++++++++++\n",
            "---details of graph dataset---\n",
            "++++++++++++++++++++++++++++++\n",
            "dataset name:    amap\n",
            "feature shape:   (7650, 745)\n",
            "label shape:     (7650,)\n",
            "adj shape:       (7650, 7650)\n",
            "undirected edge num:    119081\n",
            "category num:           8\n",
            "category distribution: \n",
            "label 0:369\n",
            "label 1:1686\n",
            "label 2:703\n",
            "label 3:915\n",
            "label 4:882\n",
            "label 5:823\n",
            "label 6:1941\n",
            "label 7:331\n",
            "++++++++++++++++++++++++++++++\n",
            "100% 400/400 [00:28<00:00, 14.08it/s]\n",
            "--------------------------------------------------\n",
            "Test Accuracy: 57.71241830065359\n",
            "Test NMI: 53.15271584753667\n",
            "Test ARI: 38.00393432775698\n",
            "Test F1 Score: 50.60328738717795\n",
            "--------------------------------------------------\n",
            "100% 400/400 [00:22<00:00, 17.51it/s]\n",
            "--------------------------------------------------\n",
            "Test Accuracy: 77.2875816993464\n",
            "Test NMI: 65.16308583241768\n",
            "Test ARI: 56.86411198857878\n",
            "Test F1 Score: 71.74673438182221\n",
            "--------------------------------------------------\n",
            "100% 400/400 [00:18<00:00, 21.45it/s]\n",
            "--------------------------------------------------\n",
            "Test Accuracy: 66.12244897959184\n",
            "Test NMI: 58.47453834458154\n",
            "Test ARI: 41.46391914631465\n",
            "Test F1 Score: 66.76007025752295\n",
            "--------------------------------------------------\n",
            "100% 400/400 [00:15<00:00, 25.56it/s]\n",
            "--------------------------------------------------\n",
            "Test Accuracy: 69.64285714285714\n",
            "Test NMI: 62.459790924773564\n",
            "Test ARI: 49.85734103236395\n",
            "Test F1 Score: 69.11509472570148\n",
            "--------------------------------------------------\n",
            "100% 400/400 [00:12<00:00, 31.70it/s]\n",
            "--------------------------------------------------\n",
            "Test Accuracy: 73.68421052631578\n",
            "Test NMI: 64.73944616322392\n",
            "Test ARI: 54.54742015359627\n",
            "Test F1 Score: 68.60473471241816\n",
            "--------------------------------------------------\n",
            "100% 400/400 [00:10<00:00, 38.58it/s]\n",
            "--------------------------------------------------\n",
            "Test Accuracy: 62.874251497005986\n",
            "Test NMI: 55.786417024854885\n",
            "Test ARI: 41.73518149686962\n",
            "Test F1 Score: 55.52849873126288\n",
            "--------------------------------------------------\n",
            "100% 400/400 [00:09<00:00, 41.18it/s]\n",
            "--------------------------------------------------\n",
            "Test Accuracy: 72.81795511221945\n",
            "Test NMI: 64.03833532392318\n",
            "Test ARI: 52.10552912958049\n",
            "Test F1 Score: 63.77533410993637\n",
            "--------------------------------------------------\n",
            "100% 400/400 [00:08<00:00, 45.03it/s]\n",
            "--------------------------------------------------\n",
            "Test Accuracy: 61.99376947040498\n",
            "Test NMI: 59.4543200404436\n",
            "Test ARI: 40.614301764104994\n",
            "Test F1 Score: 51.86729135336721\n",
            "--------------------------------------------------\n",
            "100% 400/400 [00:07<00:00, 57.06it/s]\n",
            "--------------------------------------------------\n",
            "Test Accuracy: 66.53696498054474\n",
            "Test NMI: 65.14571289281274\n",
            "Test ARI: 49.24305723423733\n",
            "Test F1 Score: 56.35549911849087\n",
            "--------------------------------------------------\n",
            "100% 400/400 [00:07<00:00, 54.83it/s]\n",
            "--------------------------------------------------\n",
            "Test Accuracy: 70.24390243902438\n",
            "Test NMI: 67.94139374579623\n",
            "Test ARI: 51.01863154919574\n",
            "Test F1 Score: 66.67439327534748\n",
            "--------------------------------------------------\n",
            "--------------------------------------------------\n",
            "76.36797646346683 ± 1.2483198229897743\n",
            "66.01050750596889 ± 1.2944537805447505\n",
            "56.263824155259954 ± 1.7131499527544\n",
            "72.0175520149157 ± 2.6125827963969077\n",
            "--------------------------------------------------\n"
          ]
        }
      ]
    },
    {
      "cell_type": "code",
      "source": [
        "alpha = [0.5]\n",
        "tau = [0.5]\n",
        "\n",
        "dataset = \"citeseer\"\n",
        "classes = 6\n",
        "dimens = 3703\n",
        "\n",
        "\n",
        "for x in alpha:\n",
        "  for y in tau:\n",
        "     !python train.py --alpha $x --threshold $y --dims $dimens --cluster_num $classes --dataset $dataset"
      ],
      "metadata": {
        "colab": {
          "base_uri": "https://localhost:8080/"
        },
        "id": "ldQKQjIKi6I5",
        "outputId": "21b23601-2798-4e7c-c711-f9586ef4bc9a"
      },
      "execution_count": null,
      "outputs": [
        {
          "output_type": "stream",
          "name": "stdout",
          "text": [
            "++++++++++++++++++++++++++++++\n",
            "---details of graph dataset---\n",
            "++++++++++++++++++++++++++++++\n",
            "dataset name:    citeseer\n",
            "feature shape:   (3327, 3703)\n",
            "label shape:     (3327,)\n",
            "adj shape:       (3327, 3327)\n",
            "undirected edge num:    4614\n",
            "category num:           6\n",
            "category distribution: \n",
            "label 0:264\n",
            "label 1:590\n",
            "label 2:668\n",
            "label 3:701\n",
            "label 4:596\n",
            "label 5:508\n",
            "++++++++++++++++++++++++++++++\n",
            "100% 400/400 [00:50<00:00,  7.84it/s]\n",
            "--------------------------------------------------\n",
            "Test Accuracy: 40.24024024024024\n",
            "Test NMI: 22.4656926779412\n",
            "Test ARI: 11.282166561474188\n",
            "Test F1 Score: 30.178337260641026\n",
            "--------------------------------------------------\n",
            "100% 400/400 [00:40<00:00,  9.92it/s]\n",
            "--------------------------------------------------\n",
            "Test Accuracy: 41.275797373358344\n",
            "Test NMI: 23.151320415612513\n",
            "Test ARI: 13.391693604626578\n",
            "Test F1 Score: 33.76399831471068\n",
            "--------------------------------------------------\n",
            "100% 400/400 [00:33<00:00, 11.86it/s]\n",
            "--------------------------------------------------\n",
            "Test Accuracy: 45.539906103286384\n",
            "Test NMI: 25.292685815858277\n",
            "Test ARI: 18.149567177244748\n",
            "Test F1 Score: 40.47300994541045\n",
            "--------------------------------------------------\n",
            "100% 400/400 [00:27<00:00, 14.56it/s]\n",
            "--------------------------------------------------\n",
            "Test Accuracy: 42.81524926686217\n",
            "Test NMI: 25.57186530753955\n",
            "Test ARI: 15.156292448510674\n",
            "Test F1 Score: 35.929551869025445\n",
            "--------------------------------------------------\n",
            "100% 400/400 [00:22<00:00, 17.43it/s]\n",
            "--------------------------------------------------\n",
            "Test Accuracy: 52.01465201465202\n",
            "Test NMI: 33.960200041612694\n",
            "Test ARI: 22.3795255767549\n",
            "Test F1 Score: 42.35383487460756\n",
            "--------------------------------------------------\n",
            "100% 400/400 [00:19<00:00, 20.73it/s]\n",
            "--------------------------------------------------\n",
            "Test Accuracy: 44.03669724770643\n",
            "Test NMI: 27.783685050185653\n",
            "Test ARI: 18.653012348915116\n",
            "Test F1 Score: 34.95850125037776\n",
            "--------------------------------------------------\n",
            "100% 400/400 [00:16<00:00, 24.56it/s]\n",
            "--------------------------------------------------\n",
            "Test Accuracy: 59.195402298850574\n",
            "Test NMI: 38.06356573751428\n",
            "Test ARI: 28.863094483605266\n",
            "Test F1 Score: 46.04284153979894\n",
            "--------------------------------------------------\n",
            "100% 400/400 [00:13<00:00, 28.76it/s]\n",
            "--------------------------------------------------\n",
            "Test Accuracy: 40.714285714285715\n",
            "Test NMI: 20.552041183469775\n",
            "Test ARI: 10.63658044113897\n",
            "Test F1 Score: 32.89717604733522\n",
            "--------------------------------------------------\n",
            "100% 400/400 [00:12<00:00, 33.12it/s]\n",
            "--------------------------------------------------\n",
            "Test Accuracy: 36.607142857142854\n",
            "Test NMI: 27.323826259328136\n",
            "Test ARI: 6.666763761350976\n",
            "Test F1 Score: 30.79272847350322\n",
            "--------------------------------------------------\n",
            "100% 400/400 [00:10<00:00, 37.36it/s]\n",
            "--------------------------------------------------\n",
            "Test Accuracy: 46.06741573033708\n",
            "Test NMI: 35.45100405589004\n",
            "Test ARI: 20.012771209110127\n",
            "Test F1 Score: 40.70413672715463\n",
            "--------------------------------------------------\n",
            "--------------------------------------------------\n",
            "67.00994111481778 ± 3.116813276058216\n",
            "40.55325312126925 ± 3.0980469278123377\n",
            "39.93300285415275 ± 4.195432200938196\n",
            "58.440629296512114 ± 2.787358076747887\n",
            "--------------------------------------------------\n"
          ]
        }
      ]
    },
    {
      "cell_type": "code",
      "source": [
        "alpha = [0.5]\n",
        "tau = [0.5]\n",
        "\n",
        "dataset = \"uat\"\n",
        "classes = 4\n",
        "dimens = 239\n",
        "\n",
        "\n",
        "for x in alpha:\n",
        "  for y in tau:\n",
        "     !python train.py --alpha $x --threshold $y --dims $dimens --cluster_num $classes --dataset $dataset"
      ],
      "metadata": {
        "colab": {
          "base_uri": "https://localhost:8080/"
        },
        "id": "XqviopHki_DU",
        "outputId": "e5ab1e84-5ef6-46a8-ea02-b0a9f3c17fd5"
      },
      "execution_count": null,
      "outputs": [
        {
          "output_type": "stream",
          "name": "stdout",
          "text": [
            "++++++++++++++++++++++++++++++\n",
            "---details of graph dataset---\n",
            "++++++++++++++++++++++++++++++\n",
            "dataset name:    uat\n",
            "feature shape:   (1190, 239)\n",
            "label shape:     (1190,)\n",
            "adj shape:       (1190, 1190)\n",
            "undirected edge num:    13599\n",
            "category num:           4\n",
            "category distribution: \n",
            "label 0:297\n",
            "label 1:297\n",
            "label 2:297\n",
            "label 3:299\n",
            "++++++++++++++++++++++++++++++\n",
            "100% 400/400 [00:03<00:00, 101.55it/s]\n",
            "--------------------------------------------------\n",
            "Test Accuracy: 33.193277310924366\n",
            "Test NMI: 8.938422788194963\n",
            "Test ARI: 1.8136373801361783\n",
            "Test F1 Score: 24.52755009107468\n",
            "--------------------------------------------------\n",
            "100% 400/400 [00:03<00:00, 108.15it/s]\n",
            "--------------------------------------------------\n",
            "Test Accuracy: 47.12041884816754\n",
            "Test NMI: 24.250560803904044\n",
            "Test ARI: 9.866626487796493\n",
            "Test F1 Score: 43.777824313214516\n",
            "--------------------------------------------------\n",
            "100% 400/400 [00:02<00:00, 145.31it/s]\n",
            "--------------------------------------------------\n",
            "Test Accuracy: 50.326797385620914\n",
            "Test NMI: 18.53121654470586\n",
            "Test ARI: 13.957109393073393\n",
            "Test F1 Score: 40.747551018189334\n",
            "--------------------------------------------------\n",
            "100% 400/400 [00:02<00:00, 194.99it/s]\n",
            "--------------------------------------------------\n",
            "Test Accuracy: 40.98360655737705\n",
            "Test NMI: 12.575661009305964\n",
            "Test ARI: 4.026037398555466\n",
            "Test F1 Score: 39.56655619576968\n",
            "--------------------------------------------------\n",
            "100% 400/400 [00:01<00:00, 203.37it/s]\n",
            "--------------------------------------------------\n",
            "Test Accuracy: 51.02040816326531\n",
            "Test NMI: 31.416378120446097\n",
            "Test ARI: 16.315282276728265\n",
            "Test F1 Score: 46.419020111253744\n",
            "--------------------------------------------------\n",
            "100% 400/400 [00:01<00:00, 225.72it/s]\n",
            "--------------------------------------------------\n",
            "Test Accuracy: 34.61538461538461\n",
            "Test NMI: 15.887880227079943\n",
            "Test ARI: 1.5707465505482399\n",
            "Test F1 Score: 34.784946236559136\n",
            "--------------------------------------------------\n",
            "100% 400/400 [00:01<00:00, 205.14it/s]\n",
            "--------------------------------------------------\n",
            "Test Accuracy: 48.38709677419355\n",
            "Test NMI: 25.466028739325875\n",
            "Test ARI: 10.787930225170337\n",
            "Test F1 Score: 45.57471264367816\n",
            "--------------------------------------------------\n",
            "100% 400/400 [00:01<00:00, 238.09it/s]\n",
            "--------------------------------------------------\n",
            "Test Accuracy: 46.0\n",
            "Test NMI: 17.26185377973719\n",
            "Test ARI: 4.987425670435049\n",
            "Test F1 Score: 38.87764282501124\n",
            "--------------------------------------------------\n",
            "100% 400/400 [00:01<00:00, 276.08it/s]\n",
            "--------------------------------------------------\n",
            "Test Accuracy: 45.0\n",
            "Test NMI: 22.367802878827607\n",
            "Test ARI: 9.097223830141935\n",
            "Test F1 Score: 43.854166666666664\n",
            "--------------------------------------------------\n",
            "100% 400/400 [00:01<00:00, 239.09it/s]\n",
            "--------------------------------------------------\n",
            "Test Accuracy: 37.5\n",
            "Test NMI: 19.438269114372098\n",
            "Test ARI: 3.091482649842271\n",
            "Test F1 Score: 33.79369138959932\n",
            "--------------------------------------------------\n",
            "--------------------------------------------------\n",
            "50.41789966004407 ± 1.5911142107516238\n",
            "22.093121954193887 ± 1.585234137605746\n",
            "13.688764238509233 ± 2.12924201739251\n",
            "46.41406669948064 ± 1.4476271081982244\n",
            "--------------------------------------------------\n"
          ]
        }
      ]
    },
    {
      "cell_type": "code",
      "source": [
        "alpha = [0.5]\n",
        "tau = [0.5]\n",
        "\n",
        "dataset = \"cora\"\n",
        "classes = 7\n",
        "dimens = 1433\n",
        "\n",
        "\n",
        "for x in alpha:\n",
        "  for y in tau:\n",
        "     !python train.py --alpha $x --threshold $y --dims $dimens --cluster_num $classes --dataset $dataset"
      ],
      "metadata": {
        "colab": {
          "base_uri": "https://localhost:8080/"
        },
        "id": "Wp2Zo1YbjEjL",
        "outputId": "3cd2cb4e-bc33-4fe9-9040-be77f7fd67f2"
      },
      "execution_count": null,
      "outputs": [
        {
          "output_type": "stream",
          "name": "stdout",
          "text": [
            "++++++++++++++++++++++++++++++\n",
            "---details of graph dataset---\n",
            "++++++++++++++++++++++++++++++\n",
            "dataset name:    cora\n",
            "feature shape:   (2708, 1433)\n",
            "label shape:     (2708,)\n",
            "adj shape:       (2708, 2708)\n",
            "undirected edge num:    5278\n",
            "category num:           7\n",
            "category distribution: \n",
            "label 0:351\n",
            "label 1:217\n",
            "label 2:418\n",
            "label 3:818\n",
            "label 4:426\n",
            "label 5:298\n",
            "label 6:180\n",
            "++++++++++++++++++++++++++++++\n",
            "100% 400/400 [00:16<00:00, 24.23it/s]\n",
            "--------------------------------------------------\n",
            "Test Accuracy: 54.61254612546126\n",
            "Test NMI: 44.64035289363552\n",
            "Test ARI: 28.17112833731173\n",
            "Test F1 Score: 47.11604042536964\n",
            "--------------------------------------------------\n",
            "100% 400/400 [00:13<00:00, 29.51it/s]\n",
            "--------------------------------------------------\n",
            "Test Accuracy: 53.91705069124424\n",
            "Test NMI: 46.7688340896704\n",
            "Test ARI: 32.36870433886713\n",
            "Test F1 Score: 45.79615060956697\n",
            "--------------------------------------------------\n",
            "100% 400/400 [00:11<00:00, 35.08it/s]\n",
            "--------------------------------------------------\n",
            "Test Accuracy: 49.85590778097983\n",
            "Test NMI: 45.07460011949722\n",
            "Test ARI: 30.734976721860242\n",
            "Test F1 Score: 36.25936328956097\n",
            "--------------------------------------------------\n",
            "100% 400/400 [00:09<00:00, 42.70it/s]\n",
            "--------------------------------------------------\n",
            "Test Accuracy: 51.985559566786996\n",
            "Test NMI: 47.863501438478565\n",
            "Test ARI: 30.015037034168884\n",
            "Test F1 Score: 41.72722978080121\n",
            "--------------------------------------------------\n",
            "100% 400/400 [00:08<00:00, 48.45it/s]\n",
            "--------------------------------------------------\n",
            "Test Accuracy: 47.74774774774775\n",
            "Test NMI: 44.57962922843567\n",
            "Test ARI: 24.6976694485955\n",
            "Test F1 Score: 44.72914148274859\n",
            "--------------------------------------------------\n",
            "100% 400/400 [00:07<00:00, 52.26it/s]\n",
            "--------------------------------------------------\n",
            "Test Accuracy: 51.12359550561798\n",
            "Test NMI: 44.87630010917189\n",
            "Test ARI: 25.4100043353072\n",
            "Test F1 Score: 45.79035132879206\n",
            "--------------------------------------------------\n",
            "100% 400/400 [00:06<00:00, 63.50it/s]\n",
            "--------------------------------------------------\n",
            "Test Accuracy: 56.33802816901409\n",
            "Test NMI: 47.720959684702244\n",
            "Test ARI: 31.891389372801576\n",
            "Test F1 Score: 39.323123188669406\n",
            "--------------------------------------------------\n",
            "100% 400/400 [00:06<00:00, 61.22it/s]\n",
            "--------------------------------------------------\n",
            "Test Accuracy: 55.26315789473685\n",
            "Test NMI: 46.71450752257812\n",
            "Test ARI: 32.07355997773337\n",
            "Test F1 Score: 42.30952202999339\n",
            "--------------------------------------------------\n",
            "100% 400/400 [00:05<00:00, 76.05it/s]\n",
            "--------------------------------------------------\n",
            "Test Accuracy: 56.043956043956044\n",
            "Test NMI: 48.838844003107425\n",
            "Test ARI: 31.711613775587615\n",
            "Test F1 Score: 47.435243328100476\n",
            "--------------------------------------------------\n",
            "100% 400/400 [00:05<00:00, 74.80it/s]\n",
            "--------------------------------------------------\n",
            "Test Accuracy: 52.054794520547944\n",
            "Test NMI: 52.37142614592328\n",
            "Test ARI: 33.17675398976212\n",
            "Test F1 Score: 37.72808644989097\n",
            "--------------------------------------------------\n",
            "--------------------------------------------------\n",
            "72.04421172206574 ± 2.245313912060119\n",
            "56.810512333596684 ± 1.6703820005111285\n",
            "48.95663823602736 ± 2.515547824517491\n",
            "69.37452037373427 ± 3.599658252825446\n",
            "--------------------------------------------------\n"
          ]
        }
      ]
    },
    {
      "cell_type": "code",
      "source": [
        "x = 0.5\n",
        "y = 0.5\n",
        "\n",
        "dataset = \"usps\"\n",
        "classes = 4\n",
        "dimens = 9298\n",
        "\n",
        "\n",
        "!python train.py --alpha $x --threshold $y --dims $dimens --cluster_num $classes --dataset $dataset"
      ],
      "metadata": {
        "colab": {
          "base_uri": "https://localhost:8080/"
        },
        "id": "pD77oukc_7hA",
        "outputId": "a4602870-37ad-44a3-9578-3c870aeb427f"
      },
      "execution_count": 10,
      "outputs": [
        {
          "output_type": "stream",
          "name": "stdout",
          "text": [
            "alpha:  0.5   tau:  0.5\n",
            "++++++++++++++++++++++++++++++\n",
            "---details of graph dataset---\n",
            "++++++++++++++++++++++++++++++\n",
            "dataset name:    usps\n",
            "feature shape:   (9298, 256)\n",
            "label shape:     (9298,)\n",
            "adj shape:       (9298, 9298)\n",
            "undirected edge num:    43226402\n",
            "category num:           10\n",
            "category distribution: \n",
            "label 0:1553\n",
            "label 1:1269\n",
            "label 2:929\n",
            "label 3:824\n",
            "label 4:852\n",
            "label 5:716\n",
            "label 6:834\n",
            "label 7:792\n",
            "label 8:708\n",
            "label 9:821\n",
            "++++++++++++++++++++++++++++++\n",
            "100% 30/30 [03:53<00:00,  7.78s/it]\n",
            "--------------------------------------------------\n",
            "Test Accuracy: 43.44086021505376\n",
            "Test NMI: 47.06804200770698\n",
            "Test ARI: 31.030035893883934\n",
            "Test F1 Score: 25.112194619306898\n",
            "--------------------------------------------------\n",
            "100% 30/30 [03:04<00:00,  6.16s/it]\n",
            "--------------------------------------------------\n",
            "Test Accuracy: 43.01075268817204\n",
            "Test NMI: 47.623876159836\n",
            "Test ARI: 30.42865795294042\n",
            "Test F1 Score: 24.85332475155781\n",
            "--------------------------------------------------\n",
            "100% 30/30 [02:41<00:00,  5.39s/it]\n",
            "--------------------------------------------------\n",
            "Test Accuracy: 44.957983193277315\n",
            "Test NMI: 46.48499857062093\n",
            "Test ARI: 31.338051263117954\n",
            "Test F1 Score: 24.58653072855745\n",
            "--------------------------------------------------\n",
            "100% 30/30 [02:15<00:00,  4.51s/it]\n",
            "--------------------------------------------------\n",
            "Test Accuracy: 47.794117647058826\n",
            "Test NMI: 48.977955956094185\n",
            "Test ARI: 34.806174941130834\n",
            "Test F1 Score: 27.012607204413865\n",
            "--------------------------------------------------\n",
            "100% 30/30 [01:41<00:00,  3.39s/it]\n",
            "--------------------------------------------------\n",
            "Test Accuracy: 49.08136482939632\n",
            "Test NMI: 53.79561823942836\n",
            "Test ARI: 37.77329985621897\n",
            "Test F1 Score: 28.064879712276785\n",
            "--------------------------------------------------\n",
            "100% 30/30 [01:07<00:00,  2.26s/it]\n",
            "--------------------------------------------------\n",
            "Test Accuracy: 43.44262295081967\n",
            "Test NMI: 47.68782098161346\n",
            "Test ARI: 31.115489221123678\n",
            "Test F1 Score: 25.534453806500828\n",
            "--------------------------------------------------\n",
            "100% 30/30 [00:58<00:00,  1.94s/it]\n",
            "--------------------------------------------------\n",
            "Test Accuracy: 39.959016393442624\n",
            "Test NMI: 42.04480924925444\n",
            "Test ARI: 23.70572348493581\n",
            "Test F1 Score: 24.514619741841194\n",
            "--------------------------------------------------\n",
            "100% 30/30 [00:45<00:00,  1.52s/it]\n",
            "--------------------------------------------------\n",
            "Test Accuracy: 40.76923076923077\n",
            "Test NMI: 39.568994719283275\n",
            "Test ARI: 23.5600094373922\n",
            "Test F1 Score: 25.20048572135466\n",
            "--------------------------------------------------\n",
            "100% 30/30 [00:40<00:00,  1.34s/it]\n",
            "--------------------------------------------------\n",
            "Test Accuracy: 45.19230769230769\n",
            "Test NMI: 49.486541989334796\n",
            "Test ARI: 30.435656311413712\n",
            "Test F1 Score: 28.009104733520278\n",
            "--------------------------------------------------\n",
            "100% 30/30 [00:27<00:00,  1.08it/s]\n",
            "--------------------------------------------------\n",
            "Test Accuracy: 42.8\n",
            "Test NMI: 51.880768891646355\n",
            "Test ARI: 29.39959759413352\n",
            "Test F1 Score: 25.82427927228954\n",
            "--------------------------------------------------\n",
            "--------------------------------------------------\n",
            "45.287344943447536 ± 0.6726781853751894\n",
            "47.35949162808494 ± 1.5045416979064314\n",
            "32.01201040007162 ± 1.7299344699343586\n",
            "25.67979345471452 ± 0.5607450574807343\n",
            "--------------------------------------------------\n"
          ]
        }
      ]
    },
    {
      "cell_type": "code",
      "source": [
        "alpha = [0.5]\n",
        "tau = [0.5]\n",
        "\n",
        "dataset = \"reut\"\n",
        "classes = 4\n",
        "# dimens =\n",
        "\n",
        "for x in alpha:\n",
        "  for y in tau:\n",
        "     !python train.py --alpha $x --threshold $y --dims $dimens --cluster_num $classes --dataset $dataset"
      ],
      "metadata": {
        "colab": {
          "base_uri": "https://localhost:8080/"
        },
        "id": "9URu9T8ipap-",
        "outputId": "eb7bcd22-29ad-4bc7-cd0c-d2b6479a59c3"
      },
      "execution_count": 23,
      "outputs": [
        {
          "output_type": "stream",
          "name": "stdout",
          "text": [
            "alpha:  0.5   tau:  0.5\n",
            "++++++++++++++++++++++++++++++\n",
            "---details of graph dataset---\n",
            "++++++++++++++++++++++++++++++\n",
            "dataset name:    reut\n",
            "feature shape:   (10000, 2000)\n",
            "label shape:     (10000,)\n",
            "adj shape:       (10000, 10000)\n",
            "undirected edge num:    50000000\n",
            "category num:           4\n",
            "category distribution: \n",
            "label 0:4312\n",
            "label 1:2403\n",
            "label 2:2471\n",
            "label 3:814\n",
            "++++++++++++++++++++++++++++++\n",
            "100% 100/100 [00:51<00:00,  1.93it/s]\n",
            "--------------------------------------------------\n",
            "Test Accuracy: 61.1\n",
            "Test NMI: 39.09345354674399\n",
            "Test ARI: 35.71321511571274\n",
            "Test F1 Score: 56.007085783298606\n",
            "--------------------------------------------------\n",
            "100% 100/100 [00:35<00:00,  2.86it/s]\n",
            "--------------------------------------------------\n",
            "Test Accuracy: 76.5625\n",
            "Test NMI: 50.29307756585452\n",
            "Test ARI: 57.28692308254205\n",
            "Test F1 Score: 67.9102216423138\n",
            "--------------------------------------------------\n",
            "100% 100/100 [00:23<00:00,  4.21it/s]\n",
            "--------------------------------------------------\n",
            "Test Accuracy: 65.15625\n",
            "Test NMI: 49.00287260600719\n",
            "Test ARI: 44.853273918389874\n",
            "Test F1 Score: 61.96947016024008\n",
            "--------------------------------------------------\n",
            "100% 100/100 [00:16<00:00,  6.18it/s]\n",
            "--------------------------------------------------\n",
            "Test Accuracy: 68.75\n",
            "Test NMI: 47.23934487057938\n",
            "Test ARI: 44.10846756094791\n",
            "Test F1 Score: 62.05148436043295\n",
            "--------------------------------------------------\n",
            "100% 100/100 [00:11<00:00,  8.65it/s]\n",
            "--------------------------------------------------\n",
            "Test Accuracy: 56.34146341463414\n",
            "Test NMI: 34.158830482237704\n",
            "Test ARI: 25.36275897833643\n",
            "Test F1 Score: 55.94528888778266\n",
            "--------------------------------------------------\n",
            "100% 100/100 [00:08<00:00, 12.36it/s]\n",
            "--------------------------------------------------\n",
            "Test Accuracy: 73.6280487804878\n",
            "Test NMI: 51.048566052603896\n",
            "Test ARI: 46.83718333317523\n",
            "Test F1 Score: 61.23881991418144\n",
            "--------------------------------------------------\n",
            "100% 100/100 [00:05<00:00, 16.74it/s]\n",
            "--------------------------------------------------\n",
            "Test Accuracy: 64.69465648854961\n",
            "Test NMI: 50.19038724549032\n",
            "Test ARI: 43.16016658822869\n",
            "Test F1 Score: 56.9319395011952\n",
            "--------------------------------------------------\n",
            "100% 100/100 [00:04<00:00, 23.65it/s]\n",
            "--------------------------------------------------\n",
            "Test Accuracy: 62.857142857142854\n",
            "Test NMI: 41.659752973334456\n",
            "Test ARI: 32.15682642036116\n",
            "Test F1 Score: 56.87299539500796\n",
            "--------------------------------------------------\n",
            "100% 100/100 [00:02<00:00, 33.94it/s]\n",
            "--------------------------------------------------\n",
            "Test Accuracy: 61.011904761904766\n",
            "Test NMI: 36.195117908827235\n",
            "Test ARI: 30.433166065516264\n",
            "Test F1 Score: 59.96127218415042\n",
            "--------------------------------------------------\n",
            "100% 100/100 [00:02<00:00, 47.64it/s]\n",
            "--------------------------------------------------\n",
            "Test Accuracy: 60.07462686567165\n",
            "Test NMI: 34.614065005232696\n",
            "Test ARI: 31.54766609364763\n",
            "Test F1 Score: 50.43111053112358\n",
            "--------------------------------------------------\n",
            "--------------------------------------------------\n",
            "74.1439594993729 ± 3.0296057071778932\n",
            "52.90911202609938 ± 2.606303401998935\n",
            "53.08445391498357 ± 5.061786452243663\n",
            "61.947882866310955 ± 1.5496557438593583\n",
            "--------------------------------------------------\n"
          ]
        }
      ]
    },
    {
      "cell_type": "code",
      "source": [
        "%cd /content/drive/MyDrive/Rep_CCGC/CCGC_MLRC"
      ],
      "metadata": {
        "colab": {
          "base_uri": "https://localhost:8080/"
        },
        "id": "_M4_H1qRrpW6",
        "outputId": "15cc007f-d4e5-4b0e-d52a-3ef93fcd89e1"
      },
      "execution_count": 2,
      "outputs": [
        {
          "output_type": "stream",
          "name": "stdout",
          "text": [
            "/content/drive/MyDrive/Rep_CCGC/CCGC_MLRC\n"
          ]
        }
      ]
    },
    {
      "cell_type": "code",
      "source": [
        "load_path = \"/content/drive/MyDrive/Rep_CCGC/CCGC_MLRC/dataset/\" + \"reut\"\n",
        "adj = np.load(load_path+\"_adj.npy\", allow_pickle=False)"
      ],
      "metadata": {
        "id": "Kc4fYCiorrxJ"
      },
      "execution_count": 10,
      "outputs": []
    },
    {
      "cell_type": "code",
      "source": [
        "import numpy as np"
      ],
      "metadata": {
        "id": "Smnzn6zVtdmE"
      },
      "execution_count": 7,
      "outputs": []
    },
    {
      "cell_type": "code",
      "source": [],
      "metadata": {
        "colab": {
          "base_uri": "https://localhost:8080/"
        },
        "id": "y0UxVX1-tgt0",
        "outputId": "7121dcd2-e6a8-46da-f513-2e3213b4738a"
      },
      "execution_count": 9,
      "outputs": [
        {
          "output_type": "execute_result",
          "data": {
            "text/plain": [
              "(9298, 9298)"
            ]
          },
          "metadata": {},
          "execution_count": 9
        }
      ]
    },
    {
      "cell_type": "code",
      "source": [],
      "metadata": {
        "id": "6CIzoGYqtryn"
      },
      "execution_count": null,
      "outputs": []
    }
  ]
}