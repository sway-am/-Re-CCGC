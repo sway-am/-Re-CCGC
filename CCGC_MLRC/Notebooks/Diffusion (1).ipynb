{
 "cells": [
  {
   "cell_type": "markdown",
   "metadata": {},
   "source": [
    "# Diffusion."
   ]
  },
  {
   "cell_type": "code",
   "execution_count": 2,
   "metadata": {
    "colab": {
     "base_uri": "https://localhost:8080/"
    },
    "id": "tmI7fchT_zaG",
    "outputId": "9acdf472-d448-45d8-d511-f46609cf8998"
   },
   "outputs": [
    {
     "name": "stdout",
     "output_type": "stream",
     "text": [
      "/content/drive/MyDrive/CCGC_MLRC\n"
     ]
    }
   ],
   "source": [
    "%cd /content/drive/MyDrive/CCGC_MLRC"
   ]
  },
  {
   "cell_type": "code",
   "execution_count": 4,
   "metadata": {
    "colab": {
     "base_uri": "https://localhost:8080/"
    },
    "id": "T6wr2N-xG7K7",
    "outputId": "f42a6b66-907c-4ac5-ab9d-d7f8fe0235fe"
   },
   "outputs": [
    {
     "name": "stdout",
     "output_type": "stream",
     "text": [
      "Collecting munkres\n",
      "  Downloading munkres-1.1.4-py2.py3-none-any.whl (7.0 kB)\n",
      "Installing collected packages: munkres\n",
      "Successfully installed munkres-1.1.4\n",
      "Collecting torch.geometric\n",
      "  Downloading torch_geometric-2.4.0-py3-none-any.whl (1.0 MB)\n",
      "\u001b[2K     \u001b[90m━━━━━━━━━━━━━━━━━━━━━━━━━━━━━━━━━━━━━━━━\u001b[0m \u001b[32m1.0/1.0 MB\u001b[0m \u001b[31m5.5 MB/s\u001b[0m eta \u001b[36m0:00:00\u001b[0m\n",
      "\u001b[?25hRequirement already satisfied: tqdm in /usr/local/lib/python3.10/dist-packages (from torch.geometric) (4.66.1)\n",
      "Requirement already satisfied: numpy in /usr/local/lib/python3.10/dist-packages (from torch.geometric) (1.23.5)\n",
      "Requirement already satisfied: scipy in /usr/local/lib/python3.10/dist-packages (from torch.geometric) (1.11.4)\n",
      "Requirement already satisfied: jinja2 in /usr/local/lib/python3.10/dist-packages (from torch.geometric) (3.1.3)\n",
      "Requirement already satisfied: requests in /usr/local/lib/python3.10/dist-packages (from torch.geometric) (2.31.0)\n",
      "Requirement already satisfied: pyparsing in /usr/local/lib/python3.10/dist-packages (from torch.geometric) (3.1.1)\n",
      "Requirement already satisfied: scikit-learn in /usr/local/lib/python3.10/dist-packages (from torch.geometric) (1.2.2)\n",
      "Requirement already satisfied: psutil>=5.8.0 in /usr/local/lib/python3.10/dist-packages (from torch.geometric) (5.9.5)\n",
      "Requirement already satisfied: MarkupSafe>=2.0 in /usr/local/lib/python3.10/dist-packages (from jinja2->torch.geometric) (2.1.5)\n",
      "Requirement already satisfied: charset-normalizer<4,>=2 in /usr/local/lib/python3.10/dist-packages (from requests->torch.geometric) (3.3.2)\n",
      "Requirement already satisfied: idna<4,>=2.5 in /usr/local/lib/python3.10/dist-packages (from requests->torch.geometric) (3.6)\n",
      "Requirement already satisfied: urllib3<3,>=1.21.1 in /usr/local/lib/python3.10/dist-packages (from requests->torch.geometric) (2.0.7)\n",
      "Requirement already satisfied: certifi>=2017.4.17 in /usr/local/lib/python3.10/dist-packages (from requests->torch.geometric) (2024.2.2)\n",
      "Requirement already satisfied: joblib>=1.1.1 in /usr/local/lib/python3.10/dist-packages (from scikit-learn->torch.geometric) (1.3.2)\n",
      "Requirement already satisfied: threadpoolctl>=2.0.0 in /usr/local/lib/python3.10/dist-packages (from scikit-learn->torch.geometric) (3.2.0)\n",
      "Installing collected packages: torch.geometric\n",
      "Successfully installed torch.geometric-2.4.0\n"
     ]
    }
   ],
   "source": [
    "!pip install munkres\n",
    "!pip install torch.geometric"
   ]
  },
  {
   "cell_type": "markdown",
   "metadata": {},
   "source": [
    "**CORA**"
   ]
  },
  {
   "cell_type": "code",
   "execution_count": 6,
   "metadata": {
    "colab": {
     "base_uri": "https://localhost:8080/"
    },
    "id": "KNk4ndZX7ht4",
    "outputId": "2a63314f-dac5-401e-ca81-84c3d1baf866"
   },
   "outputs": [
    {
     "name": "stdout",
     "output_type": "stream",
     "text": [
      "alpha:  0.5   tau:  0.5\n",
      "++++++++++++++++++++++++++++++\n",
      "---details of graph dataset---\n",
      "++++++++++++++++++++++++++++++\n",
      "dataset name:    cora\n",
      "feature shape:   (2708, 1433)\n",
      "label shape:     (2708,)\n",
      "adj shape:       (2708, 2708)\n",
      "undirected edge num:    3088272\n",
      "category num:           7\n",
      "category distribution: \n",
      "label 0:351\n",
      "label 1:217\n",
      "label 2:418\n",
      "label 3:818\n",
      "label 4:426\n",
      "label 5:298\n",
      "label 6:180\n",
      "++++++++++++++++++++++++++++++\n",
      "100% 150/150 [00:03<00:00, 39.23it/s]\n",
      "100% 150/150 [00:03<00:00, 41.26it/s]\n",
      "100% 150/150 [00:03<00:00, 38.50it/s]\n",
      "100% 150/150 [00:03<00:00, 43.42it/s]\n",
      "100% 150/150 [00:03<00:00, 44.74it/s]\n",
      "100% 150/150 [00:04<00:00, 35.30it/s]\n",
      "100% 150/150 [00:03<00:00, 41.20it/s]\n",
      "100% 150/150 [00:03<00:00, 44.48it/s]\n",
      "100% 150/150 [00:03<00:00, 38.13it/s]\n",
      "100% 150/150 [00:03<00:00, 41.42it/s]\n",
      "64.07311669128508 ± 3.8466973898090844\n",
      "52.24217273156643 ± 2.052068818312383\n",
      "42.500371697370646 ± 4.0736449185012615\n",
      "56.02413886231263 ± 4.643121463231303\n"
     ]
    }
   ],
   "source": [
    "name = \"cora\"\n",
    "classes = 7\n",
    "num_epochs = 150\n",
    "dimens = 1433\n",
    "!python train.py --dataset $name --cluster_num $classes --epochs $num_epochs --dims $dimens"
   ]
  },
  {
   "cell_type": "markdown",
   "metadata": {},
   "source": [
    "**CITESEER**"
   ]
  },
  {
   "cell_type": "code",
   "execution_count": null,
   "metadata": {
    "colab": {
     "base_uri": "https://localhost:8080/"
    },
    "id": "tbKxwdCQBhjg",
    "outputId": "c3b7bec5-9c99-4418-8d3e-176925ee23e0"
   },
   "outputs": [
    {
     "name": "stdout",
     "output_type": "stream",
     "text": [
      "++++++++++++++++++++++++++++++\n",
      "---details of graph dataset---\n",
      "++++++++++++++++++++++++++++++\n",
      "dataset name:    citeseer\n",
      "feature shape:   (3327, 3703)\n",
      "label shape:     (3327,)\n",
      "adj shape:       (3327, 3327)\n",
      "undirected edge num:    2249826\n",
      "category num:           6\n",
      "category distribution: \n",
      "label 0:264\n",
      "label 1:590\n",
      "label 2:668\n",
      "label 3:701\n",
      "label 4:596\n",
      "label 5:508\n",
      "++++++++++++++++++++++++++++++\n",
      "100% 400/400 [00:18<00:00, 21.89it/s]\n",
      "100% 400/400 [00:20<00:00, 19.98it/s]\n",
      "100% 400/400 [00:19<00:00, 20.13it/s]\n",
      "100% 400/400 [00:17<00:00, 22.99it/s]\n",
      "100% 400/400 [00:17<00:00, 23.05it/s]\n",
      "100% 400/400 [00:17<00:00, 23.02it/s]\n",
      "100% 400/400 [00:17<00:00, 22.27it/s]\n",
      "100% 400/400 [00:17<00:00, 22.96it/s]\n",
      "100% 400/400 [00:17<00:00, 23.07it/s]\n",
      "100% 400/400 [00:17<00:00, 22.56it/s]\n",
      "68.85482416591523 ± 0.9740358356355364\n",
      "42.687839618722094 ± 0.9416690830014093\n",
      "42.5123653699127 ± 1.74635403889228\n",
      "60.35127042832276 ± 0.750106156258123\n"
     ]
    }
   ],
   "source": [
    "name = \"citeseer\"\n",
    "classes = 6\n",
    "dimens = 3327\n",
    "!python train.py --dataset $name --cluster_num $classes --dimens $dimens"
   ]
  },
  {
   "cell_type": "markdown",
   "metadata": {},
   "source": [
    "**AMAP**"
   ]
  },
  {
   "cell_type": "code",
   "execution_count": 5,
   "metadata": {
    "colab": {
     "base_uri": "https://localhost:8080/"
    },
    "id": "QOS4GAJSG4Tj",
    "outputId": "d26df0b9-d1e8-4979-8a3d-9ecb8636d823"
   },
   "outputs": [
    {
     "name": "stdout",
     "output_type": "stream",
     "text": [
      "alpha:  0.5   tau:  0.5\n",
      "++++++++++++++++++++++++++++++\n",
      "---details of graph dataset---\n",
      "++++++++++++++++++++++++++++++\n",
      "dataset name:    amap\n",
      "feature shape:   (7650, 745)\n",
      "label shape:     (7650,)\n",
      "adj shape:       (7650, 7650)\n",
      "undirected edge num:    28027705\n",
      "category num:           8\n",
      "category distribution: \n",
      "label 0:369\n",
      "label 1:1686\n",
      "label 2:703\n",
      "label 3:915\n",
      "label 4:882\n",
      "label 5:823\n",
      "label 6:1941\n",
      "label 7:331\n",
      "++++++++++++++++++++++++++++++\n",
      "100% 150/150 [00:14<00:00, 10.64it/s]\n",
      "100% 150/150 [00:13<00:00, 11.22it/s]\n",
      "100% 150/150 [00:13<00:00, 11.21it/s]\n",
      "100% 150/150 [00:13<00:00, 11.46it/s]\n",
      "100% 150/150 [00:13<00:00, 11.31it/s]\n",
      "100% 150/150 [00:13<00:00, 11.52it/s]\n",
      "100% 150/150 [00:13<00:00, 11.38it/s]\n",
      "100% 150/150 [00:13<00:00, 11.39it/s]\n",
      "100% 150/150 [00:13<00:00, 11.02it/s]\n",
      "100% 150/150 [00:13<00:00, 10.93it/s]\n",
      "77.61699346405229 ± 1.4941931259133132\n",
      "67.86480918730766 ± 1.1796095092833996\n",
      "59.092821490742075 ± 1.481196756704739\n",
      "71.25572371941406 ± 3.753834662937419\n"
     ]
    }
   ],
   "source": [
    "name = \"amap\"\n",
    "classes = 8\n",
    "num_epochs = 150\n",
    "dimens = 745\n",
    "!python train.py --dataset $name --cluster_num $classes --epochs $num_epochs --dims $dimens"
   ]
  },
  {
   "cell_type": "markdown",
   "metadata": {},
   "source": [
    "**EAT**"
   ]
  },
  {
   "cell_type": "code",
   "execution_count": null,
   "metadata": {
    "colab": {
     "base_uri": "https://localhost:8080/"
    },
    "id": "03TMJpWRy1Q4",
    "outputId": "c625eda9-4616-4ad3-d851-e76315940b48"
   },
   "outputs": [
    {
     "name": "stdout",
     "output_type": "stream",
     "text": [
      "++++++++++++++++++++++++++++++\n",
      "---details of graph dataset---\n",
      "++++++++++++++++++++++++++++++\n",
      "dataset name:    eat\n",
      "feature shape:   (399, 203)\n",
      "label shape:     (399,)\n",
      "adj shape:       (399, 399)\n",
      "undirected edge num:    79600\n",
      "category num:           4\n",
      "category distribution: \n",
      "label 0:99\n",
      "label 1:99\n",
      "label 2:99\n",
      "label 3:102\n",
      "++++++++++++++++++++++++++++++\n",
      "100% 400/400 [00:05<00:00, 77.97it/s]\n",
      "100% 400/400 [00:04<00:00, 89.52it/s]\n",
      "100% 400/400 [00:04<00:00, 98.63it/s] \n",
      "100% 400/400 [00:02<00:00, 185.00it/s]\n",
      "100% 400/400 [00:04<00:00, 97.75it/s] \n",
      "100% 400/400 [00:03<00:00, 115.36it/s]\n",
      "100% 400/400 [00:04<00:00, 95.28it/s]\n",
      "100% 400/400 [00:04<00:00, 89.85it/s] \n",
      "100% 400/400 [00:03<00:00, 120.12it/s]\n",
      "100% 400/400 [00:03<00:00, 112.33it/s]\n",
      "42.43107769423558 ± 1.3405593103074014\n",
      "18.77906181804602 ± 2.5432297794744008\n",
      "12.352332041221642 ± 3.3077492475593164\n",
      "33.985174591875115 ± 2.275956557729921\n"
     ]
    }
   ],
   "source": [
    "name = \"eat\"\n",
    "classes = 4\n",
    "dimens = 203\n",
    "!python train.py --dataset $name --cluster_num $classes --dims $dimens"
   ]
  },
  {
   "cell_type": "markdown",
   "metadata": {},
   "source": [
    "**UAT**"
   ]
  },
  {
   "cell_type": "code",
   "execution_count": null,
   "metadata": {
    "colab": {
     "base_uri": "https://localhost:8080/"
    },
    "id": "IT6DOmpXz7QG",
    "outputId": "ae6e90f3-655c-40af-bb5d-0493d6951e32"
   },
   "outputs": [
    {
     "name": "stdout",
     "output_type": "stream",
     "text": [
      "++++++++++++++++++++++++++++++\n",
      "---details of graph dataset---\n",
      "++++++++++++++++++++++++++++++\n",
      "dataset name:    uat\n",
      "feature shape:   (1190, 239)\n",
      "label shape:     (1190,)\n",
      "adj shape:       (1190, 1190)\n",
      "undirected edge num:    703302\n",
      "category num:           4\n",
      "category distribution: \n",
      "label 0:297\n",
      "label 1:297\n",
      "label 2:297\n",
      "label 3:299\n",
      "++++++++++++++++++++++++++++++\n",
      "100% 400/400 [00:06<00:00, 58.97it/s]\n",
      "100% 400/400 [00:05<00:00, 69.49it/s]\n",
      "100% 400/400 [00:06<00:00, 61.35it/s]\n",
      "100% 400/400 [00:05<00:00, 67.41it/s]\n",
      "100% 400/400 [00:07<00:00, 54.97it/s]\n",
      "100% 400/400 [00:05<00:00, 67.59it/s]\n",
      "100% 400/400 [00:07<00:00, 55.92it/s]\n",
      "100% 400/400 [00:05<00:00, 68.21it/s]\n",
      "100% 400/400 [00:06<00:00, 63.32it/s]\n",
      "100% 400/400 [00:05<00:00, 67.71it/s]\n",
      "47.0 ± 2.6746065564157386\n",
      "19.701352298923275 ± 2.170479346541171\n",
      "15.34243424532453 ± 2.5449713521270554\n",
      "42.250148782597776 ± 4.5896530426991795\n"
     ]
    }
   ],
   "source": [
    "name = \"uat\"\n",
    "classes = 4\n",
    "dimens = 239\n",
    "!python train.py --dataset $name --cluster_num $classes --dims $dimens"
   ]
  },
  {
   "cell_type": "markdown",
   "metadata": {},
   "source": [
    "**BAT**"
   ]
  },
  {
   "cell_type": "code",
   "execution_count": null,
   "metadata": {
    "colab": {
     "base_uri": "https://localhost:8080/"
    },
    "id": "nTcWxsdhz_hH",
    "outputId": "a50ca4dc-8631-4755-f4a9-bca3834ec098"
   },
   "outputs": [
    {
     "name": "stdout",
     "output_type": "stream",
     "text": [
      "++++++++++++++++++++++++++++++\n",
      "---details of graph dataset---\n",
      "++++++++++++++++++++++++++++++\n",
      "dataset name:    bat\n",
      "feature shape:   (131, 81)\n",
      "label shape:     (131,)\n",
      "adj shape:       (131, 131)\n",
      "undirected edge num:    8580\n",
      "category num:           4\n",
      "category distribution: \n",
      "label 0:32\n",
      "label 1:32\n",
      "label 2:32\n",
      "label 3:35\n",
      "++++++++++++++++++++++++++++++\n",
      "100% 400/400 [00:03<00:00, 126.06it/s]\n",
      "100% 400/400 [00:02<00:00, 134.72it/s]\n",
      "100% 400/400 [00:03<00:00, 131.74it/s]\n",
      "100% 400/400 [00:04<00:00, 94.28it/s] \n",
      "100% 400/400 [00:04<00:00, 88.01it/s]\n",
      "100% 400/400 [00:05<00:00, 76.37it/s]\n",
      "100% 400/400 [00:04<00:00, 82.31it/s]\n",
      "100% 400/400 [00:02<00:00, 197.76it/s]\n",
      "100% 400/400 [00:02<00:00, 135.32it/s]\n",
      "100% 400/400 [00:04<00:00, 93.15it/s]\n",
      "48.39694656488549 ± 2.295159752423344\n",
      "30.823039629463516 ± 5.313051667823535\n",
      "17.807766968330178 ± 5.924809194191599\n",
      "44.08018606152807 ± 2.2941816952578615\n"
     ]
    }
   ],
   "source": [
    "name = \"bat\"\n",
    "classes = 4\n",
    "dimens = 81\n",
    "!python train.py --dataset $name --cluster_num $classes --dims $dimens"
   ]
  },
  {
   "cell_type": "code",
   "execution_count": null,
   "metadata": {
    "id": "i-kjy_h1BIT_"
   },
   "outputs": [],
   "source": []
  }
 ],
 "metadata": {
  "accelerator": "GPU",
  "colab": {
   "gpuType": "T4",
   "provenance": []
  },
  "kernelspec": {
   "display_name": "Python 3 (ipykernel)",
   "language": "python",
   "name": "python3"
  },
  "language_info": {
   "codemirror_mode": {
    "name": "ipython",
    "version": 3
   },
   "file_extension": ".py",
   "mimetype": "text/x-python",
   "name": "python",
   "nbconvert_exporter": "python",
   "pygments_lexer": "ipython3",
   "version": "3.11.1"
  }
 },
 "nbformat": 4,
 "nbformat_minor": 1
}
