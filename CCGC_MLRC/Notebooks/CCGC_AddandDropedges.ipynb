{
 "cells": [
  {
   "cell_type": "code",
   "execution_count": 1,
   "metadata": {
    "colab": {
     "base_uri": "https://localhost:8080/"
    },
    "executionInfo": {
     "elapsed": 28275,
     "status": "ok",
     "timestamp": 1707236468456,
     "user": {
      "displayName": "sway moh",
      "userId": "06446381519608002183"
     },
     "user_tz": -330
    },
    "id": "Ip5aePqLC1WX",
    "outputId": "8cc9ab19-e886-4a4e-dda5-03f90581408f"
   },
   "outputs": [
    {
     "name": "stdout",
     "output_type": "stream",
     "text": [
      "Mounted at /content/gdrive\n"
     ]
    }
   ],
   "source": [
    "from google.colab import drive\n",
    "drive.mount('/content/gdrive')"
   ]
  },
  {
   "cell_type": "markdown",
   "metadata": {},
   "source": [
    "# Important Instructions\n",
    "* *Here copy the path of the **Re-CCGC** cloned folder also make the necessary changes of path in utils.py **load_graph_data()** function*\n",
    "*  Uncomment the add_edges section in *utils.py* **load_graph_data()** function"
   ]
  },
  {
   "cell_type": "code",
   "execution_count": 2,
   "metadata": {
    "colab": {
     "base_uri": "https://localhost:8080/"
    },
    "executionInfo": {
     "elapsed": 6,
     "status": "ok",
     "timestamp": 1707236468456,
     "user": {
      "displayName": "sway moh",
      "userId": "06446381519608002183"
     },
     "user_tz": -330
    },
    "id": "oBRj_1QYG6Ah",
    "outputId": "77783cde-820c-4a52-8acd-f8ba872825c4"
   },
   "outputs": [
    {
     "name": "stdout",
     "output_type": "stream",
     "text": [
      "/content/gdrive/MyDrive/CCGC_MLRC\n"
     ]
    }
   ],
   "source": [
    "%cd /content/gdrive/MyDrive/CCGC_MLRC"
   ]
  },
  {
   "cell_type": "code",
   "execution_count": 3,
   "metadata": {
    "executionInfo": {
     "elapsed": 10533,
     "status": "ok",
     "timestamp": 1707236478984,
     "user": {
      "displayName": "sway moh",
      "userId": "06446381519608002183"
     },
     "user_tz": -330
    },
    "id": "5Dlqghf7HBgj"
   },
   "outputs": [],
   "source": [
    "import numpy as np\n",
    "import pandas as pd\n",
    "import matplotlib.pyplot as plt\n",
    "from PIL import Image\n",
    "import tensorflow as tf\n",
    "import os\n",
    "from tqdm import tqdm\n",
    "import warnings\n",
    "import seaborn as sns\n",
    "import cv2"
   ]
  },
  {
   "cell_type": "code",
   "execution_count": 4,
   "metadata": {
    "colab": {
     "base_uri": "https://localhost:8080/"
    },
    "executionInfo": {
     "elapsed": 18047,
     "status": "ok",
     "timestamp": 1707236497027,
     "user": {
      "displayName": "sway moh",
      "userId": "06446381519608002183"
     },
     "user_tz": -330
    },
    "id": "Ks3YpM1sHJBJ",
    "outputId": "b16c77a2-cb1b-4ecc-b4f0-735c9116468f"
   },
   "outputs": [
    {
     "name": "stdout",
     "output_type": "stream",
     "text": [
      "Collecting munkres\n",
      "  Downloading munkres-1.1.4-py2.py3-none-any.whl (7.0 kB)\n",
      "Installing collected packages: munkres\n",
      "Successfully installed munkres-1.1.4\n",
      "Collecting torch_geometric\n",
      "  Downloading torch_geometric-2.4.0-py3-none-any.whl (1.0 MB)\n",
      "\u001b[2K     \u001b[90m━━━━━━━━━━━━━━━━━━━━━━━━━━━━━━━━━━━━━━━━\u001b[0m \u001b[32m1.0/1.0 MB\u001b[0m \u001b[31m11.2 MB/s\u001b[0m eta \u001b[36m0:00:00\u001b[0m\n",
      "\u001b[?25hRequirement already satisfied: tqdm in /usr/local/lib/python3.10/dist-packages (from torch_geometric) (4.66.1)\n",
      "Requirement already satisfied: numpy in /usr/local/lib/python3.10/dist-packages (from torch_geometric) (1.23.5)\n",
      "Requirement already satisfied: scipy in /usr/local/lib/python3.10/dist-packages (from torch_geometric) (1.11.4)\n",
      "Requirement already satisfied: jinja2 in /usr/local/lib/python3.10/dist-packages (from torch_geometric) (3.1.3)\n",
      "Requirement already satisfied: requests in /usr/local/lib/python3.10/dist-packages (from torch_geometric) (2.31.0)\n",
      "Requirement already satisfied: pyparsing in /usr/local/lib/python3.10/dist-packages (from torch_geometric) (3.1.1)\n",
      "Requirement already satisfied: scikit-learn in /usr/local/lib/python3.10/dist-packages (from torch_geometric) (1.2.2)\n",
      "Requirement already satisfied: psutil>=5.8.0 in /usr/local/lib/python3.10/dist-packages (from torch_geometric) (5.9.5)\n",
      "Requirement already satisfied: MarkupSafe>=2.0 in /usr/local/lib/python3.10/dist-packages (from jinja2->torch_geometric) (2.1.4)\n",
      "Requirement already satisfied: charset-normalizer<4,>=2 in /usr/local/lib/python3.10/dist-packages (from requests->torch_geometric) (3.3.2)\n",
      "Requirement already satisfied: idna<4,>=2.5 in /usr/local/lib/python3.10/dist-packages (from requests->torch_geometric) (3.6)\n",
      "Requirement already satisfied: urllib3<3,>=1.21.1 in /usr/local/lib/python3.10/dist-packages (from requests->torch_geometric) (2.0.7)\n",
      "Requirement already satisfied: certifi>=2017.4.17 in /usr/local/lib/python3.10/dist-packages (from requests->torch_geometric) (2023.11.17)\n",
      "Requirement already satisfied: joblib>=1.1.1 in /usr/local/lib/python3.10/dist-packages (from scikit-learn->torch_geometric) (1.3.2)\n",
      "Requirement already satisfied: threadpoolctl>=2.0.0 in /usr/local/lib/python3.10/dist-packages (from scikit-learn->torch_geometric) (3.2.0)\n",
      "Installing collected packages: torch_geometric\n",
      "Successfully installed torch_geometric-2.4.0\n"
     ]
    }
   ],
   "source": [
    "!pip install munkres\n",
    "!pip install torch_geometric"
   ]
  },
  {
   "cell_type": "markdown",
   "metadata": {
    "id": "cNQWjtqh3zUj"
   },
   "source": [
    "### ADD EDGES"
   ]
  },
  {
   "cell_type": "markdown",
   "metadata": {
    "id": "I1d0_ERs32rB"
   },
   "source": [
    "## BAT"
   ]
  },
  {
   "cell_type": "code",
   "execution_count": 17,
   "metadata": {
    "colab": {
     "base_uri": "https://localhost:8080/"
    },
    "executionInfo": {
     "elapsed": 46087,
     "status": "ok",
     "timestamp": 1707215377422,
     "user": {
      "displayName": "sway moh",
      "userId": "06446381519608002183"
     },
     "user_tz": -330
    },
    "id": "jxI4kVV34pPL",
    "outputId": "41b343de-04f8-4bf6-b092-763b95dd9cdd"
   },
   "outputs": [
    {
     "name": "stdout",
     "output_type": "stream",
     "text": [
      "Alpha: 10.0\n",
      "Threshold: 0.7\n",
      "++++++++++++++++++++++++++++++\n",
      "---details of graph dataset---\n",
      "++++++++++++++++++++++++++++++\n",
      "dataset name:    bat\n",
      "feature shape:   (131, 81)\n",
      "label shape:     (131,)\n",
      "adj shape:       (131, 131)\n",
      "undirected edge num:    1038\n",
      "category num:           4\n",
      "category distribution: \n",
      "label 0:32\n",
      "label 1:32\n",
      "label 2:32\n",
      "label 3:35\n",
      "++++++++++++++++++++++++++++++\n",
      "No edges orig:  1074\n",
      "No edges after:  1288\n",
      "100% 400/400 [00:04<00:00, 99.43it/s] \n",
      "100% 400/400 [00:03<00:00, 109.60it/s]\n",
      "100% 400/400 [00:03<00:00, 100.90it/s]\n",
      "100% 400/400 [00:03<00:00, 101.61it/s]\n",
      "100% 400/400 [00:03<00:00, 110.02it/s]\n",
      "100% 400/400 [00:03<00:00, 113.62it/s]\n",
      "100% 400/400 [00:04<00:00, 92.12it/s]\n",
      "100% 400/400 [00:03<00:00, 110.27it/s]\n",
      "100% 400/400 [00:03<00:00, 111.62it/s]\n",
      "100% 400/400 [00:04<00:00, 95.89it/s]\n",
      "64.42748091603053 ± 0.8500403607374082\n",
      "41.99478094700991 ± 1.7570860411765494\n",
      "34.98226312964258 ± 1.7672420815827636\n",
      "63.47816959008029 ± 1.5012415908760566\n"
     ]
    }
   ],
   "source": [
    "!python train.py --threshold $0.7 --alpha $10 --dataset $'bat' --cluster_num $4 --dims $81 #add"
   ]
  },
  {
   "cell_type": "markdown",
   "metadata": {
    "id": "3kt0z1no-LjU"
   },
   "source": [
    "## UAT"
   ]
  },
  {
   "cell_type": "code",
   "execution_count": 13,
   "metadata": {
    "colab": {
     "base_uri": "https://localhost:8080/"
    },
    "executionInfo": {
     "elapsed": 75344,
     "status": "ok",
     "timestamp": 1707215064199,
     "user": {
      "displayName": "sway moh",
      "userId": "06446381519608002183"
     },
     "user_tz": -330
    },
    "id": "OybrXw355mTv",
    "outputId": "4837423d-c65d-4068-98b2-f354dd2c6a44"
   },
   "outputs": [
    {
     "name": "stdout",
     "output_type": "stream",
     "text": [
      "Alpha: 0.5\n",
      "Threshold: 0.5\n",
      "++++++++++++++++++++++++++++++\n",
      "---details of graph dataset---\n",
      "++++++++++++++++++++++++++++++\n",
      "dataset name:    uat\n",
      "feature shape:   (1190, 239)\n",
      "label shape:     (1190,)\n",
      "adj shape:       (1190, 1190)\n",
      "undirected edge num:    13599\n",
      "category num:           4\n",
      "category distribution: \n",
      "label 0:297\n",
      "label 1:297\n",
      "label 2:297\n",
      "label 3:299\n",
      "++++++++++++++++++++++++++++++\n",
      "No edges orig:  13599\n",
      "No edges after:  13599\n",
      "No edges after:  16318\n",
      "100% 400/400 [00:06<00:00, 61.15it/s]\n",
      "100% 400/400 [00:07<00:00, 50.78it/s]\n",
      "100% 400/400 [00:06<00:00, 64.52it/s]\n",
      "100% 400/400 [00:07<00:00, 57.10it/s]\n",
      "100% 400/400 [00:06<00:00, 64.29it/s]\n",
      "100% 400/400 [00:07<00:00, 56.92it/s]\n",
      "100% 400/400 [00:06<00:00, 64.72it/s]\n",
      "100% 400/400 [00:06<00:00, 57.15it/s]\n",
      "100% 400/400 [00:06<00:00, 64.29it/s]\n",
      "100% 400/400 [00:06<00:00, 57.59it/s]\n",
      "51.21848739495799 ± 1.692917575482848\n",
      "25.169006991252637 ± 2.346869715605261\n",
      "16.962223416747563 ± 2.5442857728961417\n",
      "50.728654711113734 ± 1.893940926504002\n"
     ]
    }
   ],
   "source": [
    "!python train.py --threshold $0.65 --alpha $0.5 --dataset $'uat' --cluster_num $4 --dims $239 #add"
   ]
  },
  {
   "cell_type": "markdown",
   "metadata": {
    "id": "GsRpR_3a-PKY"
   },
   "source": [
    "## EAT"
   ]
  },
  {
   "cell_type": "code",
   "execution_count": 18,
   "metadata": {
    "colab": {
     "base_uri": "https://localhost:8080/"
    },
    "executionInfo": {
     "elapsed": 56676,
     "status": "ok",
     "timestamp": 1707215568891,
     "user": {
      "displayName": "sway moh",
      "userId": "06446381519608002183"
     },
     "user_tz": -330
    },
    "id": "pSuHlM8PMlCg",
    "outputId": "452bb305-630a-4ad5-ece3-768668911df9"
   },
   "outputs": [
    {
     "name": "stdout",
     "output_type": "stream",
     "text": [
      "Alpha: 10.0\n",
      "Threshold: 0.65\n",
      "++++++++++++++++++++++++++++++\n",
      "---details of graph dataset---\n",
      "++++++++++++++++++++++++++++++\n",
      "dataset name:    eat\n",
      "feature shape:   (399, 203)\n",
      "label shape:     (399,)\n",
      "adj shape:       (399, 399)\n",
      "undirected edge num:    5994\n",
      "category num:           4\n",
      "category distribution: \n",
      "label 0:99\n",
      "label 1:99\n",
      "label 2:99\n",
      "label 3:102\n",
      "++++++++++++++++++++++++++++++\n",
      "No edges orig:  5995\n",
      "No edges after:  7194\n",
      "100% 400/400 [00:04<00:00, 82.86it/s]\n",
      "100% 400/400 [00:04<00:00, 82.74it/s]\n",
      "100% 400/400 [00:04<00:00, 82.06it/s]\n",
      "100% 400/400 [00:04<00:00, 90.06it/s]\n",
      "100% 400/400 [00:05<00:00, 76.15it/s]\n",
      "100% 400/400 [00:04<00:00, 88.04it/s]\n",
      "100% 400/400 [00:04<00:00, 88.33it/s]\n",
      "100% 400/400 [00:05<00:00, 76.05it/s]\n",
      "100% 400/400 [00:04<00:00, 87.98it/s]\n",
      "100% 400/400 [00:04<00:00, 83.85it/s]\n",
      "55.08771929824561 ± 0.2184911751148224\n",
      "34.33717247650701 ± 0.46401403978272554\n",
      "28.25944135713569 ± 0.2947251458595647\n",
      "53.85750046968623 ± 0.5793667982088794\n"
     ]
    }
   ],
   "source": [
    "!python train.py --threshold $0.65 --alpha $10 --dataset $'eat' --cluster_num $4 --dims $203 #add"
   ]
  },
  {
   "cell_type": "markdown",
   "metadata": {
    "id": "L0sehtRBDwmc"
   },
   "source": [
    "## CITESEER"
   ]
  },
  {
   "cell_type": "code",
   "execution_count": 1,
   "metadata": {
    "colab": {
     "base_uri": "https://localhost:8080/"
    },
    "executionInfo": {
     "elapsed": 623,
     "status": "ok",
     "timestamp": 1707217935860,
     "user": {
      "displayName": "sway moh",
      "userId": "06446381519608002183"
     },
     "user_tz": -330
    },
    "id": "UFQZ0VnoOfZh",
    "outputId": "7a0ac637-c298-4049-88d4-99d69e73f995"
   },
   "outputs": [
    {
     "name": "stdout",
     "output_type": "stream",
     "text": [
      "python3: can't open file '/content/train.py': [Errno 2] No such file or directory\n"
     ]
    }
   ],
   "source": [
    "!python train.py --threshold $0.65 --alpha $0.1 --dataset $'citeseer' --cluster_num $6 --dims $3703 #add"
   ]
  },
  {
   "cell_type": "markdown",
   "metadata": {
    "id": "RrwVp3fuDtAt"
   },
   "source": [
    "## AMAP"
   ]
  },
  {
   "cell_type": "code",
   "execution_count": 20,
   "metadata": {
    "colab": {
     "base_uri": "https://localhost:8080/"
    },
    "executionInfo": {
     "elapsed": 469342,
     "status": "ok",
     "timestamp": 1707216804137,
     "user": {
      "displayName": "sway moh",
      "userId": "06446381519608002183"
     },
     "user_tz": -330
    },
    "id": "6g6Aeh38BTYv",
    "outputId": "393b8669-e12c-4f1d-d248-4d24a5fda26e"
   },
   "outputs": [
    {
     "name": "stdout",
     "output_type": "stream",
     "text": [
      "Alpha: 0.1\n",
      "Threshold: 0.65\n",
      "++++++++++++++++++++++++++++++\n",
      "---details of graph dataset---\n",
      "++++++++++++++++++++++++++++++\n",
      "dataset name:    amap\n",
      "feature shape:   (7650, 745)\n",
      "label shape:     (7650,)\n",
      "adj shape:       (7650, 7650)\n",
      "undirected edge num:    119081\n",
      "category num:           8\n",
      "category distribution: \n",
      "label 0:369\n",
      "label 1:1686\n",
      "label 2:703\n",
      "label 3:915\n",
      "label 4:882\n",
      "label 5:823\n",
      "label 6:1941\n",
      "label 7:331\n",
      "++++++++++++++++++++++++++++++\n",
      "No edges orig:  119082\n",
      "No edges after:  142898\n",
      "100% 400/400 [00:43<00:00,  9.29it/s]\n",
      "100% 400/400 [00:42<00:00,  9.44it/s]\n",
      "100% 400/400 [00:43<00:00,  9.28it/s]\n",
      "100% 400/400 [00:42<00:00,  9.37it/s]\n",
      "100% 400/400 [00:42<00:00,  9.33it/s]\n",
      "100% 400/400 [00:42<00:00,  9.34it/s]\n",
      "100% 400/400 [00:42<00:00,  9.36it/s]\n",
      "100% 400/400 [00:42<00:00,  9.36it/s]\n",
      "100% 400/400 [00:42<00:00,  9.36it/s]\n",
      "100% 400/400 [00:42<00:00,  9.39it/s]\n",
      "69.04183006535948 ± 1.1778793308557356\n",
      "56.893663511282114 ± 1.3261387326651746\n",
      "45.83671277619785 ± 0.927324234555115\n",
      "66.69254624759995 ± 1.9260879307809589\n"
     ]
    }
   ],
   "source": [
    "!python train.py --threshold $0.65 --alpha $0.1 --dataset $'amap' --cluster_num $8 --dims $745 #add"
   ]
  },
  {
   "cell_type": "markdown",
   "metadata": {
    "id": "4W_0II9S_08D"
   },
   "source": [
    "## CORA"
   ]
  },
  {
   "cell_type": "code",
   "execution_count": 19,
   "metadata": {
    "colab": {
     "base_uri": "https://localhost:8080/"
    },
    "executionInfo": {
     "elapsed": 243761,
     "status": "ok",
     "timestamp": 1707216189709,
     "user": {
      "displayName": "sway moh",
      "userId": "06446381519608002183"
     },
     "user_tz": -330
    },
    "id": "B1D-oCQi__OE",
    "outputId": "96daebdc-366b-4d39-82cb-9170011aaf55"
   },
   "outputs": [
    {
     "name": "stdout",
     "output_type": "stream",
     "text": [
      "Alpha: 1.0\n",
      "Threshold: 0.7\n",
      "++++++++++++++++++++++++++++++\n",
      "---details of graph dataset---\n",
      "++++++++++++++++++++++++++++++\n",
      "dataset name:    cora\n",
      "feature shape:   (2708, 1433)\n",
      "label shape:     (2708,)\n",
      "adj shape:       (2708, 2708)\n",
      "undirected edge num:    5278\n",
      "category num:           7\n",
      "category distribution: \n",
      "label 0:351\n",
      "label 1:217\n",
      "label 2:418\n",
      "label 3:818\n",
      "label 4:426\n",
      "label 5:298\n",
      "label 6:180\n",
      "++++++++++++++++++++++++++++++\n",
      "No edges orig:  5278\n",
      "No edges after:  6333\n",
      "100% 400/400 [00:22<00:00, 17.50it/s]\n",
      "100% 400/400 [00:22<00:00, 17.90it/s]\n",
      "100% 400/400 [00:22<00:00, 17.63it/s]\n",
      "100% 400/400 [00:23<00:00, 17.27it/s]\n",
      "100% 400/400 [00:23<00:00, 17.34it/s]\n",
      "100% 400/400 [00:22<00:00, 17.53it/s]\n",
      "100% 400/400 [00:22<00:00, 17.75it/s]\n",
      "100% 400/400 [00:22<00:00, 17.59it/s]\n",
      "100% 400/400 [00:23<00:00, 17.34it/s]\n",
      "100% 400/400 [00:23<00:00, 17.30it/s]\n",
      "70.14032496307239 ± 1.2520805609209027\n",
      "50.34561904265219 ± 1.5189518516129081\n",
      "45.44617454276566 ± 1.490619732276617\n",
      "67.40964829603516 ± 2.861961056076477\n"
     ]
    }
   ],
   "source": [
    "!python train.py --threshold $0.7 --alpha $1 --dataset $'cora' --cluster_num $7 --dims $1433 #add"
   ]
  },
  {
   "cell_type": "code",
   "execution_count": null,
   "metadata": {
    "colab": {
     "base_uri": "https://localhost:8080/"
    },
    "executionInfo": {
     "elapsed": 128708,
     "status": "ok",
     "timestamp": 1707070766176,
     "user": {
      "displayName": "sway moh",
      "userId": "06446381519608002183"
     },
     "user_tz": -330
    },
    "id": "kLwdWf72NzO9",
    "outputId": "dd31544e-1074-4278-ae42-a986f12831a4"
   },
   "outputs": [
    {
     "name": "stdout",
     "output_type": "stream",
     "text": [
      "Alpha: 0.5\n",
      "Threshold: 0.5\n",
      "++++++++++++++++++++++++++++++\n",
      "---details of graph dataset---\n",
      "++++++++++++++++++++++++++++++\n",
      "dataset name:    cora\n",
      "feature shape:   (2708, 1433)\n",
      "label shape:     (2708,)\n",
      "adj shape:       (2708, 2708)\n",
      "undirected edge num:    5278\n",
      "category num:           7\n",
      "category distribution: \n",
      "label 0:351\n",
      "label 1:217\n",
      "label 2:418\n",
      "label 3:818\n",
      "label 4:426\n",
      "label 5:298\n",
      "label 6:180\n",
      "++++++++++++++++++++++++++++++\n",
      "100% 400/400 [00:12<00:00, 32.52it/s]\n",
      "100% 400/400 [00:11<00:00, 34.63it/s]\n",
      "100% 400/400 [00:11<00:00, 33.46it/s]\n",
      "100% 400/400 [00:11<00:00, 33.62it/s]\n",
      "100% 400/400 [00:11<00:00, 33.40it/s]\n",
      "100% 400/400 [00:12<00:00, 33.00it/s]\n",
      "100% 400/400 [00:12<00:00, 33.31it/s]\n",
      "100% 400/400 [00:12<00:00, 33.25it/s]\n",
      "100% 400/400 [00:11<00:00, 33.38it/s]\n",
      "100% 400/400 [00:11<00:00, 33.44it/s]\n",
      "59.45716395864106 ± 4.59491364817535\n",
      "40.640253892351 ± 2.9459314668527616\n",
      "33.47293781075589 ± 5.253124367689372\n",
      "57.145336953707485 ± 3.6958664497107985\n"
     ]
    }
   ],
   "source": [
    "!python train.py --threshold $0.7 --alpha $1 --dataset $'cora' --cluster_num $7 --dims $1433 #add"
   ]
  },
  {
   "cell_type": "code",
   "execution_count": null,
   "metadata": {
    "id": "My7APObQRIfz"
   },
   "outputs": [],
   "source": []
  }
 ],
 "metadata": {
  "accelerator": "GPU",
  "colab": {
   "authorship_tag": "ABX9TyOp9FhhrcqxeyRwdI8WIhZg",
   "gpuType": "T4",
   "provenance": []
  },
  "kernelspec": {
   "display_name": "Python 3 (ipykernel)",
   "language": "python",
   "name": "python3"
  },
  "language_info": {
   "codemirror_mode": {
    "name": "ipython",
    "version": 3
   },
   "file_extension": ".py",
   "mimetype": "text/x-python",
   "name": "python",
   "nbconvert_exporter": "python",
   "pygments_lexer": "ipython3",
   "version": "3.11.1"
  }
 },
 "nbformat": 4,
 "nbformat_minor": 1
}
