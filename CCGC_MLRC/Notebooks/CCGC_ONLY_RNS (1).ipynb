{
 "cells": [
  {
   "cell_type": "markdown",
   "metadata": {
    "id": "qlXr91RdC6Fm"
   },
   "source": [
    "### REQUIREMENTS"
   ]
  },
  {
   "cell_type": "code",
   "execution_count": 1,
   "metadata": {
    "colab": {
     "base_uri": "https://localhost:8080/"
    },
    "id": "5BEjhTZNCqvM",
    "outputId": "d6547708-8807-4fd0-ed93-e3a812950020"
   },
   "outputs": [
    {
     "name": "stdout",
     "output_type": "stream",
     "text": [
      "Mounted at /content/gdrive\n"
     ]
    }
   ],
   "source": [
    "from google.colab import drive\n",
    "drive.mount('/content/gdrive')"
   ]
  },
  {
   "cell_type": "code",
   "execution_count": 2,
   "metadata": {
    "colab": {
     "base_uri": "https://localhost:8080/"
    },
    "id": "R-FU9JCiDDgY",
    "outputId": "388fa564-c588-4144-c72c-85b65dfe02c5"
   },
   "outputs": [
    {
     "name": "stdout",
     "output_type": "stream",
     "text": [
      "/content/gdrive/MyDrive/CCGC_MLRC\n"
     ]
    }
   ],
   "source": [
    "%cd /content/gdrive/MyDrive/CCGC_MLRC"
   ]
  },
  {
   "cell_type": "code",
   "execution_count": 3,
   "metadata": {
    "colab": {
     "base_uri": "https://localhost:8080/"
    },
    "id": "Is_zOMScDF8k",
    "outputId": "c4f3ce74-0008-42fd-a296-c9dcdaa175d8"
   },
   "outputs": [
    {
     "name": "stdout",
     "output_type": "stream",
     "text": [
      "Collecting munkres\n",
      "  Downloading munkres-1.1.4-py2.py3-none-any.whl (7.0 kB)\n",
      "Installing collected packages: munkres\n",
      "Successfully installed munkres-1.1.4\n",
      "Collecting torch_geometric\n",
      "  Downloading torch_geometric-2.4.0-py3-none-any.whl (1.0 MB)\n",
      "\u001b[2K     \u001b[90m━━━━━━━━━━━━━━━━━━━━━━━━━━━━━━━━━━━━━━━━\u001b[0m \u001b[32m1.0/1.0 MB\u001b[0m \u001b[31m12.9 MB/s\u001b[0m eta \u001b[36m0:00:00\u001b[0m\n",
      "\u001b[?25hRequirement already satisfied: tqdm in /usr/local/lib/python3.10/dist-packages (from torch_geometric) (4.66.1)\n",
      "Requirement already satisfied: numpy in /usr/local/lib/python3.10/dist-packages (from torch_geometric) (1.23.5)\n",
      "Requirement already satisfied: scipy in /usr/local/lib/python3.10/dist-packages (from torch_geometric) (1.11.4)\n",
      "Requirement already satisfied: jinja2 in /usr/local/lib/python3.10/dist-packages (from torch_geometric) (3.1.3)\n",
      "Requirement already satisfied: requests in /usr/local/lib/python3.10/dist-packages (from torch_geometric) (2.31.0)\n",
      "Requirement already satisfied: pyparsing in /usr/local/lib/python3.10/dist-packages (from torch_geometric) (3.1.1)\n",
      "Requirement already satisfied: scikit-learn in /usr/local/lib/python3.10/dist-packages (from torch_geometric) (1.2.2)\n",
      "Requirement already satisfied: psutil>=5.8.0 in /usr/local/lib/python3.10/dist-packages (from torch_geometric) (5.9.5)\n",
      "Requirement already satisfied: MarkupSafe>=2.0 in /usr/local/lib/python3.10/dist-packages (from jinja2->torch_geometric) (2.1.4)\n",
      "Requirement already satisfied: charset-normalizer<4,>=2 in /usr/local/lib/python3.10/dist-packages (from requests->torch_geometric) (3.3.2)\n",
      "Requirement already satisfied: idna<4,>=2.5 in /usr/local/lib/python3.10/dist-packages (from requests->torch_geometric) (3.6)\n",
      "Requirement already satisfied: urllib3<3,>=1.21.1 in /usr/local/lib/python3.10/dist-packages (from requests->torch_geometric) (2.0.7)\n",
      "Requirement already satisfied: certifi>=2017.4.17 in /usr/local/lib/python3.10/dist-packages (from requests->torch_geometric) (2023.11.17)\n",
      "Requirement already satisfied: joblib>=1.1.1 in /usr/local/lib/python3.10/dist-packages (from scikit-learn->torch_geometric) (1.3.2)\n",
      "Requirement already satisfied: threadpoolctl>=2.0.0 in /usr/local/lib/python3.10/dist-packages (from scikit-learn->torch_geometric) (3.2.0)\n",
      "Installing collected packages: torch_geometric\n",
      "Successfully installed torch_geometric-2.4.0\n"
     ]
    }
   ],
   "source": [
    "!pip install munkres\n",
    "!pip install torch_geometric"
   ]
  },
  {
   "cell_type": "markdown",
   "metadata": {
    "id": "Ptq-luRVDTCZ"
   },
   "source": [
    "### TAKING TOTOAL LOSS AS ONLY RNS LOSS\n",
    "\n",
    "* use modified train_only_rns.py "
   ]
  },
  {
   "cell_type": "markdown",
   "metadata": {
    "id": "oQf4QvmqDhxo"
   },
   "source": [
    "**CORA**"
   ]
  },
  {
   "cell_type": "code",
   "execution_count": 34,
   "metadata": {
    "colab": {
     "base_uri": "https://localhost:8080/"
    },
    "id": "rFLILsegX04M",
    "outputId": "d565aff7-4a26-4763-f099-5d5082defb19"
   },
   "outputs": [
    {
     "name": "stdout",
     "output_type": "stream",
     "text": [
      "/content/gdrive/MyDrive/CCGC_MLRC\n"
     ]
    }
   ],
   "source": [
    "%cd /content/gdrive/MyDrive/CCGC_MLRC"
   ]
  },
  {
   "cell_type": "code",
   "execution_count": 32,
   "metadata": {
    "colab": {
     "base_uri": "https://localhost:8080/"
    },
    "id": "aIGGZJnqX5PR",
    "outputId": "9e4fea60-60ee-4b5d-9061-d781208564d2"
   },
   "outputs": [
    {
     "name": "stdout",
     "output_type": "stream",
     "text": [
      "Archive:  /content/gdrive/MyDrive/CCGC_MLRC/data/amap.zip\n",
      "  inflating: amap_adj.npy            \n",
      "  inflating: amap_feat.npy           \n",
      "  inflating: amap_label.npy          \n"
     ]
    }
   ],
   "source": [
    "!unzip /content/gdrive/MyDrive/CCGC_MLRC/data/amap.zip"
   ]
  },
  {
   "cell_type": "code",
   "execution_count": 30,
   "metadata": {
    "colab": {
     "base_uri": "https://localhost:8080/"
    },
    "id": "gy03uuhcDQ95",
    "outputId": "572229a0-fcdd-4657-f003-eafae082b3d7"
   },
   "outputs": [
    {
     "name": "stdout",
     "output_type": "stream",
     "text": [
      "Alpha: 0.5\n",
      "Threshold: 0.7\n",
      "++++++++++++++++++++++++++++++\n",
      "---details of graph dataset---\n",
      "++++++++++++++++++++++++++++++\n",
      "dataset name:    cora\n",
      "feature shape:   (2708, 1433)\n",
      "label shape:     (2708,)\n",
      "adj shape:       (2708, 2708)\n",
      "undirected edge num:    5278\n",
      "category num:           7\n",
      "category distribution: \n",
      "label 0:351\n",
      "label 1:217\n",
      "label 2:418\n",
      "label 3:818\n",
      "label 4:426\n",
      "label 5:298\n",
      "label 6:180\n",
      "++++++++++++++++++++++++++++++\n",
      "100% 400/400 [00:21<00:00, 18.79it/s]\n",
      "100% 400/400 [00:20<00:00, 19.34it/s]\n",
      "100% 400/400 [00:20<00:00, 19.23it/s]\n",
      "100% 400/400 [00:20<00:00, 19.20it/s]\n",
      "100% 400/400 [00:20<00:00, 19.48it/s]\n",
      "100% 400/400 [00:20<00:00, 19.13it/s]\n",
      "100% 400/400 [00:21<00:00, 18.50it/s]\n",
      "100% 400/400 [00:21<00:00, 18.56it/s]\n",
      "100% 400/400 [00:20<00:00, 19.25it/s]\n",
      "100% 400/400 [00:21<00:00, 18.42it/s]\n",
      "73.70384047267356 ± 1.898557463638838\n",
      "57.184853917833834 ± 1.4473937612756802\n",
      "51.34514109863396 ± 2.4576867713171344\n",
      "68.83021323965943 ± 3.597754188682537\n"
     ]
    }
   ],
   "source": [
    "ds = \"cora\"\n",
    "noc = 7\n",
    "dims = 1433\n",
    "!python train_only_rns.py --dataset $ds --cluster_num $noc --dims $dims"
   ]
  },
  {
   "cell_type": "markdown",
   "metadata": {
    "id": "nuph40IxDjwb"
   },
   "source": [
    "**CITESEER**"
   ]
  },
  {
   "cell_type": "code",
   "execution_count": 23,
   "metadata": {
    "colab": {
     "base_uri": "https://localhost:8080/"
    },
    "id": "TnSFHoEcD3Ti",
    "outputId": "a7e7f97a-2a31-40c9-f28c-ba2ea76f95c3"
   },
   "outputs": [
    {
     "name": "stdout",
     "output_type": "stream",
     "text": [
      "Alpha: 0.5\n",
      "Threshold: 0.7\n",
      "100% 400/400 [01:03<00:00,  6.28it/s]\n",
      "100% 400/400 [01:06<00:00,  5.99it/s]\n",
      "100% 400/400 [01:07<00:00,  5.91it/s]\n",
      "100% 400/400 [01:07<00:00,  5.89it/s]\n",
      "100% 400/400 [01:07<00:00,  5.89it/s]\n",
      "100% 400/400 [01:07<00:00,  5.91it/s]\n",
      "100% 400/400 [01:07<00:00,  5.91it/s]\n",
      "100% 400/400 [01:07<00:00,  5.94it/s]\n",
      "100% 400/400 [01:07<00:00,  5.89it/s]\n",
      "100% 400/400 [01:07<00:00,  5.89it/s]\n",
      "69.49203486624586 ± 0.7394293055213669\n",
      "43.966068177957865 ± 0.8671885122405846\n",
      "43.90075211072706 ± 1.1806179715339\n",
      "61.56597116666161 ± 1.8015239029498669\n"
     ]
    }
   ],
   "source": [
    "ds = \"citeseer\"\n",
    "noc = 6\n",
    "dims = 3703\n",
    "!python train_only_rns.py --dataset $ds --cluster_num $noc --dims $dims ## without positive"
   ]
  },
  {
   "cell_type": "markdown",
   "metadata": {
    "id": "TpfyD2MyDmdp"
   },
   "source": [
    "**AMAP**"
   ]
  },
  {
   "cell_type": "code",
   "execution_count": 35,
   "metadata": {
    "colab": {
     "base_uri": "https://localhost:8080/"
    },
    "id": "Bp8d_ugND3yS",
    "outputId": "85edfe49-7f7b-45ab-e3d9-eb8db1a7c81b"
   },
   "outputs": [
    {
     "name": "stdout",
     "output_type": "stream",
     "text": [
      "Alpha: 0.5\n",
      "Threshold: 0.7\n",
      "++++++++++++++++++++++++++++++\n",
      "---details of graph dataset---\n",
      "++++++++++++++++++++++++++++++\n",
      "dataset name:    amap\n",
      "feature shape:   (7650, 745)\n",
      "label shape:     (7650,)\n",
      "adj shape:       (7650, 7650)\n",
      "undirected edge num:    119081\n",
      "category num:           8\n",
      "category distribution: \n",
      "label 0:369\n",
      "label 1:1686\n",
      "label 2:703\n",
      "label 3:915\n",
      "label 4:882\n",
      "label 5:823\n",
      "label 6:1941\n",
      "label 7:331\n",
      "++++++++++++++++++++++++++++++\n",
      "100% 400/400 [00:41<00:00,  9.68it/s]\n",
      "100% 400/400 [00:39<00:00, 10.04it/s]\n",
      "100% 400/400 [00:40<00:00,  9.87it/s]\n",
      "100% 400/400 [00:40<00:00,  9.90it/s]\n",
      "100% 400/400 [00:40<00:00,  9.82it/s]\n",
      "100% 400/400 [00:40<00:00,  9.96it/s]\n",
      "100% 400/400 [00:40<00:00,  9.80it/s]\n",
      "100% 400/400 [00:40<00:00,  9.82it/s]\n",
      "100% 400/400 [00:40<00:00,  9.76it/s]\n",
      "100% 400/400 [00:40<00:00,  9.87it/s]\n",
      "77.54117647058823 ± 0.5538057796345809\n",
      "67.01107037209005 ± 0.726490371432784\n",
      "58.44566596128334 ± 0.838635299624698\n",
      "71.88491176562086 ± 0.6519644738864849\n"
     ]
    }
   ],
   "source": [
    "ds = \"amap\"\n",
    "noc = 8\n",
    "dims = 745\n",
    "!python train_only_rns.py --dataset $ds --cluster_num $noc --dims $dims ## without positive"
   ]
  },
  {
   "cell_type": "markdown",
   "metadata": {
    "id": "Tm5sohYnDo2S"
   },
   "source": [
    "**BAT**"
   ]
  },
  {
   "cell_type": "code",
   "execution_count": 6,
   "metadata": {
    "colab": {
     "base_uri": "https://localhost:8080/"
    },
    "id": "qxQr_YqqD06J",
    "outputId": "0cab2ec3-a47b-4e73-d175-8346b0adc6c2"
   },
   "outputs": [
    {
     "name": "stdout",
     "output_type": "stream",
     "text": [
      "Alpha: 0.5\n",
      "Threshold: 0.7\n",
      "++++++++++++++++++++++++++++++\n",
      "---details of graph dataset---\n",
      "++++++++++++++++++++++++++++++\n",
      "dataset name:    bat\n",
      "feature shape:   (131, 81)\n",
      "label shape:     (131,)\n",
      "adj shape:       (131, 131)\n",
      "undirected edge num:    1038\n",
      "category num:           4\n",
      "category distribution: \n",
      "label 0:32\n",
      "label 1:32\n",
      "label 2:32\n",
      "label 3:35\n",
      "++++++++++++++++++++++++++++++\n",
      "100% 400/400 [00:04<00:00, 90.72it/s] \n",
      "100% 400/400 [00:03<00:00, 110.16it/s]\n",
      "100% 400/400 [00:03<00:00, 117.83it/s]\n",
      "100% 400/400 [00:04<00:00, 98.24it/s]\n",
      "100% 400/400 [00:03<00:00, 108.25it/s]\n",
      "100% 400/400 [00:03<00:00, 122.10it/s]\n",
      "100% 400/400 [00:03<00:00, 117.12it/s]\n",
      "100% 400/400 [00:04<00:00, 97.68it/s] \n",
      "100% 400/400 [00:03<00:00, 119.07it/s]\n",
      "100% 400/400 [00:03<00:00, 115.82it/s]\n",
      "69.16030534351145 ± 2.164495706680583\n",
      "47.65460947745521 ± 2.425032565631581\n",
      "40.548446165780774 ± 3.134523992236844\n",
      "68.21910415411419 ± 3.199487582956601\n"
     ]
    }
   ],
   "source": [
    "ds = \"bat\"\n",
    "noc = 4\n",
    "dims = 81\n",
    "!python train_only_rns.py --dataset $ds --cluster_num $noc --dims $dims ## without negative"
   ]
  },
  {
   "cell_type": "markdown",
   "metadata": {
    "id": "iVt15o1dDr46"
   },
   "source": [
    "**EAT**"
   ]
  },
  {
   "cell_type": "code",
   "execution_count": 5,
   "metadata": {
    "colab": {
     "base_uri": "https://localhost:8080/"
    },
    "id": "XMsgE_R0DxDU",
    "outputId": "45b425e7-8681-4f79-e680-751ba6e260e3"
   },
   "outputs": [
    {
     "name": "stdout",
     "output_type": "stream",
     "text": [
      "Alpha: 0.5\n",
      "Threshold: 0.7\n",
      "++++++++++++++++++++++++++++++\n",
      "---details of graph dataset---\n",
      "++++++++++++++++++++++++++++++\n",
      "dataset name:    eat\n",
      "feature shape:   (399, 203)\n",
      "label shape:     (399,)\n",
      "adj shape:       (399, 399)\n",
      "undirected edge num:    5994\n",
      "category num:           4\n",
      "category distribution: \n",
      "label 0:99\n",
      "label 1:99\n",
      "label 2:99\n",
      "label 3:102\n",
      "++++++++++++++++++++++++++++++\n",
      "100% 400/400 [00:05<00:00, 74.95it/s]\n",
      "100% 400/400 [00:05<00:00, 76.06it/s]\n",
      "100% 400/400 [00:05<00:00, 77.04it/s]\n",
      "100% 400/400 [00:04<00:00, 82.41it/s]\n",
      "100% 400/400 [00:05<00:00, 71.43it/s]\n",
      "100% 400/400 [00:04<00:00, 84.58it/s]\n",
      "100% 400/400 [00:05<00:00, 74.54it/s]\n",
      "100% 400/400 [00:05<00:00, 78.23it/s]\n",
      "100% 400/400 [00:04<00:00, 82.31it/s]\n",
      "100% 400/400 [00:05<00:00, 73.00it/s]\n",
      "56.36591478696742 ± 1.1990850841008207\n",
      "33.01392951754279 ± 1.3595685162239377\n",
      "26.05034305718679 ± 1.4439095635779675\n",
      "56.09992495948916 ± 2.3400529156946126\n"
     ]
    }
   ],
   "source": [
    "ds = \"eat\"\n",
    "noc = 4\n",
    "dims = 203\n",
    "!python train_only_rns.py --dataset $ds --cluster_num $noc --dims $dims"
   ]
  },
  {
   "cell_type": "markdown",
   "metadata": {
    "id": "tuFbuOGpDtry"
   },
   "source": [
    "**UAT**"
   ]
  },
  {
   "cell_type": "code",
   "execution_count": 19,
   "metadata": {
    "colab": {
     "base_uri": "https://localhost:8080/"
    },
    "id": "Q-EqBsFODvT4",
    "outputId": "283e24fd-c5ed-4d27-81c7-4af5d674f869"
   },
   "outputs": [
    {
     "name": "stdout",
     "output_type": "stream",
     "text": [
      "Alpha: 0.5\n",
      "Threshold: 0.7\n",
      "++++++++++++++++++++++++++++++\n",
      "---details of graph dataset---\n",
      "++++++++++++++++++++++++++++++\n",
      "dataset name:    uat\n",
      "feature shape:   (1190, 239)\n",
      "label shape:     (1190,)\n",
      "adj shape:       (1190, 1190)\n",
      "undirected edge num:    13599\n",
      "category num:           4\n",
      "category distribution: \n",
      "label 0:297\n",
      "label 1:297\n",
      "label 2:297\n",
      "label 3:299\n",
      "++++++++++++++++++++++++++++++\n",
      "100% 400/400 [00:07<00:00, 50.26it/s]\n",
      "100% 400/400 [00:06<00:00, 58.74it/s]\n",
      "100% 400/400 [00:07<00:00, 53.86it/s]\n",
      "100% 400/400 [00:06<00:00, 59.56it/s]\n",
      "100% 400/400 [00:07<00:00, 53.02it/s]\n",
      "100% 400/400 [00:06<00:00, 59.73it/s]\n",
      "100% 400/400 [00:07<00:00, 54.30it/s]\n",
      "100% 400/400 [00:07<00:00, 51.67it/s]\n",
      "100% 400/400 [00:07<00:00, 54.08it/s]\n",
      "100% 400/400 [00:07<00:00, 54.67it/s]\n",
      "50.403361344537814 ± 1.0426942769241085\n",
      "21.724919666663492 ± 1.5650839936967125\n",
      "14.843089676193216 ± 1.4750548221478097\n",
      "47.4360266343565 ± 2.9112365210806255\n"
     ]
    }
   ],
   "source": [
    "ds = \"uat\"\n",
    "noc = 4\n",
    "dims = 239\n",
    "!python train_only_rns.py --dataset $ds --cluster_num $noc --dims $dims"
   ]
  },
  {
   "cell_type": "code",
   "execution_count": null,
   "metadata": {
    "id": "y8La2nngElvB"
   },
   "outputs": [],
   "source": []
  }
 ],
 "metadata": {
  "accelerator": "GPU",
  "colab": {
   "gpuType": "T4",
   "provenance": []
  },
  "kernelspec": {
   "display_name": "Python 3 (ipykernel)",
   "language": "python",
   "name": "python3"
  },
  "language_info": {
   "codemirror_mode": {
    "name": "ipython",
    "version": 3
   },
   "file_extension": ".py",
   "mimetype": "text/x-python",
   "name": "python",
   "nbconvert_exporter": "python",
   "pygments_lexer": "ipython3",
   "version": "3.11.1"
  }
 },
 "nbformat": 4,
 "nbformat_minor": 1
}
